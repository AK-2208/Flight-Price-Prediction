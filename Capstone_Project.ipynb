{
 "cells": [
  {
   "cell_type": "markdown",
   "id": "dd763b58",
   "metadata": {},
   "source": [
    "# FLIGHT PRICE PREDICTION\n",
    "\n",
    "\n",
    "#### `Aim of this project is to build a price prediction model and find out the flight prices of each Airline for a particular journey. `"
   ]
  },
  {
   "cell_type": "markdown",
   "id": "4c4a8bea",
   "metadata": {},
   "source": [
    "# Table of Content\n",
    "\n",
    "1. **[Metadata](#Metadata)**\n",
    "2. **[Data Understanding](#data_und)**\n",
    "3. **[Train Data Cleaning](#train_data)**\n",
    "4. **[Processing columns](#train_process)**\n",
    "5. **[Test Data Cleaning](#test_data)**\n",
    "6. **[Outlier Removal](#outlier)**\n",
    "7. **[Feature Engineering](#FeaEng)**\n",
    "8. **[Train Test Split](#traintest)**\n",
    "9. **[Assumptions](#assumptions)**\n",
    "10. **[Model Building](#model)**"
   ]
  },
  {
   "cell_type": "code",
   "execution_count": 1,
   "id": "675ad709",
   "metadata": {},
   "outputs": [],
   "source": [
    "import pandas as pd \n",
    "import numpy as np \n",
    "import matplotlib.pyplot as plt\n",
    "import seaborn as sns\n",
    "import scipy.stats as stats \n",
    "from sklearn.preprocessing import StandardScaler , MinMaxScaler\n",
    "from sklearn.model_selection import train_test_split,cross_val_score\n",
    "import statsmodels.api as sma\n",
    "import statsmodels.stats.api as ssa\n",
    "import statsmodels.formula.api as sfa\n",
    "import statsmodels.stats.anova as smodels\n",
    "from scipy.stats import probplot\n",
    "from sklearn.linear_model  import LinearRegression\n",
    "from warnings import filterwarnings\n",
    "filterwarnings('ignore')"
   ]
  },
  {
   "cell_type": "code",
   "execution_count": 2,
   "id": "9175ed7d",
   "metadata": {},
   "outputs": [],
   "source": [
    "#Model Building\n",
    "from sklearn.preprocessing import StandardScaler,MinMaxScaler\n",
    "from sklearn.linear_model import LinearRegression\n",
    "from sklearn.ensemble import RandomForestRegressor\n",
    "\n",
    "from statsmodels.stats.stattools import durbin_watson\n",
    "from statsmodels.stats.outliers_influence import variance_inflation_factor\n",
    "\n",
    "from sklearn.metrics import r2_score, mean_squared_error, mean_absolute_error\n",
    "from sklearn.tree import DecisionTreeRegressor\n",
    "from sklearn.model_selection import GridSearchCV\n",
    "\n",
    "from sklearn.metrics import classification_report"
   ]
  },
  {
   "cell_type": "code",
   "execution_count": null,
   "id": "7a2a6916",
   "metadata": {},
   "outputs": [],
   "source": []
  },
  {
   "cell_type": "markdown",
   "id": "bd8e6752",
   "metadata": {},
   "source": [
    "<a id=\"Metadata\"> </a>\n",
    "# **Metadata**"
   ]
  },
  {
   "cell_type": "code",
   "execution_count": 3,
   "id": "b404d88a",
   "metadata": {},
   "outputs": [],
   "source": [
    "meta_dict={\"Airline\"        : \"The name of the airline\",\n",
    "           \"Date_of_Journey\": \"The date of the journey\",\n",
    "           \"Source\"         : \"The source from which the service begins.\",\n",
    "           \"Destination\"    : \"The destination where the service ends.\",\n",
    "           \"Route\"          : \"The route taken by the flight to reach the destination.\",\n",
    "           \"Dep_Time\"       : \"The time when the journey starts from the source.\",\n",
    "           \"Arrival_Time\"   : \"Time of arrival at the destination.\",\n",
    "           \"Duration\"       : \"Total duration of the flight.\",\n",
    "           \"Total_Stops\"    : \"Total stops between the source and destination.\",\n",
    "           \"Additional_Info\": \"Additional information about the flight Price\"\n",
    "          }"
   ]
  },
  {
   "cell_type": "code",
   "execution_count": 4,
   "id": "0799953b",
   "metadata": {},
   "outputs": [],
   "source": [
    "pd.set_option('display.max_columns',None)"
   ]
  },
  {
   "cell_type": "code",
   "execution_count": 5,
   "id": "a9941b25",
   "metadata": {
    "scrolled": false
   },
   "outputs": [
    {
     "data": {
      "text/html": [
       "<style  type=\"text/css\" >\n",
       "    #T_2235bd55_357c_11ec_9f4e_48ba4e4330afrow0_col0 {\n",
       "            text-align:  right;\n",
       "        }    #T_2235bd55_357c_11ec_9f4e_48ba4e4330afrow1_col0 {\n",
       "            text-align:  right;\n",
       "        }    #T_2235bd55_357c_11ec_9f4e_48ba4e4330afrow2_col0 {\n",
       "            text-align:  right;\n",
       "        }    #T_2235bd55_357c_11ec_9f4e_48ba4e4330afrow3_col0 {\n",
       "            text-align:  right;\n",
       "        }    #T_2235bd55_357c_11ec_9f4e_48ba4e4330afrow4_col0 {\n",
       "            text-align:  right;\n",
       "        }    #T_2235bd55_357c_11ec_9f4e_48ba4e4330afrow5_col0 {\n",
       "            text-align:  right;\n",
       "        }    #T_2235bd55_357c_11ec_9f4e_48ba4e4330afrow6_col0 {\n",
       "            text-align:  right;\n",
       "        }    #T_2235bd55_357c_11ec_9f4e_48ba4e4330afrow7_col0 {\n",
       "            text-align:  right;\n",
       "        }    #T_2235bd55_357c_11ec_9f4e_48ba4e4330afrow8_col0 {\n",
       "            text-align:  right;\n",
       "        }    #T_2235bd55_357c_11ec_9f4e_48ba4e4330afrow9_col0 {\n",
       "            text-align:  right;\n",
       "        }</style><table id=\"T_2235bd55_357c_11ec_9f4e_48ba4e4330af\" ><thead>    <tr>        <th class=\"blank level0\" ></th>        <th class=\"col_heading level0 col0\" >Column Description</th>    </tr></thead><tbody>\n",
       "                <tr>\n",
       "                        <th id=\"T_2235bd55_357c_11ec_9f4e_48ba4e4330aflevel0_row0\" class=\"row_heading level0 row0\" >Airline</th>\n",
       "                        <td id=\"T_2235bd55_357c_11ec_9f4e_48ba4e4330afrow0_col0\" class=\"data row0 col0\" >The name of the airline</td>\n",
       "            </tr>\n",
       "            <tr>\n",
       "                        <th id=\"T_2235bd55_357c_11ec_9f4e_48ba4e4330aflevel0_row1\" class=\"row_heading level0 row1\" >Date_of_Journey</th>\n",
       "                        <td id=\"T_2235bd55_357c_11ec_9f4e_48ba4e4330afrow1_col0\" class=\"data row1 col0\" >The date of the journey</td>\n",
       "            </tr>\n",
       "            <tr>\n",
       "                        <th id=\"T_2235bd55_357c_11ec_9f4e_48ba4e4330aflevel0_row2\" class=\"row_heading level0 row2\" >Source</th>\n",
       "                        <td id=\"T_2235bd55_357c_11ec_9f4e_48ba4e4330afrow2_col0\" class=\"data row2 col0\" >The source from which the service begins.</td>\n",
       "            </tr>\n",
       "            <tr>\n",
       "                        <th id=\"T_2235bd55_357c_11ec_9f4e_48ba4e4330aflevel0_row3\" class=\"row_heading level0 row3\" >Destination</th>\n",
       "                        <td id=\"T_2235bd55_357c_11ec_9f4e_48ba4e4330afrow3_col0\" class=\"data row3 col0\" >The destination where the service ends.</td>\n",
       "            </tr>\n",
       "            <tr>\n",
       "                        <th id=\"T_2235bd55_357c_11ec_9f4e_48ba4e4330aflevel0_row4\" class=\"row_heading level0 row4\" >Route</th>\n",
       "                        <td id=\"T_2235bd55_357c_11ec_9f4e_48ba4e4330afrow4_col0\" class=\"data row4 col0\" >The route taken by the flight to reach the destination.</td>\n",
       "            </tr>\n",
       "            <tr>\n",
       "                        <th id=\"T_2235bd55_357c_11ec_9f4e_48ba4e4330aflevel0_row5\" class=\"row_heading level0 row5\" >Dep_Time</th>\n",
       "                        <td id=\"T_2235bd55_357c_11ec_9f4e_48ba4e4330afrow5_col0\" class=\"data row5 col0\" >The time when the journey starts from the source.</td>\n",
       "            </tr>\n",
       "            <tr>\n",
       "                        <th id=\"T_2235bd55_357c_11ec_9f4e_48ba4e4330aflevel0_row6\" class=\"row_heading level0 row6\" >Arrival_Time</th>\n",
       "                        <td id=\"T_2235bd55_357c_11ec_9f4e_48ba4e4330afrow6_col0\" class=\"data row6 col0\" >Time of arrival at the destination.</td>\n",
       "            </tr>\n",
       "            <tr>\n",
       "                        <th id=\"T_2235bd55_357c_11ec_9f4e_48ba4e4330aflevel0_row7\" class=\"row_heading level0 row7\" >Duration</th>\n",
       "                        <td id=\"T_2235bd55_357c_11ec_9f4e_48ba4e4330afrow7_col0\" class=\"data row7 col0\" >Total duration of the flight.</td>\n",
       "            </tr>\n",
       "            <tr>\n",
       "                        <th id=\"T_2235bd55_357c_11ec_9f4e_48ba4e4330aflevel0_row8\" class=\"row_heading level0 row8\" >Total_Stops</th>\n",
       "                        <td id=\"T_2235bd55_357c_11ec_9f4e_48ba4e4330afrow8_col0\" class=\"data row8 col0\" >Total stops between the source and destination.</td>\n",
       "            </tr>\n",
       "            <tr>\n",
       "                        <th id=\"T_2235bd55_357c_11ec_9f4e_48ba4e4330aflevel0_row9\" class=\"row_heading level0 row9\" >Additional_Info</th>\n",
       "                        <td id=\"T_2235bd55_357c_11ec_9f4e_48ba4e4330afrow9_col0\" class=\"data row9 col0\" >Additional information about the flight Price</td>\n",
       "            </tr>\n",
       "    </tbody></table>"
      ],
      "text/plain": [
       "<pandas.io.formats.style.Styler at 0x213f0ef0dc0>"
      ]
     },
     "execution_count": 5,
     "metadata": {},
     "output_type": "execute_result"
    }
   ],
   "source": [
    "metadata = pd.DataFrame(meta_dict.values(), index= meta_dict.keys(),columns=['Column Description']) \n",
    "metadata.style.set_properties(**{'text-align': 'right'})"
   ]
  },
  {
   "cell_type": "markdown",
   "id": "00c313c0",
   "metadata": {},
   "source": [
    "<a id=\"data_und\"> </a>\n",
    "# **Data Understanding**"
   ]
  },
  {
   "cell_type": "markdown",
   "id": "21e3a54b",
   "metadata": {},
   "source": [
    "**Read the Train and Test Data**"
   ]
  },
  {
   "cell_type": "code",
   "execution_count": 6,
   "id": "b02c3c56",
   "metadata": {},
   "outputs": [
    {
     "data": {
      "text/html": [
       "<div>\n",
       "<style scoped>\n",
       "    .dataframe tbody tr th:only-of-type {\n",
       "        vertical-align: middle;\n",
       "    }\n",
       "\n",
       "    .dataframe tbody tr th {\n",
       "        vertical-align: top;\n",
       "    }\n",
       "\n",
       "    .dataframe thead th {\n",
       "        text-align: right;\n",
       "    }\n",
       "</style>\n",
       "<table border=\"1\" class=\"dataframe\">\n",
       "  <thead>\n",
       "    <tr style=\"text-align: right;\">\n",
       "      <th></th>\n",
       "      <th>Airline</th>\n",
       "      <th>Date_of_Journey</th>\n",
       "      <th>Source</th>\n",
       "      <th>Destination</th>\n",
       "      <th>Route</th>\n",
       "      <th>Dep_Time</th>\n",
       "      <th>Arrival_Time</th>\n",
       "      <th>Duration</th>\n",
       "      <th>Total_Stops</th>\n",
       "      <th>Additional_Info</th>\n",
       "      <th>Price</th>\n",
       "    </tr>\n",
       "  </thead>\n",
       "  <tbody>\n",
       "    <tr>\n",
       "      <th>0</th>\n",
       "      <td>IndiGo</td>\n",
       "      <td>24/03/2019</td>\n",
       "      <td>Banglore</td>\n",
       "      <td>New Delhi</td>\n",
       "      <td>BLR ? DEL</td>\n",
       "      <td>22:20</td>\n",
       "      <td>01:10 22 Mar</td>\n",
       "      <td>2h 50m</td>\n",
       "      <td>non-stop</td>\n",
       "      <td>No info</td>\n",
       "      <td>3897</td>\n",
       "    </tr>\n",
       "    <tr>\n",
       "      <th>1</th>\n",
       "      <td>Air India</td>\n",
       "      <td>1/05/2019</td>\n",
       "      <td>Kolkata</td>\n",
       "      <td>Banglore</td>\n",
       "      <td>CCU ? IXR ? BBI ? BLR</td>\n",
       "      <td>05:50</td>\n",
       "      <td>13:15</td>\n",
       "      <td>7h 25m</td>\n",
       "      <td>2 stops</td>\n",
       "      <td>No info</td>\n",
       "      <td>7662</td>\n",
       "    </tr>\n",
       "    <tr>\n",
       "      <th>2</th>\n",
       "      <td>Jet Airways</td>\n",
       "      <td>9/06/2019</td>\n",
       "      <td>Delhi</td>\n",
       "      <td>Cochin</td>\n",
       "      <td>DEL ? LKO ? BOM ? COK</td>\n",
       "      <td>09:25</td>\n",
       "      <td>04:25 10 Jun</td>\n",
       "      <td>19h</td>\n",
       "      <td>2 stops</td>\n",
       "      <td>No info</td>\n",
       "      <td>13882</td>\n",
       "    </tr>\n",
       "    <tr>\n",
       "      <th>3</th>\n",
       "      <td>IndiGo</td>\n",
       "      <td>12/05/2019</td>\n",
       "      <td>Kolkata</td>\n",
       "      <td>Banglore</td>\n",
       "      <td>CCU ? NAG ? BLR</td>\n",
       "      <td>18:05</td>\n",
       "      <td>23:30</td>\n",
       "      <td>5h 25m</td>\n",
       "      <td>1 stop</td>\n",
       "      <td>No info</td>\n",
       "      <td>6218</td>\n",
       "    </tr>\n",
       "    <tr>\n",
       "      <th>4</th>\n",
       "      <td>IndiGo</td>\n",
       "      <td>01/03/2019</td>\n",
       "      <td>Banglore</td>\n",
       "      <td>New Delhi</td>\n",
       "      <td>BLR ? NAG ? DEL</td>\n",
       "      <td>16:50</td>\n",
       "      <td>21:35</td>\n",
       "      <td>4h 45m</td>\n",
       "      <td>1 stop</td>\n",
       "      <td>No info</td>\n",
       "      <td>13302</td>\n",
       "    </tr>\n",
       "  </tbody>\n",
       "</table>\n",
       "</div>"
      ],
      "text/plain": [
       "       Airline Date_of_Journey    Source Destination                  Route  \\\n",
       "0       IndiGo      24/03/2019  Banglore   New Delhi              BLR ? DEL   \n",
       "1    Air India       1/05/2019   Kolkata    Banglore  CCU ? IXR ? BBI ? BLR   \n",
       "2  Jet Airways       9/06/2019     Delhi      Cochin  DEL ? LKO ? BOM ? COK   \n",
       "3       IndiGo      12/05/2019   Kolkata    Banglore        CCU ? NAG ? BLR   \n",
       "4       IndiGo      01/03/2019  Banglore   New Delhi        BLR ? NAG ? DEL   \n",
       "\n",
       "  Dep_Time  Arrival_Time Duration Total_Stops Additional_Info  Price  \n",
       "0    22:20  01:10 22 Mar   2h 50m    non-stop         No info   3897  \n",
       "1    05:50         13:15   7h 25m     2 stops         No info   7662  \n",
       "2    09:25  04:25 10 Jun      19h     2 stops         No info  13882  \n",
       "3    18:05         23:30   5h 25m      1 stop         No info   6218  \n",
       "4    16:50         21:35   4h 45m      1 stop         No info  13302  "
      ]
     },
     "execution_count": 6,
     "metadata": {},
     "output_type": "execute_result"
    }
   ],
   "source": [
    "train = pd.read_csv(\"Data_Train.csv\")\n",
    "train.head()"
   ]
  },
  {
   "cell_type": "code",
   "execution_count": 7,
   "id": "42a2500e",
   "metadata": {},
   "outputs": [],
   "source": [
    "#train = train.iloc[1: , :]"
   ]
  },
  {
   "cell_type": "code",
   "execution_count": 8,
   "id": "1fe6c62c",
   "metadata": {},
   "outputs": [
    {
     "data": {
      "text/html": [
       "<div>\n",
       "<style scoped>\n",
       "    .dataframe tbody tr th:only-of-type {\n",
       "        vertical-align: middle;\n",
       "    }\n",
       "\n",
       "    .dataframe tbody tr th {\n",
       "        vertical-align: top;\n",
       "    }\n",
       "\n",
       "    .dataframe thead th {\n",
       "        text-align: right;\n",
       "    }\n",
       "</style>\n",
       "<table border=\"1\" class=\"dataframe\">\n",
       "  <thead>\n",
       "    <tr style=\"text-align: right;\">\n",
       "      <th></th>\n",
       "      <th>Airline</th>\n",
       "      <th>Date_of_Journey</th>\n",
       "      <th>Source</th>\n",
       "      <th>Destination</th>\n",
       "      <th>Route</th>\n",
       "      <th>Dep_Time</th>\n",
       "      <th>Arrival_Time</th>\n",
       "      <th>Duration</th>\n",
       "      <th>Total_Stops</th>\n",
       "      <th>Additional_Info</th>\n",
       "    </tr>\n",
       "  </thead>\n",
       "  <tbody>\n",
       "    <tr>\n",
       "      <th>0</th>\n",
       "      <td>Jet Airways</td>\n",
       "      <td>6/06/2019</td>\n",
       "      <td>Delhi</td>\n",
       "      <td>Cochin</td>\n",
       "      <td>DEL ? BOM ? COK</td>\n",
       "      <td>17:30</td>\n",
       "      <td>04:25 07 Jun</td>\n",
       "      <td>10h 55m</td>\n",
       "      <td>1 stop</td>\n",
       "      <td>No info</td>\n",
       "    </tr>\n",
       "    <tr>\n",
       "      <th>1</th>\n",
       "      <td>IndiGo</td>\n",
       "      <td>12/05/2019</td>\n",
       "      <td>Kolkata</td>\n",
       "      <td>Banglore</td>\n",
       "      <td>CCU ? MAA ? BLR</td>\n",
       "      <td>06:20</td>\n",
       "      <td>10:20</td>\n",
       "      <td>4h</td>\n",
       "      <td>1 stop</td>\n",
       "      <td>No info</td>\n",
       "    </tr>\n",
       "    <tr>\n",
       "      <th>2</th>\n",
       "      <td>Jet Airways</td>\n",
       "      <td>21/05/2019</td>\n",
       "      <td>Delhi</td>\n",
       "      <td>Cochin</td>\n",
       "      <td>DEL ? BOM ? COK</td>\n",
       "      <td>19:15</td>\n",
       "      <td>19:00 22 May</td>\n",
       "      <td>23h 45m</td>\n",
       "      <td>1 stop</td>\n",
       "      <td>In-flight meal not included</td>\n",
       "    </tr>\n",
       "    <tr>\n",
       "      <th>3</th>\n",
       "      <td>Multiple carriers</td>\n",
       "      <td>21/05/2019</td>\n",
       "      <td>Delhi</td>\n",
       "      <td>Cochin</td>\n",
       "      <td>DEL ? BOM ? COK</td>\n",
       "      <td>08:00</td>\n",
       "      <td>21:00</td>\n",
       "      <td>13h</td>\n",
       "      <td>1 stop</td>\n",
       "      <td>No info</td>\n",
       "    </tr>\n",
       "    <tr>\n",
       "      <th>4</th>\n",
       "      <td>Air Asia</td>\n",
       "      <td>24/06/2019</td>\n",
       "      <td>Banglore</td>\n",
       "      <td>Delhi</td>\n",
       "      <td>BLR ? DEL</td>\n",
       "      <td>23:55</td>\n",
       "      <td>02:45 25 Jun</td>\n",
       "      <td>2h 50m</td>\n",
       "      <td>non-stop</td>\n",
       "      <td>No info</td>\n",
       "    </tr>\n",
       "  </tbody>\n",
       "</table>\n",
       "</div>"
      ],
      "text/plain": [
       "             Airline Date_of_Journey    Source Destination            Route  \\\n",
       "0        Jet Airways       6/06/2019     Delhi      Cochin  DEL ? BOM ? COK   \n",
       "1             IndiGo      12/05/2019   Kolkata    Banglore  CCU ? MAA ? BLR   \n",
       "2        Jet Airways      21/05/2019     Delhi      Cochin  DEL ? BOM ? COK   \n",
       "3  Multiple carriers      21/05/2019     Delhi      Cochin  DEL ? BOM ? COK   \n",
       "4           Air Asia      24/06/2019  Banglore       Delhi        BLR ? DEL   \n",
       "\n",
       "  Dep_Time  Arrival_Time Duration Total_Stops              Additional_Info  \n",
       "0    17:30  04:25 07 Jun  10h 55m      1 stop                      No info  \n",
       "1    06:20         10:20       4h      1 stop                      No info  \n",
       "2    19:15  19:00 22 May  23h 45m      1 stop  In-flight meal not included  \n",
       "3    08:00         21:00      13h      1 stop                      No info  \n",
       "4    23:55  02:45 25 Jun   2h 50m    non-stop                      No info  "
      ]
     },
     "execution_count": 8,
     "metadata": {},
     "output_type": "execute_result"
    }
   ],
   "source": [
    "test = pd.read_csv(\"Data_Test.csv\")\n",
    "test.head()"
   ]
  },
  {
   "cell_type": "code",
   "execution_count": 9,
   "id": "cb063d61",
   "metadata": {
    "scrolled": true
   },
   "outputs": [
    {
     "data": {
      "text/plain": [
       "((10683, 11), (2671, 10))"
      ]
     },
     "execution_count": 9,
     "metadata": {},
     "output_type": "execute_result"
    }
   ],
   "source": [
    "train.shape , test.shape"
   ]
  },
  {
   "cell_type": "code",
   "execution_count": 10,
   "id": "d4da769e",
   "metadata": {},
   "outputs": [
    {
     "name": "stdout",
     "output_type": "stream",
     "text": [
      "<class 'pandas.core.frame.DataFrame'>\n",
      "RangeIndex: 10683 entries, 0 to 10682\n",
      "Data columns (total 11 columns):\n",
      " #   Column           Non-Null Count  Dtype \n",
      "---  ------           --------------  ----- \n",
      " 0   Airline          10683 non-null  object\n",
      " 1   Date_of_Journey  10683 non-null  object\n",
      " 2   Source           10683 non-null  object\n",
      " 3   Destination      10683 non-null  object\n",
      " 4   Route            10682 non-null  object\n",
      " 5   Dep_Time         10683 non-null  object\n",
      " 6   Arrival_Time     10683 non-null  object\n",
      " 7   Duration         10683 non-null  object\n",
      " 8   Total_Stops      10682 non-null  object\n",
      " 9   Additional_Info  10683 non-null  object\n",
      " 10  Price            10683 non-null  int64 \n",
      "dtypes: int64(1), object(10)\n",
      "memory usage: 918.2+ KB\n"
     ]
    }
   ],
   "source": [
    "train.info()"
   ]
  },
  {
   "cell_type": "code",
   "execution_count": 11,
   "id": "25fa41d4",
   "metadata": {
    "scrolled": true
   },
   "outputs": [
    {
     "name": "stdout",
     "output_type": "stream",
     "text": [
      "<class 'pandas.core.frame.DataFrame'>\n",
      "RangeIndex: 2671 entries, 0 to 2670\n",
      "Data columns (total 10 columns):\n",
      " #   Column           Non-Null Count  Dtype \n",
      "---  ------           --------------  ----- \n",
      " 0   Airline          2671 non-null   object\n",
      " 1   Date_of_Journey  2671 non-null   object\n",
      " 2   Source           2671 non-null   object\n",
      " 3   Destination      2671 non-null   object\n",
      " 4   Route            2671 non-null   object\n",
      " 5   Dep_Time         2671 non-null   object\n",
      " 6   Arrival_Time     2671 non-null   object\n",
      " 7   Duration         2671 non-null   object\n",
      " 8   Total_Stops      2671 non-null   object\n",
      " 9   Additional_Info  2671 non-null   object\n",
      "dtypes: object(10)\n",
      "memory usage: 208.8+ KB\n"
     ]
    }
   ],
   "source": [
    "test.info()"
   ]
  },
  {
   "cell_type": "code",
   "execution_count": 12,
   "id": "eb6f8ea0",
   "metadata": {
    "scrolled": true
   },
   "outputs": [
    {
     "data": {
      "text/html": [
       "<div>\n",
       "<style scoped>\n",
       "    .dataframe tbody tr th:only-of-type {\n",
       "        vertical-align: middle;\n",
       "    }\n",
       "\n",
       "    .dataframe tbody tr th {\n",
       "        vertical-align: top;\n",
       "    }\n",
       "\n",
       "    .dataframe thead th {\n",
       "        text-align: right;\n",
       "    }\n",
       "</style>\n",
       "<table border=\"1\" class=\"dataframe\">\n",
       "  <thead>\n",
       "    <tr style=\"text-align: right;\">\n",
       "      <th></th>\n",
       "      <th>count</th>\n",
       "      <th>mean</th>\n",
       "      <th>std</th>\n",
       "      <th>min</th>\n",
       "      <th>25%</th>\n",
       "      <th>50%</th>\n",
       "      <th>75%</th>\n",
       "      <th>max</th>\n",
       "    </tr>\n",
       "  </thead>\n",
       "  <tbody>\n",
       "    <tr>\n",
       "      <th>Price</th>\n",
       "      <td>10683.0</td>\n",
       "      <td>9087.064121</td>\n",
       "      <td>4611.359167</td>\n",
       "      <td>1759.0</td>\n",
       "      <td>5277.0</td>\n",
       "      <td>8372.0</td>\n",
       "      <td>12373.0</td>\n",
       "      <td>79512.0</td>\n",
       "    </tr>\n",
       "  </tbody>\n",
       "</table>\n",
       "</div>"
      ],
      "text/plain": [
       "         count         mean          std     min     25%     50%      75%  \\\n",
       "Price  10683.0  9087.064121  4611.359167  1759.0  5277.0  8372.0  12373.0   \n",
       "\n",
       "           max  \n",
       "Price  79512.0  "
      ]
     },
     "execution_count": 12,
     "metadata": {},
     "output_type": "execute_result"
    }
   ],
   "source": [
    "train.describe().T"
   ]
  },
  {
   "cell_type": "code",
   "execution_count": 13,
   "id": "6ce42f91",
   "metadata": {
    "scrolled": false
   },
   "outputs": [
    {
     "data": {
      "text/html": [
       "<div>\n",
       "<style scoped>\n",
       "    .dataframe tbody tr th:only-of-type {\n",
       "        vertical-align: middle;\n",
       "    }\n",
       "\n",
       "    .dataframe tbody tr th {\n",
       "        vertical-align: top;\n",
       "    }\n",
       "\n",
       "    .dataframe thead th {\n",
       "        text-align: right;\n",
       "    }\n",
       "</style>\n",
       "<table border=\"1\" class=\"dataframe\">\n",
       "  <thead>\n",
       "    <tr style=\"text-align: right;\">\n",
       "      <th></th>\n",
       "      <th>Airline</th>\n",
       "      <th>Date_of_Journey</th>\n",
       "      <th>Source</th>\n",
       "      <th>Destination</th>\n",
       "      <th>Route</th>\n",
       "      <th>Dep_Time</th>\n",
       "      <th>Arrival_Time</th>\n",
       "      <th>Duration</th>\n",
       "      <th>Total_Stops</th>\n",
       "      <th>Additional_Info</th>\n",
       "    </tr>\n",
       "  </thead>\n",
       "  <tbody>\n",
       "    <tr>\n",
       "      <th>count</th>\n",
       "      <td>2671</td>\n",
       "      <td>2671</td>\n",
       "      <td>2671</td>\n",
       "      <td>2671</td>\n",
       "      <td>2671</td>\n",
       "      <td>2671</td>\n",
       "      <td>2671</td>\n",
       "      <td>2671</td>\n",
       "      <td>2671</td>\n",
       "      <td>2671</td>\n",
       "    </tr>\n",
       "    <tr>\n",
       "      <th>unique</th>\n",
       "      <td>11</td>\n",
       "      <td>44</td>\n",
       "      <td>5</td>\n",
       "      <td>6</td>\n",
       "      <td>100</td>\n",
       "      <td>199</td>\n",
       "      <td>704</td>\n",
       "      <td>320</td>\n",
       "      <td>5</td>\n",
       "      <td>6</td>\n",
       "    </tr>\n",
       "    <tr>\n",
       "      <th>top</th>\n",
       "      <td>Jet Airways</td>\n",
       "      <td>9/05/2019</td>\n",
       "      <td>Delhi</td>\n",
       "      <td>Cochin</td>\n",
       "      <td>DEL ? BOM ? COK</td>\n",
       "      <td>10:00</td>\n",
       "      <td>19:00</td>\n",
       "      <td>2h 50m</td>\n",
       "      <td>1 stop</td>\n",
       "      <td>No info</td>\n",
       "    </tr>\n",
       "    <tr>\n",
       "      <th>freq</th>\n",
       "      <td>897</td>\n",
       "      <td>144</td>\n",
       "      <td>1145</td>\n",
       "      <td>1145</td>\n",
       "      <td>624</td>\n",
       "      <td>62</td>\n",
       "      <td>113</td>\n",
       "      <td>122</td>\n",
       "      <td>1431</td>\n",
       "      <td>2148</td>\n",
       "    </tr>\n",
       "  </tbody>\n",
       "</table>\n",
       "</div>"
      ],
      "text/plain": [
       "            Airline Date_of_Journey Source Destination            Route  \\\n",
       "count          2671            2671   2671        2671             2671   \n",
       "unique           11              44      5           6              100   \n",
       "top     Jet Airways       9/05/2019  Delhi      Cochin  DEL ? BOM ? COK   \n",
       "freq            897             144   1145        1145              624   \n",
       "\n",
       "       Dep_Time Arrival_Time Duration Total_Stops Additional_Info  \n",
       "count      2671         2671     2671        2671            2671  \n",
       "unique      199          704      320           5               6  \n",
       "top       10:00        19:00   2h 50m      1 stop         No info  \n",
       "freq         62          113      122        1431            2148  "
      ]
     },
     "execution_count": 13,
     "metadata": {},
     "output_type": "execute_result"
    }
   ],
   "source": [
    "test.describe()"
   ]
  },
  {
   "cell_type": "code",
   "execution_count": 14,
   "id": "e8f17c8e",
   "metadata": {},
   "outputs": [
    {
     "data": {
      "text/html": [
       "<div>\n",
       "<style scoped>\n",
       "    .dataframe tbody tr th:only-of-type {\n",
       "        vertical-align: middle;\n",
       "    }\n",
       "\n",
       "    .dataframe tbody tr th {\n",
       "        vertical-align: top;\n",
       "    }\n",
       "\n",
       "    .dataframe thead th {\n",
       "        text-align: right;\n",
       "    }\n",
       "</style>\n",
       "<table border=\"1\" class=\"dataframe\">\n",
       "  <thead>\n",
       "    <tr style=\"text-align: right;\">\n",
       "      <th></th>\n",
       "      <th>Airline</th>\n",
       "      <th>Date_of_Journey</th>\n",
       "      <th>Source</th>\n",
       "      <th>Destination</th>\n",
       "      <th>Route</th>\n",
       "      <th>Dep_Time</th>\n",
       "      <th>Arrival_Time</th>\n",
       "      <th>Duration</th>\n",
       "      <th>Total_Stops</th>\n",
       "      <th>Additional_Info</th>\n",
       "    </tr>\n",
       "  </thead>\n",
       "  <tbody>\n",
       "    <tr>\n",
       "      <th>count</th>\n",
       "      <td>10683</td>\n",
       "      <td>10683</td>\n",
       "      <td>10683</td>\n",
       "      <td>10683</td>\n",
       "      <td>10682</td>\n",
       "      <td>10683</td>\n",
       "      <td>10683</td>\n",
       "      <td>10683</td>\n",
       "      <td>10682</td>\n",
       "      <td>10683</td>\n",
       "    </tr>\n",
       "    <tr>\n",
       "      <th>unique</th>\n",
       "      <td>12</td>\n",
       "      <td>44</td>\n",
       "      <td>5</td>\n",
       "      <td>6</td>\n",
       "      <td>128</td>\n",
       "      <td>222</td>\n",
       "      <td>1343</td>\n",
       "      <td>368</td>\n",
       "      <td>5</td>\n",
       "      <td>10</td>\n",
       "    </tr>\n",
       "    <tr>\n",
       "      <th>top</th>\n",
       "      <td>Jet Airways</td>\n",
       "      <td>18/05/2019</td>\n",
       "      <td>Delhi</td>\n",
       "      <td>Cochin</td>\n",
       "      <td>DEL ? BOM ? COK</td>\n",
       "      <td>18:55</td>\n",
       "      <td>19:00</td>\n",
       "      <td>2h 50m</td>\n",
       "      <td>1 stop</td>\n",
       "      <td>No info</td>\n",
       "    </tr>\n",
       "    <tr>\n",
       "      <th>freq</th>\n",
       "      <td>3849</td>\n",
       "      <td>504</td>\n",
       "      <td>4537</td>\n",
       "      <td>4537</td>\n",
       "      <td>2376</td>\n",
       "      <td>233</td>\n",
       "      <td>423</td>\n",
       "      <td>550</td>\n",
       "      <td>5625</td>\n",
       "      <td>8345</td>\n",
       "    </tr>\n",
       "  </tbody>\n",
       "</table>\n",
       "</div>"
      ],
      "text/plain": [
       "            Airline Date_of_Journey Source Destination            Route  \\\n",
       "count         10683           10683  10683       10683            10682   \n",
       "unique           12              44      5           6              128   \n",
       "top     Jet Airways      18/05/2019  Delhi      Cochin  DEL ? BOM ? COK   \n",
       "freq           3849             504   4537        4537             2376   \n",
       "\n",
       "       Dep_Time Arrival_Time Duration Total_Stops Additional_Info  \n",
       "count     10683        10683    10683       10682           10683  \n",
       "unique      222         1343      368           5              10  \n",
       "top       18:55        19:00   2h 50m      1 stop         No info  \n",
       "freq        233          423      550        5625            8345  "
      ]
     },
     "execution_count": 14,
     "metadata": {},
     "output_type": "execute_result"
    }
   ],
   "source": [
    "#Categorical Columns\n",
    "train.describe(include='object')"
   ]
  },
  {
   "cell_type": "code",
   "execution_count": 15,
   "id": "bc7b13f2",
   "metadata": {},
   "outputs": [
    {
     "data": {
      "text/html": [
       "<div>\n",
       "<style scoped>\n",
       "    .dataframe tbody tr th:only-of-type {\n",
       "        vertical-align: middle;\n",
       "    }\n",
       "\n",
       "    .dataframe tbody tr th {\n",
       "        vertical-align: top;\n",
       "    }\n",
       "\n",
       "    .dataframe thead th {\n",
       "        text-align: right;\n",
       "    }\n",
       "</style>\n",
       "<table border=\"1\" class=\"dataframe\">\n",
       "  <thead>\n",
       "    <tr style=\"text-align: right;\">\n",
       "      <th></th>\n",
       "      <th>Airline</th>\n",
       "      <th>Source</th>\n",
       "      <th>Destination</th>\n",
       "      <th>Price</th>\n",
       "      <th>Date_of_Journey</th>\n",
       "    </tr>\n",
       "  </thead>\n",
       "  <tbody>\n",
       "    <tr>\n",
       "      <th>2924</th>\n",
       "      <td>Jet Airways Business</td>\n",
       "      <td>Banglore</td>\n",
       "      <td>New Delhi</td>\n",
       "      <td>79512</td>\n",
       "      <td>01/03/2019</td>\n",
       "    </tr>\n",
       "    <tr>\n",
       "      <th>5372</th>\n",
       "      <td>Jet Airways Business</td>\n",
       "      <td>Banglore</td>\n",
       "      <td>New Delhi</td>\n",
       "      <td>62427</td>\n",
       "      <td>01/03/2019</td>\n",
       "    </tr>\n",
       "    <tr>\n",
       "      <th>10364</th>\n",
       "      <td>Jet Airways Business</td>\n",
       "      <td>Banglore</td>\n",
       "      <td>New Delhi</td>\n",
       "      <td>57209</td>\n",
       "      <td>01/03/2019</td>\n",
       "    </tr>\n",
       "    <tr>\n",
       "      <th>5439</th>\n",
       "      <td>Jet Airways</td>\n",
       "      <td>Banglore</td>\n",
       "      <td>New Delhi</td>\n",
       "      <td>54826</td>\n",
       "      <td>01/03/2019</td>\n",
       "    </tr>\n",
       "    <tr>\n",
       "      <th>2618</th>\n",
       "      <td>Jet Airways</td>\n",
       "      <td>Banglore</td>\n",
       "      <td>New Delhi</td>\n",
       "      <td>54826</td>\n",
       "      <td>18/03/2019</td>\n",
       "    </tr>\n",
       "    <tr>\n",
       "      <th>1478</th>\n",
       "      <td>Jet Airways</td>\n",
       "      <td>Banglore</td>\n",
       "      <td>New Delhi</td>\n",
       "      <td>54826</td>\n",
       "      <td>18/03/2019</td>\n",
       "    </tr>\n",
       "    <tr>\n",
       "      <th>9715</th>\n",
       "      <td>Jet Airways Business</td>\n",
       "      <td>Delhi</td>\n",
       "      <td>Cochin</td>\n",
       "      <td>52285</td>\n",
       "      <td>6/03/2019</td>\n",
       "    </tr>\n",
       "    <tr>\n",
       "      <th>657</th>\n",
       "      <td>Jet Airways Business</td>\n",
       "      <td>Banglore</td>\n",
       "      <td>New Delhi</td>\n",
       "      <td>52229</td>\n",
       "      <td>01/03/2019</td>\n",
       "    </tr>\n",
       "  </tbody>\n",
       "</table>\n",
       "</div>"
      ],
      "text/plain": [
       "                    Airline    Source Destination  Price Date_of_Journey\n",
       "2924   Jet Airways Business  Banglore   New Delhi  79512      01/03/2019\n",
       "5372   Jet Airways Business  Banglore   New Delhi  62427      01/03/2019\n",
       "10364  Jet Airways Business  Banglore   New Delhi  57209      01/03/2019\n",
       "5439            Jet Airways  Banglore   New Delhi  54826      01/03/2019\n",
       "2618            Jet Airways  Banglore   New Delhi  54826      18/03/2019\n",
       "1478            Jet Airways  Banglore   New Delhi  54826      18/03/2019\n",
       "9715   Jet Airways Business     Delhi      Cochin  52285       6/03/2019\n",
       "657    Jet Airways Business  Banglore   New Delhi  52229      01/03/2019"
      ]
     },
     "execution_count": 15,
     "metadata": {},
     "output_type": "execute_result"
    }
   ],
   "source": [
    "#Fetching Values greater than the mean to understand outliers in Target Variable\n",
    "target_outliers = train[(train['Price']>train['Price'].mean())][['Airline','Source','Destination','Price','Date_of_Journey']].sort_values(by='Price', ascending=False)\n",
    "target_outliers.head(8)"
   ]
  },
  {
   "cell_type": "markdown",
   "id": "82c84580",
   "metadata": {},
   "source": [
    "### DATA UNDERSTANDING INFERENCES:"
   ]
  },
  {
   "cell_type": "markdown",
   "id": "1a20560b",
   "metadata": {},
   "source": [
    "*\tThe given train data set contains around 10863 rows and 11 columns.\n",
    "*\tTarget variable is seem to be non-uniform, and mean and max values have a huge difference indicating towards outliers, this can be sort using transformation techniques.\n",
    "*\tJet Airways has the maximum number of flights and busiest source is Delhi.\n",
    "*\tMost of the flights have only one stopage.\n",
    "*\tAlso, it is observed that as the number of stops increase the price of the flight also increases.\n"
   ]
  },
  {
   "cell_type": "markdown",
   "id": "5b78c197",
   "metadata": {},
   "source": [
    "---"
   ]
  },
  {
   "cell_type": "markdown",
   "id": "034181e7",
   "metadata": {},
   "source": [
    "<a id=\"train_data\"> </a>\n",
    "# Train Data Cleaning"
   ]
  },
  {
   "cell_type": "markdown",
   "id": "ec0f74cf",
   "metadata": {},
   "source": [
    "**Checking For Null Values and Missing Values**"
   ]
  },
  {
   "cell_type": "code",
   "execution_count": 16,
   "id": "1886cd7f",
   "metadata": {},
   "outputs": [
    {
     "data": {
      "text/plain": [
       "Airline            0\n",
       "Date_of_Journey    0\n",
       "Source             0\n",
       "Destination        0\n",
       "Route              1\n",
       "Dep_Time           0\n",
       "Arrival_Time       0\n",
       "Duration           0\n",
       "Total_Stops        1\n",
       "Additional_Info    0\n",
       "Price              0\n",
       "dtype: int64"
      ]
     },
     "execution_count": 16,
     "metadata": {},
     "output_type": "execute_result"
    }
   ],
   "source": [
    "train.isnull().sum()"
   ]
  },
  {
   "cell_type": "code",
   "execution_count": 17,
   "id": "9093c417",
   "metadata": {},
   "outputs": [
    {
     "data": {
      "text/plain": [
       "Airline            0\n",
       "Date_of_Journey    0\n",
       "Source             0\n",
       "Destination        0\n",
       "Route              0\n",
       "Dep_Time           0\n",
       "Arrival_Time       0\n",
       "Duration           0\n",
       "Total_Stops        0\n",
       "Additional_Info    0\n",
       "dtype: int64"
      ]
     },
     "execution_count": 17,
     "metadata": {},
     "output_type": "execute_result"
    }
   ],
   "source": [
    "test.isnull().sum()  # there is no null record in test data"
   ]
  },
  {
   "cell_type": "markdown",
   "id": "329505a4",
   "metadata": {},
   "source": [
    "**Missing Values**"
   ]
  },
  {
   "cell_type": "code",
   "execution_count": 18,
   "id": "5761a0b8",
   "metadata": {
    "scrolled": true
   },
   "outputs": [
    {
     "data": {
      "text/html": [
       "<div>\n",
       "<style scoped>\n",
       "    .dataframe tbody tr th:only-of-type {\n",
       "        vertical-align: middle;\n",
       "    }\n",
       "\n",
       "    .dataframe tbody tr th {\n",
       "        vertical-align: top;\n",
       "    }\n",
       "\n",
       "    .dataframe thead th {\n",
       "        text-align: right;\n",
       "    }\n",
       "</style>\n",
       "<table border=\"1\" class=\"dataframe\">\n",
       "  <thead>\n",
       "    <tr style=\"text-align: right;\">\n",
       "      <th></th>\n",
       "      <th>Airline</th>\n",
       "      <th>Date_of_Journey</th>\n",
       "      <th>Source</th>\n",
       "      <th>Destination</th>\n",
       "      <th>Route</th>\n",
       "      <th>Dep_Time</th>\n",
       "      <th>Arrival_Time</th>\n",
       "      <th>Duration</th>\n",
       "      <th>Total_Stops</th>\n",
       "      <th>Additional_Info</th>\n",
       "      <th>Price</th>\n",
       "    </tr>\n",
       "  </thead>\n",
       "  <tbody>\n",
       "    <tr>\n",
       "      <th>9039</th>\n",
       "      <td>Air India</td>\n",
       "      <td>6/05/2019</td>\n",
       "      <td>Delhi</td>\n",
       "      <td>Cochin</td>\n",
       "      <td>NaN</td>\n",
       "      <td>09:45</td>\n",
       "      <td>09:25 07 May</td>\n",
       "      <td>23h 40m</td>\n",
       "      <td>NaN</td>\n",
       "      <td>No info</td>\n",
       "      <td>7480</td>\n",
       "    </tr>\n",
       "  </tbody>\n",
       "</table>\n",
       "</div>"
      ],
      "text/plain": [
       "        Airline Date_of_Journey Source Destination Route Dep_Time  \\\n",
       "9039  Air India       6/05/2019  Delhi      Cochin   NaN    09:45   \n",
       "\n",
       "      Arrival_Time Duration Total_Stops Additional_Info  Price  \n",
       "9039  09:25 07 May  23h 40m         NaN         No info   7480  "
      ]
     },
     "execution_count": 18,
     "metadata": {},
     "output_type": "execute_result"
    }
   ],
   "source": [
    "#Single record has both Route and Total_Stops data missing\n",
    "train[train['Route'].isnull()]"
   ]
  },
  {
   "cell_type": "markdown",
   "id": "086c6173",
   "metadata": {},
   "source": [
    "**Dropping null value since it is less than 0.1 % thus it is safe to drop the null value record .**"
   ]
  },
  {
   "cell_type": "code",
   "execution_count": 19,
   "id": "e4c785fb",
   "metadata": {},
   "outputs": [
    {
     "data": {
      "text/plain": [
       "<AxesSubplot:>"
      ]
     },
     "execution_count": 19,
     "metadata": {},
     "output_type": "execute_result"
    },
    {
     "data": {
      "image/png": "[encoded data removed]",
      "text/plain": [
       "<Figure size 360x216 with 1 Axes>"
      ]
     },
     "metadata": {
      "needs_background": "light"
     },
     "output_type": "display_data"
    }
   ],
   "source": [
    "plt.figure(figsize = (5,3))\n",
    "sns.heatmap(train.isnull(), yticklabels=False, cbar=False)"
   ]
  },
  {
   "cell_type": "code",
   "execution_count": 20,
   "id": "133faa42",
   "metadata": {},
   "outputs": [],
   "source": [
    "train.dropna(axis=0,how='any', inplace=True)"
   ]
  },
  {
   "cell_type": "markdown",
   "id": "0db06071",
   "metadata": {},
   "source": [
    "**Checking for duplicate values**"
   ]
  },
  {
   "cell_type": "code",
   "execution_count": 21,
   "id": "8693c605",
   "metadata": {
    "scrolled": false
   },
   "outputs": [
    {
     "data": {
      "text/html": [
       "<div>\n",
       "<style scoped>\n",
       "    .dataframe tbody tr th:only-of-type {\n",
       "        vertical-align: middle;\n",
       "    }\n",
       "\n",
       "    .dataframe tbody tr th {\n",
       "        vertical-align: top;\n",
       "    }\n",
       "\n",
       "    .dataframe thead th {\n",
       "        text-align: right;\n",
       "    }\n",
       "</style>\n",
       "<table border=\"1\" class=\"dataframe\">\n",
       "  <thead>\n",
       "    <tr style=\"text-align: right;\">\n",
       "      <th></th>\n",
       "      <th>Airline</th>\n",
       "      <th>Date_of_Journey</th>\n",
       "      <th>Source</th>\n",
       "      <th>Destination</th>\n",
       "      <th>Route</th>\n",
       "      <th>Dep_Time</th>\n",
       "      <th>Arrival_Time</th>\n",
       "      <th>Duration</th>\n",
       "      <th>Total_Stops</th>\n",
       "      <th>Additional_Info</th>\n",
       "      <th>Price</th>\n",
       "    </tr>\n",
       "  </thead>\n",
       "  <tbody>\n",
       "    <tr>\n",
       "      <th>683</th>\n",
       "      <td>Jet Airways</td>\n",
       "      <td>1/06/2019</td>\n",
       "      <td>Delhi</td>\n",
       "      <td>Cochin</td>\n",
       "      <td>DEL ? NAG ? BOM ? COK</td>\n",
       "      <td>14:35</td>\n",
       "      <td>04:25 02 Jun</td>\n",
       "      <td>13h 50m</td>\n",
       "      <td>2 stops</td>\n",
       "      <td>No info</td>\n",
       "      <td>13376</td>\n",
       "    </tr>\n",
       "    <tr>\n",
       "      <th>1061</th>\n",
       "      <td>Air India</td>\n",
       "      <td>21/05/2019</td>\n",
       "      <td>Delhi</td>\n",
       "      <td>Cochin</td>\n",
       "      <td>DEL ? GOI ? BOM ? COK</td>\n",
       "      <td>22:00</td>\n",
       "      <td>19:15 22 May</td>\n",
       "      <td>21h 15m</td>\n",
       "      <td>2 stops</td>\n",
       "      <td>No info</td>\n",
       "      <td>10231</td>\n",
       "    </tr>\n",
       "    <tr>\n",
       "      <th>1348</th>\n",
       "      <td>Air India</td>\n",
       "      <td>18/05/2019</td>\n",
       "      <td>Delhi</td>\n",
       "      <td>Cochin</td>\n",
       "      <td>DEL ? HYD ? BOM ? COK</td>\n",
       "      <td>17:15</td>\n",
       "      <td>19:15 19 May</td>\n",
       "      <td>26h</td>\n",
       "      <td>2 stops</td>\n",
       "      <td>No info</td>\n",
       "      <td>12392</td>\n",
       "    </tr>\n",
       "    <tr>\n",
       "      <th>1418</th>\n",
       "      <td>Jet Airways</td>\n",
       "      <td>6/06/2019</td>\n",
       "      <td>Delhi</td>\n",
       "      <td>Cochin</td>\n",
       "      <td>DEL ? JAI ? BOM ? COK</td>\n",
       "      <td>05:30</td>\n",
       "      <td>04:25 07 Jun</td>\n",
       "      <td>22h 55m</td>\n",
       "      <td>2 stops</td>\n",
       "      <td>In-flight meal not included</td>\n",
       "      <td>10368</td>\n",
       "    </tr>\n",
       "    <tr>\n",
       "      <th>1674</th>\n",
       "      <td>IndiGo</td>\n",
       "      <td>24/03/2019</td>\n",
       "      <td>Banglore</td>\n",
       "      <td>New Delhi</td>\n",
       "      <td>BLR ? DEL</td>\n",
       "      <td>18:25</td>\n",
       "      <td>21:20</td>\n",
       "      <td>2h 55m</td>\n",
       "      <td>non-stop</td>\n",
       "      <td>No info</td>\n",
       "      <td>7303</td>\n",
       "    </tr>\n",
       "    <tr>\n",
       "      <th>...</th>\n",
       "      <td>...</td>\n",
       "      <td>...</td>\n",
       "      <td>...</td>\n",
       "      <td>...</td>\n",
       "      <td>...</td>\n",
       "      <td>...</td>\n",
       "      <td>...</td>\n",
       "      <td>...</td>\n",
       "      <td>...</td>\n",
       "      <td>...</td>\n",
       "      <td>...</td>\n",
       "    </tr>\n",
       "    <tr>\n",
       "      <th>10594</th>\n",
       "      <td>Jet Airways</td>\n",
       "      <td>27/06/2019</td>\n",
       "      <td>Delhi</td>\n",
       "      <td>Cochin</td>\n",
       "      <td>DEL ? AMD ? BOM ? COK</td>\n",
       "      <td>23:05</td>\n",
       "      <td>12:35 28 Jun</td>\n",
       "      <td>13h 30m</td>\n",
       "      <td>2 stops</td>\n",
       "      <td>No info</td>\n",
       "      <td>12819</td>\n",
       "    </tr>\n",
       "    <tr>\n",
       "      <th>10616</th>\n",
       "      <td>Jet Airways</td>\n",
       "      <td>1/06/2019</td>\n",
       "      <td>Delhi</td>\n",
       "      <td>Cochin</td>\n",
       "      <td>DEL ? JAI ? BOM ? COK</td>\n",
       "      <td>09:40</td>\n",
       "      <td>12:35 02 Jun</td>\n",
       "      <td>26h 55m</td>\n",
       "      <td>2 stops</td>\n",
       "      <td>No info</td>\n",
       "      <td>13014</td>\n",
       "    </tr>\n",
       "    <tr>\n",
       "      <th>10634</th>\n",
       "      <td>Jet Airways</td>\n",
       "      <td>6/06/2019</td>\n",
       "      <td>Delhi</td>\n",
       "      <td>Cochin</td>\n",
       "      <td>DEL ? JAI ? BOM ? COK</td>\n",
       "      <td>09:40</td>\n",
       "      <td>12:35 07 Jun</td>\n",
       "      <td>26h 55m</td>\n",
       "      <td>2 stops</td>\n",
       "      <td>In-flight meal not included</td>\n",
       "      <td>11733</td>\n",
       "    </tr>\n",
       "    <tr>\n",
       "      <th>10672</th>\n",
       "      <td>Jet Airways</td>\n",
       "      <td>27/06/2019</td>\n",
       "      <td>Delhi</td>\n",
       "      <td>Cochin</td>\n",
       "      <td>DEL ? AMD ? BOM ? COK</td>\n",
       "      <td>23:05</td>\n",
       "      <td>19:00 28 Jun</td>\n",
       "      <td>19h 55m</td>\n",
       "      <td>2 stops</td>\n",
       "      <td>In-flight meal not included</td>\n",
       "      <td>11150</td>\n",
       "    </tr>\n",
       "    <tr>\n",
       "      <th>10673</th>\n",
       "      <td>Jet Airways</td>\n",
       "      <td>27/05/2019</td>\n",
       "      <td>Delhi</td>\n",
       "      <td>Cochin</td>\n",
       "      <td>DEL ? AMD ? BOM ? COK</td>\n",
       "      <td>13:25</td>\n",
       "      <td>04:25 28 May</td>\n",
       "      <td>15h</td>\n",
       "      <td>2 stops</td>\n",
       "      <td>No info</td>\n",
       "      <td>16704</td>\n",
       "    </tr>\n",
       "  </tbody>\n",
       "</table>\n",
       "<p>220 rows × 11 columns</p>\n",
       "</div>"
      ],
      "text/plain": [
       "           Airline Date_of_Journey    Source Destination  \\\n",
       "683    Jet Airways       1/06/2019     Delhi      Cochin   \n",
       "1061     Air India      21/05/2019     Delhi      Cochin   \n",
       "1348     Air India      18/05/2019     Delhi      Cochin   \n",
       "1418   Jet Airways       6/06/2019     Delhi      Cochin   \n",
       "1674        IndiGo      24/03/2019  Banglore   New Delhi   \n",
       "...            ...             ...       ...         ...   \n",
       "10594  Jet Airways      27/06/2019     Delhi      Cochin   \n",
       "10616  Jet Airways       1/06/2019     Delhi      Cochin   \n",
       "10634  Jet Airways       6/06/2019     Delhi      Cochin   \n",
       "10672  Jet Airways      27/06/2019     Delhi      Cochin   \n",
       "10673  Jet Airways      27/05/2019     Delhi      Cochin   \n",
       "\n",
       "                       Route Dep_Time  Arrival_Time Duration Total_Stops  \\\n",
       "683    DEL ? NAG ? BOM ? COK    14:35  04:25 02 Jun  13h 50m     2 stops   \n",
       "1061   DEL ? GOI ? BOM ? COK    22:00  19:15 22 May  21h 15m     2 stops   \n",
       "1348   DEL ? HYD ? BOM ? COK    17:15  19:15 19 May      26h     2 stops   \n",
       "1418   DEL ? JAI ? BOM ? COK    05:30  04:25 07 Jun  22h 55m     2 stops   \n",
       "1674               BLR ? DEL    18:25         21:20   2h 55m    non-stop   \n",
       "...                      ...      ...           ...      ...         ...   \n",
       "10594  DEL ? AMD ? BOM ? COK    23:05  12:35 28 Jun  13h 30m     2 stops   \n",
       "10616  DEL ? JAI ? BOM ? COK    09:40  12:35 02 Jun  26h 55m     2 stops   \n",
       "10634  DEL ? JAI ? BOM ? COK    09:40  12:35 07 Jun  26h 55m     2 stops   \n",
       "10672  DEL ? AMD ? BOM ? COK    23:05  19:00 28 Jun  19h 55m     2 stops   \n",
       "10673  DEL ? AMD ? BOM ? COK    13:25  04:25 28 May      15h     2 stops   \n",
       "\n",
       "                   Additional_Info  Price  \n",
       "683                        No info  13376  \n",
       "1061                       No info  10231  \n",
       "1348                       No info  12392  \n",
       "1418   In-flight meal not included  10368  \n",
       "1674                       No info   7303  \n",
       "...                            ...    ...  \n",
       "10594                      No info  12819  \n",
       "10616                      No info  13014  \n",
       "10634  In-flight meal not included  11733  \n",
       "10672  In-flight meal not included  11150  \n",
       "10673                      No info  16704  \n",
       "\n",
       "[220 rows x 11 columns]"
      ]
     },
     "execution_count": 21,
     "metadata": {},
     "output_type": "execute_result"
    }
   ],
   "source": [
    "train[train.duplicated()]"
   ]
  },
  {
   "cell_type": "markdown",
   "id": "ff020091",
   "metadata": {},
   "source": [
    "**Removing duplicate records from the dataset**"
   ]
  },
  {
   "cell_type": "code",
   "execution_count": 22,
   "id": "1cd68ae1",
   "metadata": {},
   "outputs": [
    {
     "data": {
      "text/plain": [
       "(10462, 11)"
      ]
     },
     "execution_count": 22,
     "metadata": {},
     "output_type": "execute_result"
    }
   ],
   "source": [
    "train.drop_duplicates(keep='first', inplace = True)\n",
    "#Difference in Shape\n",
    "train.shape"
   ]
  },
  {
   "cell_type": "code",
   "execution_count": 23,
   "id": "1e6fcb65",
   "metadata": {},
   "outputs": [
    {
     "data": {
      "text/plain": [
       "False"
      ]
     },
     "execution_count": 23,
     "metadata": {},
     "output_type": "execute_result"
    }
   ],
   "source": [
    "#Checking Null values in Cleaned Data\n",
    "train.isnull().sum().any()"
   ]
  },
  {
   "cell_type": "markdown",
   "id": "1a30895a",
   "metadata": {},
   "source": [
    "<a id=\"train_process\"> </a>\n",
    "# Processing columns"
   ]
  },
  {
   "cell_type": "code",
   "execution_count": 24,
   "id": "c58063b9",
   "metadata": {
    "scrolled": true
   },
   "outputs": [
    {
     "data": {
      "text/plain": [
       "Index(['Airline', 'Date_of_Journey', 'Source', 'Destination', 'Route',\n",
       "       'Dep_Time', 'Arrival_Time', 'Duration', 'Total_Stops',\n",
       "       'Additional_Info', 'Price'],\n",
       "      dtype='object')"
      ]
     },
     "execution_count": 24,
     "metadata": {},
     "output_type": "execute_result"
    }
   ],
   "source": [
    "train.columns"
   ]
  },
  {
   "cell_type": "markdown",
   "id": "7b510468",
   "metadata": {},
   "source": [
    "**Duration Column**"
   ]
  },
  {
   "cell_type": "code",
   "execution_count": 25,
   "id": "82eae0d0",
   "metadata": {},
   "outputs": [],
   "source": [
    "train['Duration']=train['Duration'].str.replace('h','*1').str.replace(\" \",\"+\").str.replace('m','/60').apply(eval)"
   ]
  },
  {
   "cell_type": "markdown",
   "id": "e447fc4d",
   "metadata": {},
   "source": [
    "**Total_Stops Column**"
   ]
  },
  {
   "cell_type": "code",
   "execution_count": 26,
   "id": "a3ab2ad7",
   "metadata": {},
   "outputs": [],
   "source": [
    "stops_dict = {'non-stop':0,'1 stop':1,'2 stops':2,'3 stops':3,'4 stops':4}"
   ]
  },
  {
   "cell_type": "code",
   "execution_count": 27,
   "id": "32f943b8",
   "metadata": {},
   "outputs": [],
   "source": [
    "train['Total_Stops']=train['Total_Stops'].map(stops_dict)"
   ]
  },
  {
   "cell_type": "markdown",
   "id": "e21cc5a4",
   "metadata": {},
   "source": [
    "**Extracting Month from the Date**"
   ]
  },
  {
   "cell_type": "code",
   "execution_count": 28,
   "id": "0816f34c",
   "metadata": {},
   "outputs": [
    {
     "data": {
      "text/plain": [
       "array(['03', '05', '06', '04'], dtype=object)"
      ]
     },
     "execution_count": 28,
     "metadata": {},
     "output_type": "execute_result"
    }
   ],
   "source": [
    "train[\"Date\"] = train['Date_of_Journey'].str.split('/').str[0].astype(int)\n",
    "train[\"Month\"] = train['Date_of_Journey'].str.split('/').str[1].astype('object')\n",
    "train[\"Month\"].unique()"
   ]
  },
  {
   "cell_type": "markdown",
   "id": "7813522b",
   "metadata": {},
   "source": [
    "**Converting Date_of_Journey into DateTime from object**"
   ]
  },
  {
   "cell_type": "code",
   "execution_count": 29,
   "id": "e6b7ce67",
   "metadata": {
    "scrolled": false
   },
   "outputs": [
    {
     "data": {
      "text/plain": [
       "0   2019-03-24\n",
       "1   2019-05-01\n",
       "2   2019-06-09\n",
       "3   2019-05-12\n",
       "4   2019-03-01\n",
       "Name: Date_of_Journey, dtype: datetime64[ns]"
      ]
     },
     "execution_count": 29,
     "metadata": {},
     "output_type": "execute_result"
    }
   ],
   "source": [
    "train['Date_of_Journey'] = pd.to_datetime(train['Date_of_Journey'], format='%d/%m/%Y')\n",
    "train['Date_of_Journey'].head()"
   ]
  },
  {
   "cell_type": "markdown",
   "id": "af414441",
   "metadata": {},
   "source": [
    "**Extracting Days of Week from the Date Given**"
   ]
  },
  {
   "cell_type": "code",
   "execution_count": 30,
   "id": "60e487bc",
   "metadata": {
    "scrolled": true
   },
   "outputs": [],
   "source": [
    "train['Day'] = train['Date_of_Journey'].dt.day_name() # for integer .dayofweek / weekday"
   ]
  },
  {
   "cell_type": "code",
   "execution_count": 31,
   "id": "11a7acdf",
   "metadata": {},
   "outputs": [
    {
     "data": {
      "text/plain": [
       "0       Sunday\n",
       "1    Wednesday\n",
       "2       Sunday\n",
       "3       Sunday\n",
       "4       Friday\n",
       "Name: Day, dtype: object"
      ]
     },
     "execution_count": 31,
     "metadata": {},
     "output_type": "execute_result"
    }
   ],
   "source": [
    "train['Day'].head()"
   ]
  },
  {
   "cell_type": "markdown",
   "id": "44a1f468",
   "metadata": {},
   "source": [
    "**Additional Info**"
   ]
  },
  {
   "cell_type": "code",
   "execution_count": 32,
   "id": "8b758cc6",
   "metadata": {},
   "outputs": [],
   "source": [
    "train['Additional_Info'].replace('No Info','No info',inplace=True)"
   ]
  },
  {
   "cell_type": "code",
   "execution_count": 33,
   "id": "811fae89",
   "metadata": {},
   "outputs": [
    {
     "data": {
      "text/plain": [
       "No info                         78.235519\n",
       "In-flight meal not included     18.409482\n",
       "No check-in baggage included     3.039572\n",
       "1 Long layover                   0.181610\n",
       "Change airports                  0.066909\n",
       "Business class                   0.038234\n",
       "Red-eye flight                   0.009558\n",
       "1 Short layover                  0.009558\n",
       "2 Long layover                   0.009558\n",
       "Name: Additional_Info, dtype: float64"
      ]
     },
     "execution_count": 33,
     "metadata": {},
     "output_type": "execute_result"
    }
   ],
   "source": [
    "train['Additional_Info'].value_counts(1)*100"
   ]
  },
  {
   "cell_type": "code",
   "execution_count": 34,
   "id": "cddf8577",
   "metadata": {},
   "outputs": [],
   "source": [
    "# Even though Additional info is important it is not giving me sufficient info.\n",
    "# lets check the significance using p value ."
   ]
  },
  {
   "cell_type": "markdown",
   "id": "0390d4d6",
   "metadata": {},
   "source": [
    "**Validating the significance of Additional Info using Statistical test**"
   ]
  },
  {
   "cell_type": "code",
   "execution_count": 35,
   "id": "9d83bfa0",
   "metadata": {},
   "outputs": [],
   "source": [
    "#ho: Additional Info has no effect on Price \n",
    "#h1: Additional Info has an effect on Price"
   ]
  },
  {
   "cell_type": "code",
   "execution_count": 36,
   "id": "87616e65",
   "metadata": {},
   "outputs": [
    {
     "data": {
      "text/html": [
       "<div>\n",
       "<style scoped>\n",
       "    .dataframe tbody tr th:only-of-type {\n",
       "        vertical-align: middle;\n",
       "    }\n",
       "\n",
       "    .dataframe tbody tr th {\n",
       "        vertical-align: top;\n",
       "    }\n",
       "\n",
       "    .dataframe thead th {\n",
       "        text-align: right;\n",
       "    }\n",
       "</style>\n",
       "<table border=\"1\" class=\"dataframe\">\n",
       "  <thead>\n",
       "    <tr style=\"text-align: right;\">\n",
       "      <th></th>\n",
       "      <th>df</th>\n",
       "      <th>sum_sq</th>\n",
       "      <th>mean_sq</th>\n",
       "      <th>F</th>\n",
       "      <th>PR(&gt;F)</th>\n",
       "    </tr>\n",
       "  </thead>\n",
       "  <tbody>\n",
       "    <tr>\n",
       "      <th>Additional_Info</th>\n",
       "      <td>8.0</td>\n",
       "      <td>2.299041e+10</td>\n",
       "      <td>2.873801e+09</td>\n",
       "      <td>149.628846</td>\n",
       "      <td>2.083903e-239</td>\n",
       "    </tr>\n",
       "    <tr>\n",
       "      <th>Residual</th>\n",
       "      <td>10453.0</td>\n",
       "      <td>2.007624e+11</td>\n",
       "      <td>1.920620e+07</td>\n",
       "      <td>NaN</td>\n",
       "      <td>NaN</td>\n",
       "    </tr>\n",
       "  </tbody>\n",
       "</table>\n",
       "</div>"
      ],
      "text/plain": [
       "                      df        sum_sq       mean_sq           F  \\\n",
       "Additional_Info      8.0  2.299041e+10  2.873801e+09  149.628846   \n",
       "Residual         10453.0  2.007624e+11  1.920620e+07         NaN   \n",
       "\n",
       "                        PR(>F)  \n",
       "Additional_Info  2.083903e-239  \n",
       "Residual                   NaN  "
      ]
     },
     "execution_count": 36,
     "metadata": {},
     "output_type": "execute_result"
    }
   ],
   "source": [
    "model= sfa.ols('Price ~ Additional_Info' , data = train).fit()\n",
    "smodels.anova_lm(model)"
   ]
  },
  {
   "cell_type": "code",
   "execution_count": 37,
   "id": "94b931e6",
   "metadata": {},
   "outputs": [],
   "source": [
    "# Since P value is less than 0.05 , we reject that Additional info has no effect."
   ]
  },
  {
   "cell_type": "code",
   "execution_count": 38,
   "id": "9b055567",
   "metadata": {},
   "outputs": [],
   "source": [
    "train['Info']=['no_info' if x == 'No info' else 'no_meal' if x=='In-flight meal not included' else 'others' for x in train['Additional_Info']]"
   ]
  },
  {
   "cell_type": "code",
   "execution_count": 39,
   "id": "9d053a2c",
   "metadata": {},
   "outputs": [
    {
     "data": {
      "text/plain": [
       "no_info    78.235519\n",
       "no_meal    18.409482\n",
       "others      3.354999\n",
       "Name: Info, dtype: float64"
      ]
     },
     "execution_count": 39,
     "metadata": {},
     "output_type": "execute_result"
    }
   ],
   "source": [
    "train['Info'].value_counts(1)*100"
   ]
  },
  {
   "cell_type": "code",
   "execution_count": 40,
   "id": "6c26fd4a",
   "metadata": {},
   "outputs": [],
   "source": [
    "train[\"Airline\"].replace({'Multiple carriers Premium economy':'Other', \n",
    "                                                        'Jet Airways Business':'Other',\n",
    "                                                        'Vistara Premium economy':'Other',\n",
    "                                                        'Trujet':'Other'},inplace=True)"
   ]
  },
  {
   "cell_type": "code",
   "execution_count": 41,
   "id": "92b3d4c5",
   "metadata": {
    "scrolled": false
   },
   "outputs": [
    {
     "data": {
      "text/html": [
       "<div>\n",
       "<style scoped>\n",
       "    .dataframe tbody tr th:only-of-type {\n",
       "        vertical-align: middle;\n",
       "    }\n",
       "\n",
       "    .dataframe tbody tr th {\n",
       "        vertical-align: top;\n",
       "    }\n",
       "\n",
       "    .dataframe thead th {\n",
       "        text-align: right;\n",
       "    }\n",
       "</style>\n",
       "<table border=\"1\" class=\"dataframe\">\n",
       "  <thead>\n",
       "    <tr style=\"text-align: right;\">\n",
       "      <th></th>\n",
       "      <th>Airline</th>\n",
       "      <th>Date_of_Journey</th>\n",
       "      <th>Source</th>\n",
       "      <th>Destination</th>\n",
       "      <th>Route</th>\n",
       "      <th>Dep_Time</th>\n",
       "      <th>Arrival_Time</th>\n",
       "      <th>Duration</th>\n",
       "      <th>Total_Stops</th>\n",
       "      <th>Additional_Info</th>\n",
       "      <th>Price</th>\n",
       "      <th>Date</th>\n",
       "      <th>Month</th>\n",
       "      <th>Day</th>\n",
       "      <th>Info</th>\n",
       "    </tr>\n",
       "  </thead>\n",
       "  <tbody>\n",
       "    <tr>\n",
       "      <th>0</th>\n",
       "      <td>IndiGo</td>\n",
       "      <td>2019-03-24</td>\n",
       "      <td>Banglore</td>\n",
       "      <td>New Delhi</td>\n",
       "      <td>BLR ? DEL</td>\n",
       "      <td>22:20</td>\n",
       "      <td>01:10 22 Mar</td>\n",
       "      <td>2.833333</td>\n",
       "      <td>0</td>\n",
       "      <td>No info</td>\n",
       "      <td>3897</td>\n",
       "      <td>24</td>\n",
       "      <td>03</td>\n",
       "      <td>Sunday</td>\n",
       "      <td>no_info</td>\n",
       "    </tr>\n",
       "    <tr>\n",
       "      <th>1</th>\n",
       "      <td>Air India</td>\n",
       "      <td>2019-05-01</td>\n",
       "      <td>Kolkata</td>\n",
       "      <td>Banglore</td>\n",
       "      <td>CCU ? IXR ? BBI ? BLR</td>\n",
       "      <td>05:50</td>\n",
       "      <td>13:15</td>\n",
       "      <td>7.416667</td>\n",
       "      <td>2</td>\n",
       "      <td>No info</td>\n",
       "      <td>7662</td>\n",
       "      <td>1</td>\n",
       "      <td>05</td>\n",
       "      <td>Wednesday</td>\n",
       "      <td>no_info</td>\n",
       "    </tr>\n",
       "    <tr>\n",
       "      <th>2</th>\n",
       "      <td>Jet Airways</td>\n",
       "      <td>2019-06-09</td>\n",
       "      <td>Delhi</td>\n",
       "      <td>Cochin</td>\n",
       "      <td>DEL ? LKO ? BOM ? COK</td>\n",
       "      <td>09:25</td>\n",
       "      <td>04:25 10 Jun</td>\n",
       "      <td>19.000000</td>\n",
       "      <td>2</td>\n",
       "      <td>No info</td>\n",
       "      <td>13882</td>\n",
       "      <td>9</td>\n",
       "      <td>06</td>\n",
       "      <td>Sunday</td>\n",
       "      <td>no_info</td>\n",
       "    </tr>\n",
       "    <tr>\n",
       "      <th>3</th>\n",
       "      <td>IndiGo</td>\n",
       "      <td>2019-05-12</td>\n",
       "      <td>Kolkata</td>\n",
       "      <td>Banglore</td>\n",
       "      <td>CCU ? NAG ? BLR</td>\n",
       "      <td>18:05</td>\n",
       "      <td>23:30</td>\n",
       "      <td>5.416667</td>\n",
       "      <td>1</td>\n",
       "      <td>No info</td>\n",
       "      <td>6218</td>\n",
       "      <td>12</td>\n",
       "      <td>05</td>\n",
       "      <td>Sunday</td>\n",
       "      <td>no_info</td>\n",
       "    </tr>\n",
       "    <tr>\n",
       "      <th>4</th>\n",
       "      <td>IndiGo</td>\n",
       "      <td>2019-03-01</td>\n",
       "      <td>Banglore</td>\n",
       "      <td>New Delhi</td>\n",
       "      <td>BLR ? NAG ? DEL</td>\n",
       "      <td>16:50</td>\n",
       "      <td>21:35</td>\n",
       "      <td>4.750000</td>\n",
       "      <td>1</td>\n",
       "      <td>No info</td>\n",
       "      <td>13302</td>\n",
       "      <td>1</td>\n",
       "      <td>03</td>\n",
       "      <td>Friday</td>\n",
       "      <td>no_info</td>\n",
       "    </tr>\n",
       "  </tbody>\n",
       "</table>\n",
       "</div>"
      ],
      "text/plain": [
       "       Airline Date_of_Journey    Source Destination                  Route  \\\n",
       "0       IndiGo      2019-03-24  Banglore   New Delhi              BLR ? DEL   \n",
       "1    Air India      2019-05-01   Kolkata    Banglore  CCU ? IXR ? BBI ? BLR   \n",
       "2  Jet Airways      2019-06-09     Delhi      Cochin  DEL ? LKO ? BOM ? COK   \n",
       "3       IndiGo      2019-05-12   Kolkata    Banglore        CCU ? NAG ? BLR   \n",
       "4       IndiGo      2019-03-01  Banglore   New Delhi        BLR ? NAG ? DEL   \n",
       "\n",
       "  Dep_Time  Arrival_Time   Duration  Total_Stops Additional_Info  Price  Date  \\\n",
       "0    22:20  01:10 22 Mar   2.833333            0         No info   3897    24   \n",
       "1    05:50         13:15   7.416667            2         No info   7662     1   \n",
       "2    09:25  04:25 10 Jun  19.000000            2         No info  13882     9   \n",
       "3    18:05         23:30   5.416667            1         No info   6218    12   \n",
       "4    16:50         21:35   4.750000            1         No info  13302     1   \n",
       "\n",
       "  Month        Day     Info  \n",
       "0    03     Sunday  no_info  \n",
       "1    05  Wednesday  no_info  \n",
       "2    06     Sunday  no_info  \n",
       "3    05     Sunday  no_info  \n",
       "4    03     Friday  no_info  "
      ]
     },
     "execution_count": 41,
     "metadata": {},
     "output_type": "execute_result"
    }
   ],
   "source": [
    "train.head()"
   ]
  },
  {
   "cell_type": "markdown",
   "id": "1d4ced72",
   "metadata": {},
   "source": [
    "**Creating a copy of prepared data and dropping Columns that are non needed**"
   ]
  },
  {
   "cell_type": "code",
   "execution_count": 42,
   "id": "0163d104",
   "metadata": {},
   "outputs": [],
   "source": [
    "df_prepared=train.copy()"
   ]
  },
  {
   "cell_type": "code",
   "execution_count": 43,
   "id": "a422b9a6",
   "metadata": {},
   "outputs": [
    {
     "data": {
      "text/plain": [
       "Index(['Airline', 'Date_of_Journey', 'Source', 'Destination', 'Route',\n",
       "       'Dep_Time', 'Arrival_Time', 'Duration', 'Total_Stops',\n",
       "       'Additional_Info', 'Price', 'Date', 'Month', 'Day', 'Info'],\n",
       "      dtype='object')"
      ]
     },
     "execution_count": 43,
     "metadata": {},
     "output_type": "execute_result"
    }
   ],
   "source": [
    "df_prepared.columns  # dropping columns that are not needed"
   ]
  },
  {
   "cell_type": "code",
   "execution_count": 44,
   "id": "5cb2f96d",
   "metadata": {},
   "outputs": [],
   "source": [
    "df_prepared.drop(['Date_of_Journey','Route','Dep_Time','Arrival_Time','Additional_Info','Date'] , axis=1 , inplace=True)"
   ]
  },
  {
   "cell_type": "code",
   "execution_count": 45,
   "id": "c059c6b4",
   "metadata": {},
   "outputs": [
    {
     "data": {
      "text/html": [
       "<div>\n",
       "<style scoped>\n",
       "    .dataframe tbody tr th:only-of-type {\n",
       "        vertical-align: middle;\n",
       "    }\n",
       "\n",
       "    .dataframe tbody tr th {\n",
       "        vertical-align: top;\n",
       "    }\n",
       "\n",
       "    .dataframe thead th {\n",
       "        text-align: right;\n",
       "    }\n",
       "</style>\n",
       "<table border=\"1\" class=\"dataframe\">\n",
       "  <thead>\n",
       "    <tr style=\"text-align: right;\">\n",
       "      <th></th>\n",
       "      <th>Airline</th>\n",
       "      <th>Source</th>\n",
       "      <th>Destination</th>\n",
       "      <th>Duration</th>\n",
       "      <th>Total_Stops</th>\n",
       "      <th>Price</th>\n",
       "      <th>Month</th>\n",
       "      <th>Day</th>\n",
       "      <th>Info</th>\n",
       "    </tr>\n",
       "  </thead>\n",
       "  <tbody>\n",
       "    <tr>\n",
       "      <th>0</th>\n",
       "      <td>IndiGo</td>\n",
       "      <td>Banglore</td>\n",
       "      <td>New Delhi</td>\n",
       "      <td>2.833333</td>\n",
       "      <td>0</td>\n",
       "      <td>3897</td>\n",
       "      <td>03</td>\n",
       "      <td>Sunday</td>\n",
       "      <td>no_info</td>\n",
       "    </tr>\n",
       "    <tr>\n",
       "      <th>1</th>\n",
       "      <td>Air India</td>\n",
       "      <td>Kolkata</td>\n",
       "      <td>Banglore</td>\n",
       "      <td>7.416667</td>\n",
       "      <td>2</td>\n",
       "      <td>7662</td>\n",
       "      <td>05</td>\n",
       "      <td>Wednesday</td>\n",
       "      <td>no_info</td>\n",
       "    </tr>\n",
       "    <tr>\n",
       "      <th>2</th>\n",
       "      <td>Jet Airways</td>\n",
       "      <td>Delhi</td>\n",
       "      <td>Cochin</td>\n",
       "      <td>19.000000</td>\n",
       "      <td>2</td>\n",
       "      <td>13882</td>\n",
       "      <td>06</td>\n",
       "      <td>Sunday</td>\n",
       "      <td>no_info</td>\n",
       "    </tr>\n",
       "    <tr>\n",
       "      <th>3</th>\n",
       "      <td>IndiGo</td>\n",
       "      <td>Kolkata</td>\n",
       "      <td>Banglore</td>\n",
       "      <td>5.416667</td>\n",
       "      <td>1</td>\n",
       "      <td>6218</td>\n",
       "      <td>05</td>\n",
       "      <td>Sunday</td>\n",
       "      <td>no_info</td>\n",
       "    </tr>\n",
       "    <tr>\n",
       "      <th>4</th>\n",
       "      <td>IndiGo</td>\n",
       "      <td>Banglore</td>\n",
       "      <td>New Delhi</td>\n",
       "      <td>4.750000</td>\n",
       "      <td>1</td>\n",
       "      <td>13302</td>\n",
       "      <td>03</td>\n",
       "      <td>Friday</td>\n",
       "      <td>no_info</td>\n",
       "    </tr>\n",
       "  </tbody>\n",
       "</table>\n",
       "</div>"
      ],
      "text/plain": [
       "       Airline    Source Destination   Duration  Total_Stops  Price Month  \\\n",
       "0       IndiGo  Banglore   New Delhi   2.833333            0   3897    03   \n",
       "1    Air India   Kolkata    Banglore   7.416667            2   7662    05   \n",
       "2  Jet Airways     Delhi      Cochin  19.000000            2  13882    06   \n",
       "3       IndiGo   Kolkata    Banglore   5.416667            1   6218    05   \n",
       "4       IndiGo  Banglore   New Delhi   4.750000            1  13302    03   \n",
       "\n",
       "         Day     Info  \n",
       "0     Sunday  no_info  \n",
       "1  Wednesday  no_info  \n",
       "2     Sunday  no_info  \n",
       "3     Sunday  no_info  \n",
       "4     Friday  no_info  "
      ]
     },
     "execution_count": 45,
     "metadata": {},
     "output_type": "execute_result"
    }
   ],
   "source": [
    "df_prepared.head()"
   ]
  },
  {
   "cell_type": "code",
   "execution_count": 46,
   "id": "6de45c3d",
   "metadata": {},
   "outputs": [
    {
     "data": {
      "text/plain": [
       "Airline        0\n",
       "Source         0\n",
       "Destination    0\n",
       "Duration       0\n",
       "Total_Stops    0\n",
       "Price          0\n",
       "Month          0\n",
       "Day            0\n",
       "Info           0\n",
       "dtype: int64"
      ]
     },
     "execution_count": 46,
     "metadata": {},
     "output_type": "execute_result"
    }
   ],
   "source": [
    "df_prepared.isnull().sum()"
   ]
  },
  {
   "cell_type": "markdown",
   "id": "3139699f",
   "metadata": {},
   "source": [
    "<a id=\"outlier\"> </a>\n",
    "# **Outlier Removal**"
   ]
  },
  {
   "cell_type": "markdown",
   "id": "b8725db1",
   "metadata": {},
   "source": [
    "**Now Removing the Outliers from the prepared Data and creating a dataframe without outliers**"
   ]
  },
  {
   "cell_type": "code",
   "execution_count": 47,
   "id": "7854ae4d",
   "metadata": {},
   "outputs": [],
   "source": [
    "Q1 = df_prepared.quantile(0.25)\n",
    "Q3 = df_prepared.quantile(0.75)\n",
    "\n",
    "IQR = Q3-Q1\n",
    "\n",
    "ll = Q1-1.5*IQR\n",
    "ul = Q3+1.5*IQR "
   ]
  },
  {
   "cell_type": "code",
   "execution_count": 48,
   "id": "28815543",
   "metadata": {},
   "outputs": [
    {
     "data": {
      "text/html": [
       "<div>\n",
       "<style scoped>\n",
       "    .dataframe tbody tr th:only-of-type {\n",
       "        vertical-align: middle;\n",
       "    }\n",
       "\n",
       "    .dataframe tbody tr th {\n",
       "        vertical-align: top;\n",
       "    }\n",
       "\n",
       "    .dataframe thead th {\n",
       "        text-align: right;\n",
       "    }\n",
       "</style>\n",
       "<table border=\"1\" class=\"dataframe\">\n",
       "  <thead>\n",
       "    <tr style=\"text-align: right;\">\n",
       "      <th></th>\n",
       "      <th>Airline</th>\n",
       "      <th>Source</th>\n",
       "      <th>Destination</th>\n",
       "      <th>Duration</th>\n",
       "      <th>Total_Stops</th>\n",
       "      <th>Price</th>\n",
       "      <th>Month</th>\n",
       "      <th>Day</th>\n",
       "      <th>Info</th>\n",
       "    </tr>\n",
       "  </thead>\n",
       "  <tbody>\n",
       "    <tr>\n",
       "      <th>123</th>\n",
       "      <td>Air India</td>\n",
       "      <td>Delhi</td>\n",
       "      <td>Cochin</td>\n",
       "      <td>20.250000</td>\n",
       "      <td>1</td>\n",
       "      <td>27430</td>\n",
       "      <td>03</td>\n",
       "      <td>Friday</td>\n",
       "      <td>no_info</td>\n",
       "    </tr>\n",
       "    <tr>\n",
       "      <th>226</th>\n",
       "      <td>Jet Airways</td>\n",
       "      <td>Delhi</td>\n",
       "      <td>Cochin</td>\n",
       "      <td>37.416667</td>\n",
       "      <td>2</td>\n",
       "      <td>18799</td>\n",
       "      <td>03</td>\n",
       "      <td>Sunday</td>\n",
       "      <td>no_info</td>\n",
       "    </tr>\n",
       "    <tr>\n",
       "      <th>396</th>\n",
       "      <td>Multiple carriers</td>\n",
       "      <td>Delhi</td>\n",
       "      <td>Cochin</td>\n",
       "      <td>6.416667</td>\n",
       "      <td>1</td>\n",
       "      <td>36983</td>\n",
       "      <td>03</td>\n",
       "      <td>Friday</td>\n",
       "      <td>no_info</td>\n",
       "    </tr>\n",
       "    <tr>\n",
       "      <th>402</th>\n",
       "      <td>Air India</td>\n",
       "      <td>Delhi</td>\n",
       "      <td>Cochin</td>\n",
       "      <td>26.416667</td>\n",
       "      <td>3</td>\n",
       "      <td>10493</td>\n",
       "      <td>06</td>\n",
       "      <td>Saturday</td>\n",
       "      <td>no_info</td>\n",
       "    </tr>\n",
       "    <tr>\n",
       "      <th>470</th>\n",
       "      <td>Jet Airways</td>\n",
       "      <td>Delhi</td>\n",
       "      <td>Cochin</td>\n",
       "      <td>34.083333</td>\n",
       "      <td>2</td>\n",
       "      <td>13082</td>\n",
       "      <td>03</td>\n",
       "      <td>Thursday</td>\n",
       "      <td>no_info</td>\n",
       "    </tr>\n",
       "    <tr>\n",
       "      <th>486</th>\n",
       "      <td>Jet Airways</td>\n",
       "      <td>Banglore</td>\n",
       "      <td>New Delhi</td>\n",
       "      <td>6.333333</td>\n",
       "      <td>1</td>\n",
       "      <td>26890</td>\n",
       "      <td>03</td>\n",
       "      <td>Friday</td>\n",
       "      <td>no_info</td>\n",
       "    </tr>\n",
       "    <tr>\n",
       "      <th>510</th>\n",
       "      <td>Jet Airways</td>\n",
       "      <td>Banglore</td>\n",
       "      <td>New Delhi</td>\n",
       "      <td>5.416667</td>\n",
       "      <td>1</td>\n",
       "      <td>26890</td>\n",
       "      <td>03</td>\n",
       "      <td>Friday</td>\n",
       "      <td>no_info</td>\n",
       "    </tr>\n",
       "    <tr>\n",
       "      <th>553</th>\n",
       "      <td>Air India</td>\n",
       "      <td>Delhi</td>\n",
       "      <td>Cochin</td>\n",
       "      <td>38.250000</td>\n",
       "      <td>2</td>\n",
       "      <td>10598</td>\n",
       "      <td>03</td>\n",
       "      <td>Saturday</td>\n",
       "      <td>no_info</td>\n",
       "    </tr>\n",
       "    <tr>\n",
       "      <th>597</th>\n",
       "      <td>Air India</td>\n",
       "      <td>Mumbai</td>\n",
       "      <td>Hyderabad</td>\n",
       "      <td>29.583333</td>\n",
       "      <td>2</td>\n",
       "      <td>25139</td>\n",
       "      <td>03</td>\n",
       "      <td>Wednesday</td>\n",
       "      <td>no_info</td>\n",
       "    </tr>\n",
       "    <tr>\n",
       "      <th>628</th>\n",
       "      <td>Jet Airways</td>\n",
       "      <td>Banglore</td>\n",
       "      <td>New Delhi</td>\n",
       "      <td>6.166667</td>\n",
       "      <td>1</td>\n",
       "      <td>27210</td>\n",
       "      <td>03</td>\n",
       "      <td>Friday</td>\n",
       "      <td>no_info</td>\n",
       "    </tr>\n",
       "  </tbody>\n",
       "</table>\n",
       "</div>"
      ],
      "text/plain": [
       "               Airline    Source Destination   Duration  Total_Stops  Price  \\\n",
       "123          Air India     Delhi      Cochin  20.250000            1  27430   \n",
       "226        Jet Airways     Delhi      Cochin  37.416667            2  18799   \n",
       "396  Multiple carriers     Delhi      Cochin   6.416667            1  36983   \n",
       "402          Air India     Delhi      Cochin  26.416667            3  10493   \n",
       "470        Jet Airways     Delhi      Cochin  34.083333            2  13082   \n",
       "486        Jet Airways  Banglore   New Delhi   6.333333            1  26890   \n",
       "510        Jet Airways  Banglore   New Delhi   5.416667            1  26890   \n",
       "553          Air India     Delhi      Cochin  38.250000            2  10598   \n",
       "597          Air India    Mumbai   Hyderabad  29.583333            2  25139   \n",
       "628        Jet Airways  Banglore   New Delhi   6.166667            1  27210   \n",
       "\n",
       "    Month        Day     Info  \n",
       "123    03     Friday  no_info  \n",
       "226    03     Sunday  no_info  \n",
       "396    03     Friday  no_info  \n",
       "402    06   Saturday  no_info  \n",
       "470    03   Thursday  no_info  \n",
       "486    03     Friday  no_info  \n",
       "510    03     Friday  no_info  \n",
       "553    03   Saturday  no_info  \n",
       "597    03  Wednesday  no_info  \n",
       "628    03     Friday  no_info  "
      ]
     },
     "execution_count": 48,
     "metadata": {},
     "output_type": "execute_result"
    }
   ],
   "source": [
    "# analysisng outliers \n",
    "df_prepared[((df_prepared<ll) | (df_prepared>ul)).any(axis=1)].head(10)"
   ]
  },
  {
   "cell_type": "code",
   "execution_count": 49,
   "id": "2e93002e",
   "metadata": {},
   "outputs": [
    {
     "data": {
      "text/plain": [
       "((10264, 9), (10462, 9))"
      ]
     },
     "execution_count": 49,
     "metadata": {},
     "output_type": "execute_result"
    }
   ],
   "source": [
    "df_wto = df_prepared[~((df_prepared<ll) | (df_prepared>ul)).any(axis=1)]\n",
    "df_wto.shape, df_prepared.shape"
   ]
  },
  {
   "cell_type": "markdown",
   "id": "69092a67",
   "metadata": {},
   "source": [
    "---"
   ]
  },
  {
   "cell_type": "markdown",
   "id": "d287ffcb",
   "metadata": {},
   "source": [
    "# Test Data Cleaning"
   ]
  },
  {
   "cell_type": "code",
   "execution_count": 50,
   "id": "3d309a27",
   "metadata": {},
   "outputs": [
    {
     "data": {
      "text/html": [
       "<div>\n",
       "<style scoped>\n",
       "    .dataframe tbody tr th:only-of-type {\n",
       "        vertical-align: middle;\n",
       "    }\n",
       "\n",
       "    .dataframe tbody tr th {\n",
       "        vertical-align: top;\n",
       "    }\n",
       "\n",
       "    .dataframe thead th {\n",
       "        text-align: right;\n",
       "    }\n",
       "</style>\n",
       "<table border=\"1\" class=\"dataframe\">\n",
       "  <thead>\n",
       "    <tr style=\"text-align: right;\">\n",
       "      <th></th>\n",
       "      <th>Airline</th>\n",
       "      <th>Source</th>\n",
       "      <th>Destination</th>\n",
       "      <th>Duration</th>\n",
       "      <th>Total_Stops</th>\n",
       "      <th>Month</th>\n",
       "      <th>Day</th>\n",
       "      <th>Info</th>\n",
       "    </tr>\n",
       "  </thead>\n",
       "  <tbody>\n",
       "    <tr>\n",
       "      <th>0</th>\n",
       "      <td>Jet Airways</td>\n",
       "      <td>Delhi</td>\n",
       "      <td>Cochin</td>\n",
       "      <td>10.916667</td>\n",
       "      <td>1</td>\n",
       "      <td>06</td>\n",
       "      <td>Thursday</td>\n",
       "      <td>no_info</td>\n",
       "    </tr>\n",
       "    <tr>\n",
       "      <th>1</th>\n",
       "      <td>IndiGo</td>\n",
       "      <td>Kolkata</td>\n",
       "      <td>Banglore</td>\n",
       "      <td>4.000000</td>\n",
       "      <td>1</td>\n",
       "      <td>05</td>\n",
       "      <td>Sunday</td>\n",
       "      <td>no_info</td>\n",
       "    </tr>\n",
       "    <tr>\n",
       "      <th>2</th>\n",
       "      <td>Jet Airways</td>\n",
       "      <td>Delhi</td>\n",
       "      <td>Cochin</td>\n",
       "      <td>23.750000</td>\n",
       "      <td>1</td>\n",
       "      <td>05</td>\n",
       "      <td>Tuesday</td>\n",
       "      <td>no_meal</td>\n",
       "    </tr>\n",
       "    <tr>\n",
       "      <th>3</th>\n",
       "      <td>Multiple carriers</td>\n",
       "      <td>Delhi</td>\n",
       "      <td>Cochin</td>\n",
       "      <td>13.000000</td>\n",
       "      <td>1</td>\n",
       "      <td>05</td>\n",
       "      <td>Tuesday</td>\n",
       "      <td>no_info</td>\n",
       "    </tr>\n",
       "    <tr>\n",
       "      <th>4</th>\n",
       "      <td>Air Asia</td>\n",
       "      <td>Banglore</td>\n",
       "      <td>Delhi</td>\n",
       "      <td>2.833333</td>\n",
       "      <td>0</td>\n",
       "      <td>06</td>\n",
       "      <td>Monday</td>\n",
       "      <td>no_info</td>\n",
       "    </tr>\n",
       "  </tbody>\n",
       "</table>\n",
       "</div>"
      ],
      "text/plain": [
       "             Airline    Source Destination   Duration  Total_Stops Month  \\\n",
       "0        Jet Airways     Delhi      Cochin  10.916667            1    06   \n",
       "1             IndiGo   Kolkata    Banglore   4.000000            1    05   \n",
       "2        Jet Airways     Delhi      Cochin  23.750000            1    05   \n",
       "3  Multiple carriers     Delhi      Cochin  13.000000            1    05   \n",
       "4           Air Asia  Banglore       Delhi   2.833333            0    06   \n",
       "\n",
       "        Day     Info  \n",
       "0  Thursday  no_info  \n",
       "1    Sunday  no_info  \n",
       "2   Tuesday  no_meal  \n",
       "3   Tuesday  no_info  \n",
       "4    Monday  no_info  "
      ]
     },
     "execution_count": 50,
     "metadata": {},
     "output_type": "execute_result"
    }
   ],
   "source": [
    "test['Duration']=test['Duration'].str.replace('h','*1').str.replace(\" \",\"+\").str.replace('m','/60').apply(eval)\n",
    "\n",
    "stops_dict = {'non-stop':0,'1 stop':1,'2 stops':2,'3 stops':3,'4 stops':4}\n",
    "\n",
    "test['Total_Stops']=test['Total_Stops'].map(stops_dict)\n",
    "\n",
    "test[\"Date\"] = test['Date_of_Journey'].str.split('/').str[0].astype(int)\n",
    "test[\"Month\"] = test['Date_of_Journey'].str.split('/').str[1].astype('object')\n",
    "test[\"Month\"].unique()\n",
    "\n",
    "test['Date_of_Journey'] = pd.to_datetime(test['Date_of_Journey'], format='%d/%m/%Y')\n",
    "test['Date_of_Journey'].head()\n",
    "\n",
    "test['Day'] = test['Date_of_Journey'].dt.day_name() # for integer .dayofweek / weekday\n",
    "\n",
    "test['Day'].head()\n",
    "\n",
    "test['Additional_Info'].replace('No Info','No info',inplace=True)\n",
    "\n",
    "test['Additional_Info'].value_counts(1)*100\n",
    "\n",
    "test['Info']=['no_info' if x == 'No info' else 'no_meal' if x=='In-flight meal not included' else 'others' for x in test['Additional_Info']]\n",
    "\n",
    "test['Info'].value_counts(1)*100\n",
    "\n",
    "test[\"Airline\"].replace({'Multiple carriers Premium economy':'Other', \n",
    "                                                        'Jet Airways Business':'Other',\n",
    "                                                        'Vistara Premium economy':'Other',\n",
    "                                                        'Trujet':'Other'},inplace=True)\n",
    "\n",
    "test.drop(['Date_of_Journey','Route','Dep_Time','Arrival_Time','Additional_Info','Date'] , axis=1 , inplace=True)\n",
    "\n",
    "test.head()"
   ]
  },
  {
   "cell_type": "markdown",
   "id": "9ef1bb85",
   "metadata": {},
   "source": [
    "# "
   ]
  },
  {
   "cell_type": "markdown",
   "id": "c02b2c73",
   "metadata": {},
   "source": [
    "------"
   ]
  },
  {
   "cell_type": "markdown",
   "id": "264b84b1",
   "metadata": {},
   "source": [
    "<a id=\"FeaEng\"> </a>\n",
    "# `Feature Engineering`"
   ]
  },
  {
   "cell_type": "code",
   "execution_count": 51,
   "id": "f0f31176",
   "metadata": {},
   "outputs": [],
   "source": [
    "cat=df_wto.select_dtypes(exclude='number')"
   ]
  },
  {
   "cell_type": "code",
   "execution_count": 52,
   "id": "319dde05",
   "metadata": {},
   "outputs": [
    {
     "data": {
      "text/plain": [
       "Index(['Airline', 'Source', 'Destination', 'Month', 'Day', 'Info'], dtype='object')"
      ]
     },
     "execution_count": 52,
     "metadata": {},
     "output_type": "execute_result"
    }
   ],
   "source": [
    "cat.columns"
   ]
  },
  {
   "cell_type": "code",
   "execution_count": 53,
   "id": "d241f634",
   "metadata": {},
   "outputs": [],
   "source": [
    "num=df_wto.select_dtypes(include='number')"
   ]
  },
  {
   "cell_type": "code",
   "execution_count": 54,
   "id": "48046cd4",
   "metadata": {},
   "outputs": [
    {
     "data": {
      "text/plain": [
       "Index(['Duration', 'Total_Stops', 'Price'], dtype='object')"
      ]
     },
     "execution_count": 54,
     "metadata": {},
     "output_type": "execute_result"
    }
   ],
   "source": [
    "num.columns"
   ]
  },
  {
   "cell_type": "code",
   "execution_count": 55,
   "id": "d140955d",
   "metadata": {},
   "outputs": [],
   "source": [
    "Scaled_df=df_wto.copy()"
   ]
  },
  {
   "cell_type": "code",
   "execution_count": 56,
   "id": "1a31f7ee",
   "metadata": {},
   "outputs": [
    {
     "data": {
      "text/html": [
       "<div>\n",
       "<style scoped>\n",
       "    .dataframe tbody tr th:only-of-type {\n",
       "        vertical-align: middle;\n",
       "    }\n",
       "\n",
       "    .dataframe tbody tr th {\n",
       "        vertical-align: top;\n",
       "    }\n",
       "\n",
       "    .dataframe thead th {\n",
       "        text-align: right;\n",
       "    }\n",
       "</style>\n",
       "<table border=\"1\" class=\"dataframe\">\n",
       "  <thead>\n",
       "    <tr style=\"text-align: right;\">\n",
       "      <th></th>\n",
       "      <th>Airline</th>\n",
       "      <th>Source</th>\n",
       "      <th>Destination</th>\n",
       "      <th>Duration</th>\n",
       "      <th>Total_Stops</th>\n",
       "      <th>Price</th>\n",
       "      <th>Month</th>\n",
       "      <th>Day</th>\n",
       "      <th>Info</th>\n",
       "    </tr>\n",
       "  </thead>\n",
       "  <tbody>\n",
       "    <tr>\n",
       "      <th>0</th>\n",
       "      <td>IndiGo</td>\n",
       "      <td>Banglore</td>\n",
       "      <td>New Delhi</td>\n",
       "      <td>0.082707</td>\n",
       "      <td>0</td>\n",
       "      <td>3897</td>\n",
       "      <td>03</td>\n",
       "      <td>Sunday</td>\n",
       "      <td>no_info</td>\n",
       "    </tr>\n",
       "    <tr>\n",
       "      <th>1</th>\n",
       "      <td>Air India</td>\n",
       "      <td>Kolkata</td>\n",
       "      <td>Banglore</td>\n",
       "      <td>0.220551</td>\n",
       "      <td>2</td>\n",
       "      <td>7662</td>\n",
       "      <td>05</td>\n",
       "      <td>Wednesday</td>\n",
       "      <td>no_info</td>\n",
       "    </tr>\n",
       "    <tr>\n",
       "      <th>2</th>\n",
       "      <td>Jet Airways</td>\n",
       "      <td>Delhi</td>\n",
       "      <td>Cochin</td>\n",
       "      <td>0.568922</td>\n",
       "      <td>2</td>\n",
       "      <td>13882</td>\n",
       "      <td>06</td>\n",
       "      <td>Sunday</td>\n",
       "      <td>no_info</td>\n",
       "    </tr>\n",
       "    <tr>\n",
       "      <th>3</th>\n",
       "      <td>IndiGo</td>\n",
       "      <td>Kolkata</td>\n",
       "      <td>Banglore</td>\n",
       "      <td>0.160401</td>\n",
       "      <td>1</td>\n",
       "      <td>6218</td>\n",
       "      <td>05</td>\n",
       "      <td>Sunday</td>\n",
       "      <td>no_info</td>\n",
       "    </tr>\n",
       "    <tr>\n",
       "      <th>4</th>\n",
       "      <td>IndiGo</td>\n",
       "      <td>Banglore</td>\n",
       "      <td>New Delhi</td>\n",
       "      <td>0.140351</td>\n",
       "      <td>1</td>\n",
       "      <td>13302</td>\n",
       "      <td>03</td>\n",
       "      <td>Friday</td>\n",
       "      <td>no_info</td>\n",
       "    </tr>\n",
       "  </tbody>\n",
       "</table>\n",
       "</div>"
      ],
      "text/plain": [
       "       Airline    Source Destination  Duration  Total_Stops  Price Month  \\\n",
       "0       IndiGo  Banglore   New Delhi  0.082707            0   3897    03   \n",
       "1    Air India   Kolkata    Banglore  0.220551            2   7662    05   \n",
       "2  Jet Airways     Delhi      Cochin  0.568922            2  13882    06   \n",
       "3       IndiGo   Kolkata    Banglore  0.160401            1   6218    05   \n",
       "4       IndiGo  Banglore   New Delhi  0.140351            1  13302    03   \n",
       "\n",
       "         Day     Info  \n",
       "0     Sunday  no_info  \n",
       "1  Wednesday  no_info  \n",
       "2     Sunday  no_info  \n",
       "3     Sunday  no_info  \n",
       "4     Friday  no_info  "
      ]
     },
     "execution_count": 56,
     "metadata": {},
     "output_type": "execute_result"
    }
   ],
   "source": [
    "mm= MinMaxScaler()\n",
    "Scaled_df['Duration']=mm.fit_transform(num[['Duration']])\n",
    "Scaled_df.head()"
   ]
  },
  {
   "cell_type": "code",
   "execution_count": 57,
   "id": "823c0bbb",
   "metadata": {},
   "outputs": [
    {
     "data": {
      "text/html": [
       "<div>\n",
       "<style scoped>\n",
       "    .dataframe tbody tr th:only-of-type {\n",
       "        vertical-align: middle;\n",
       "    }\n",
       "\n",
       "    .dataframe tbody tr th {\n",
       "        vertical-align: top;\n",
       "    }\n",
       "\n",
       "    .dataframe thead th {\n",
       "        text-align: right;\n",
       "    }\n",
       "</style>\n",
       "<table border=\"1\" class=\"dataframe\">\n",
       "  <thead>\n",
       "    <tr style=\"text-align: right;\">\n",
       "      <th></th>\n",
       "      <th>Duration</th>\n",
       "      <th>Total_Stops</th>\n",
       "      <th>Price</th>\n",
       "      <th>Airline_Air India</th>\n",
       "      <th>Airline_GoAir</th>\n",
       "      <th>Airline_IndiGo</th>\n",
       "      <th>Airline_Jet Airways</th>\n",
       "      <th>Airline_Multiple carriers</th>\n",
       "      <th>Airline_Other</th>\n",
       "      <th>Airline_SpiceJet</th>\n",
       "      <th>Airline_Vistara</th>\n",
       "      <th>Source_Chennai</th>\n",
       "      <th>Source_Delhi</th>\n",
       "      <th>Source_Kolkata</th>\n",
       "      <th>Source_Mumbai</th>\n",
       "      <th>Destination_Cochin</th>\n",
       "      <th>Destination_Delhi</th>\n",
       "      <th>Destination_Hyderabad</th>\n",
       "      <th>Destination_Kolkata</th>\n",
       "      <th>Destination_New Delhi</th>\n",
       "      <th>Month_04</th>\n",
       "      <th>Month_05</th>\n",
       "      <th>Month_06</th>\n",
       "      <th>Day_Monday</th>\n",
       "      <th>Day_Saturday</th>\n",
       "      <th>Day_Sunday</th>\n",
       "      <th>Day_Thursday</th>\n",
       "      <th>Day_Tuesday</th>\n",
       "      <th>Day_Wednesday</th>\n",
       "      <th>Info_no_meal</th>\n",
       "      <th>Info_others</th>\n",
       "    </tr>\n",
       "  </thead>\n",
       "  <tbody>\n",
       "    <tr>\n",
       "      <th>0</th>\n",
       "      <td>0.082707</td>\n",
       "      <td>0</td>\n",
       "      <td>3897</td>\n",
       "      <td>0</td>\n",
       "      <td>0</td>\n",
       "      <td>1</td>\n",
       "      <td>0</td>\n",
       "      <td>0</td>\n",
       "      <td>0</td>\n",
       "      <td>0</td>\n",
       "      <td>0</td>\n",
       "      <td>0</td>\n",
       "      <td>0</td>\n",
       "      <td>0</td>\n",
       "      <td>0</td>\n",
       "      <td>0</td>\n",
       "      <td>0</td>\n",
       "      <td>0</td>\n",
       "      <td>0</td>\n",
       "      <td>1</td>\n",
       "      <td>0</td>\n",
       "      <td>0</td>\n",
       "      <td>0</td>\n",
       "      <td>0</td>\n",
       "      <td>0</td>\n",
       "      <td>1</td>\n",
       "      <td>0</td>\n",
       "      <td>0</td>\n",
       "      <td>0</td>\n",
       "      <td>0</td>\n",
       "      <td>0</td>\n",
       "    </tr>\n",
       "    <tr>\n",
       "      <th>1</th>\n",
       "      <td>0.220551</td>\n",
       "      <td>2</td>\n",
       "      <td>7662</td>\n",
       "      <td>1</td>\n",
       "      <td>0</td>\n",
       "      <td>0</td>\n",
       "      <td>0</td>\n",
       "      <td>0</td>\n",
       "      <td>0</td>\n",
       "      <td>0</td>\n",
       "      <td>0</td>\n",
       "      <td>0</td>\n",
       "      <td>0</td>\n",
       "      <td>1</td>\n",
       "      <td>0</td>\n",
       "      <td>0</td>\n",
       "      <td>0</td>\n",
       "      <td>0</td>\n",
       "      <td>0</td>\n",
       "      <td>0</td>\n",
       "      <td>0</td>\n",
       "      <td>1</td>\n",
       "      <td>0</td>\n",
       "      <td>0</td>\n",
       "      <td>0</td>\n",
       "      <td>0</td>\n",
       "      <td>0</td>\n",
       "      <td>0</td>\n",
       "      <td>1</td>\n",
       "      <td>0</td>\n",
       "      <td>0</td>\n",
       "    </tr>\n",
       "    <tr>\n",
       "      <th>2</th>\n",
       "      <td>0.568922</td>\n",
       "      <td>2</td>\n",
       "      <td>13882</td>\n",
       "      <td>0</td>\n",
       "      <td>0</td>\n",
       "      <td>0</td>\n",
       "      <td>1</td>\n",
       "      <td>0</td>\n",
       "      <td>0</td>\n",
       "      <td>0</td>\n",
       "      <td>0</td>\n",
       "      <td>0</td>\n",
       "      <td>1</td>\n",
       "      <td>0</td>\n",
       "      <td>0</td>\n",
       "      <td>1</td>\n",
       "      <td>0</td>\n",
       "      <td>0</td>\n",
       "      <td>0</td>\n",
       "      <td>0</td>\n",
       "      <td>0</td>\n",
       "      <td>0</td>\n",
       "      <td>1</td>\n",
       "      <td>0</td>\n",
       "      <td>0</td>\n",
       "      <td>1</td>\n",
       "      <td>0</td>\n",
       "      <td>0</td>\n",
       "      <td>0</td>\n",
       "      <td>0</td>\n",
       "      <td>0</td>\n",
       "    </tr>\n",
       "    <tr>\n",
       "      <th>3</th>\n",
       "      <td>0.160401</td>\n",
       "      <td>1</td>\n",
       "      <td>6218</td>\n",
       "      <td>0</td>\n",
       "      <td>0</td>\n",
       "      <td>1</td>\n",
       "      <td>0</td>\n",
       "      <td>0</td>\n",
       "      <td>0</td>\n",
       "      <td>0</td>\n",
       "      <td>0</td>\n",
       "      <td>0</td>\n",
       "      <td>0</td>\n",
       "      <td>1</td>\n",
       "      <td>0</td>\n",
       "      <td>0</td>\n",
       "      <td>0</td>\n",
       "      <td>0</td>\n",
       "      <td>0</td>\n",
       "      <td>0</td>\n",
       "      <td>0</td>\n",
       "      <td>1</td>\n",
       "      <td>0</td>\n",
       "      <td>0</td>\n",
       "      <td>0</td>\n",
       "      <td>1</td>\n",
       "      <td>0</td>\n",
       "      <td>0</td>\n",
       "      <td>0</td>\n",
       "      <td>0</td>\n",
       "      <td>0</td>\n",
       "    </tr>\n",
       "    <tr>\n",
       "      <th>4</th>\n",
       "      <td>0.140351</td>\n",
       "      <td>1</td>\n",
       "      <td>13302</td>\n",
       "      <td>0</td>\n",
       "      <td>0</td>\n",
       "      <td>1</td>\n",
       "      <td>0</td>\n",
       "      <td>0</td>\n",
       "      <td>0</td>\n",
       "      <td>0</td>\n",
       "      <td>0</td>\n",
       "      <td>0</td>\n",
       "      <td>0</td>\n",
       "      <td>0</td>\n",
       "      <td>0</td>\n",
       "      <td>0</td>\n",
       "      <td>0</td>\n",
       "      <td>0</td>\n",
       "      <td>0</td>\n",
       "      <td>1</td>\n",
       "      <td>0</td>\n",
       "      <td>0</td>\n",
       "      <td>0</td>\n",
       "      <td>0</td>\n",
       "      <td>0</td>\n",
       "      <td>0</td>\n",
       "      <td>0</td>\n",
       "      <td>0</td>\n",
       "      <td>0</td>\n",
       "      <td>0</td>\n",
       "      <td>0</td>\n",
       "    </tr>\n",
       "  </tbody>\n",
       "</table>\n",
       "</div>"
      ],
      "text/plain": [
       "   Duration  Total_Stops  Price  Airline_Air India  Airline_GoAir  \\\n",
       "0  0.082707            0   3897                  0              0   \n",
       "1  0.220551            2   7662                  1              0   \n",
       "2  0.568922            2  13882                  0              0   \n",
       "3  0.160401            1   6218                  0              0   \n",
       "4  0.140351            1  13302                  0              0   \n",
       "\n",
       "   Airline_IndiGo  Airline_Jet Airways  Airline_Multiple carriers  \\\n",
       "0               1                    0                          0   \n",
       "1               0                    0                          0   \n",
       "2               0                    1                          0   \n",
       "3               1                    0                          0   \n",
       "4               1                    0                          0   \n",
       "\n",
       "   Airline_Other  Airline_SpiceJet  Airline_Vistara  Source_Chennai  \\\n",
       "0              0                 0                0               0   \n",
       "1              0                 0                0               0   \n",
       "2              0                 0                0               0   \n",
       "3              0                 0                0               0   \n",
       "4              0                 0                0               0   \n",
       "\n",
       "   Source_Delhi  Source_Kolkata  Source_Mumbai  Destination_Cochin  \\\n",
       "0             0               0              0                   0   \n",
       "1             0               1              0                   0   \n",
       "2             1               0              0                   1   \n",
       "3             0               1              0                   0   \n",
       "4             0               0              0                   0   \n",
       "\n",
       "   Destination_Delhi  Destination_Hyderabad  Destination_Kolkata  \\\n",
       "0                  0                      0                    0   \n",
       "1                  0                      0                    0   \n",
       "2                  0                      0                    0   \n",
       "3                  0                      0                    0   \n",
       "4                  0                      0                    0   \n",
       "\n",
       "   Destination_New Delhi  Month_04  Month_05  Month_06  Day_Monday  \\\n",
       "0                      1         0         0         0           0   \n",
       "1                      0         0         1         0           0   \n",
       "2                      0         0         0         1           0   \n",
       "3                      0         0         1         0           0   \n",
       "4                      1         0         0         0           0   \n",
       "\n",
       "   Day_Saturday  Day_Sunday  Day_Thursday  Day_Tuesday  Day_Wednesday  \\\n",
       "0             0           1             0            0              0   \n",
       "1             0           0             0            0              1   \n",
       "2             0           1             0            0              0   \n",
       "3             0           1             0            0              0   \n",
       "4             0           0             0            0              0   \n",
       "\n",
       "   Info_no_meal  Info_others  \n",
       "0             0            0  \n",
       "1             0            0  \n",
       "2             0            0  \n",
       "3             0            0  \n",
       "4             0            0  "
      ]
     },
     "execution_count": 57,
     "metadata": {},
     "output_type": "execute_result"
    }
   ],
   "source": [
    "df=pd.get_dummies(data=Scaled_df , columns = cat.columns , drop_first=True )\n",
    "df.head(5)"
   ]
  },
  {
   "cell_type": "markdown",
   "id": "d351e1cf",
   "metadata": {},
   "source": [
    "**Log Transformation on Target Variable**"
   ]
  },
  {
   "cell_type": "code",
   "execution_count": 58,
   "id": "4bb33720",
   "metadata": {},
   "outputs": [],
   "source": [
    "df_tgt=df.copy()"
   ]
  },
  {
   "cell_type": "code",
   "execution_count": 59,
   "id": "85eab685",
   "metadata": {},
   "outputs": [],
   "source": [
    "df_tgt['Price']=np.log(df_tgt['Price'])"
   ]
  },
  {
   "cell_type": "code",
   "execution_count": 60,
   "id": "82ed848f",
   "metadata": {},
   "outputs": [
    {
     "data": {
      "text/plain": [
       "<AxesSubplot:ylabel='Frequency'>"
      ]
     },
     "execution_count": 60,
     "metadata": {},
     "output_type": "execute_result"
    },
    {
     "data": {
      "image/png": "[encoded data removed]",
      "text/plain": [
       "<Figure size 360x216 with 1 Axes>"
      ]
     },
     "metadata": {
      "needs_background": "light"
     },
     "output_type": "display_data"
    }
   ],
   "source": [
    "plt.figure(figsize=(5,3))\n",
    "df_tgt['Price'].plot.hist(bins = 5)"
   ]
  },
  {
   "cell_type": "markdown",
   "id": "e7c9fc3d",
   "metadata": {},
   "source": [
    "## EDA & FEATURE ENG END HERE "
   ]
  },
  {
   "cell_type": "markdown",
   "id": "c5203942",
   "metadata": {},
   "source": [
    "<a id=\"traintest\"> </a>\n",
    "# `Train Test Split`"
   ]
  },
  {
   "cell_type": "markdown",
   "id": "a87dac99",
   "metadata": {},
   "source": [
    "* Final Data set to be used   \" df_tgt \""
   ]
  },
  {
   "cell_type": "code",
   "execution_count": 61,
   "id": "228eb6e1",
   "metadata": {},
   "outputs": [],
   "source": [
    "X = df_tgt.drop(['Price'],axis=1)\n",
    "y = df_tgt['Price']"
   ]
  },
  {
   "cell_type": "code",
   "execution_count": 62,
   "id": "e34838cd",
   "metadata": {},
   "outputs": [],
   "source": [
    "X_train, X_test, y_train, y_test = train_test_split(X,y,test_size=0.3,random_state=0)"
   ]
  },
  {
   "cell_type": "code",
   "execution_count": 63,
   "id": "75bf6b53",
   "metadata": {},
   "outputs": [
    {
     "data": {
      "text/plain": [
       "((7184, 30), (3080, 30), (7184,), (3080,))"
      ]
     },
     "execution_count": 63,
     "metadata": {},
     "output_type": "execute_result"
    }
   ],
   "source": [
    "X_train.shape, X_test.shape, y_train.shape, y_test.shape"
   ]
  },
  {
   "cell_type": "markdown",
   "id": "7e26bb4e",
   "metadata": {},
   "source": [
    "<a id=\"model\"> </a>\n",
    "# `Model Building`"
   ]
  },
  {
   "cell_type": "code",
   "execution_count": 64,
   "id": "13c92193",
   "metadata": {},
   "outputs": [
    {
     "data": {
      "text/html": [
       "<table class=\"simpletable\">\n",
       "<caption>OLS Regression Results</caption>\n",
       "<tr>\n",
       "  <th>Dep. Variable:</th>          <td>Price</td>      <th>  R-squared:         </th> <td>   0.778</td>\n",
       "</tr>\n",
       "<tr>\n",
       "  <th>Model:</th>                   <td>OLS</td>       <th>  Adj. R-squared:    </th> <td>   0.777</td>\n",
       "</tr>\n",
       "<tr>\n",
       "  <th>Method:</th>             <td>Least Squares</td>  <th>  F-statistic:       </th> <td>   962.5</td>\n",
       "</tr>\n",
       "<tr>\n",
       "  <th>Date:</th>             <td>Mon, 25 Oct 2021</td> <th>  Prob (F-statistic):</th>  <td>  0.00</td> \n",
       "</tr>\n",
       "<tr>\n",
       "  <th>Time:</th>                 <td>15:43:03</td>     <th>  Log-Likelihood:    </th> <td>  175.03</td>\n",
       "</tr>\n",
       "<tr>\n",
       "  <th>No. Observations:</th>      <td>  7184</td>      <th>  AIC:               </th> <td>  -296.1</td>\n",
       "</tr>\n",
       "<tr>\n",
       "  <th>Df Residuals:</th>          <td>  7157</td>      <th>  BIC:               </th> <td>  -110.3</td>\n",
       "</tr>\n",
       "<tr>\n",
       "  <th>Df Model:</th>              <td>    26</td>      <th>                     </th>     <td> </td>   \n",
       "</tr>\n",
       "<tr>\n",
       "  <th>Covariance Type:</th>      <td>nonrobust</td>    <th>                     </th>     <td> </td>   \n",
       "</tr>\n",
       "</table>\n",
       "<table class=\"simpletable\">\n",
       "<tr>\n",
       "              <td></td>                 <th>coef</th>     <th>std err</th>      <th>t</th>      <th>P>|t|</th>  <th>[0.025</th>    <th>0.975]</th>  \n",
       "</tr>\n",
       "<tr>\n",
       "  <th>Duration</th>                  <td>    0.1044</td> <td>    0.018</td> <td>    5.721</td> <td> 0.000</td> <td>    0.069</td> <td>    0.140</td>\n",
       "</tr>\n",
       "<tr>\n",
       "  <th>Total_Stops</th>               <td>    0.2829</td> <td>    0.008</td> <td>   36.592</td> <td> 0.000</td> <td>    0.268</td> <td>    0.298</td>\n",
       "</tr>\n",
       "<tr>\n",
       "  <th>Airline_Air India</th>         <td>    0.2509</td> <td>    0.018</td> <td>   14.116</td> <td> 0.000</td> <td>    0.216</td> <td>    0.286</td>\n",
       "</tr>\n",
       "<tr>\n",
       "  <th>Airline_GoAir</th>             <td>    0.0077</td> <td>    0.025</td> <td>    0.304</td> <td> 0.761</td> <td>   -0.042</td> <td>    0.058</td>\n",
       "</tr>\n",
       "<tr>\n",
       "  <th>Airline_IndiGo</th>            <td>    0.0673</td> <td>    0.017</td> <td>    3.980</td> <td> 0.000</td> <td>    0.034</td> <td>    0.100</td>\n",
       "</tr>\n",
       "<tr>\n",
       "  <th>Airline_Jet Airways</th>       <td>    0.6954</td> <td>    0.017</td> <td>   39.975</td> <td> 0.000</td> <td>    0.661</td> <td>    0.729</td>\n",
       "</tr>\n",
       "<tr>\n",
       "  <th>Airline_Multiple carriers</th> <td>    0.4526</td> <td>    0.018</td> <td>   24.505</td> <td> 0.000</td> <td>    0.416</td> <td>    0.489</td>\n",
       "</tr>\n",
       "<tr>\n",
       "  <th>Airline_Other</th>             <td>    0.4621</td> <td>    0.086</td> <td>    5.402</td> <td> 0.000</td> <td>    0.294</td> <td>    0.630</td>\n",
       "</tr>\n",
       "<tr>\n",
       "  <th>Airline_SpiceJet</th>          <td>   -0.0510</td> <td>    0.020</td> <td>   -2.533</td> <td> 0.011</td> <td>   -0.090</td> <td>   -0.012</td>\n",
       "</tr>\n",
       "<tr>\n",
       "  <th>Airline_Vistara</th>           <td>    0.3562</td> <td>    0.020</td> <td>   17.527</td> <td> 0.000</td> <td>    0.316</td> <td>    0.396</td>\n",
       "</tr>\n",
       "<tr>\n",
       "  <th>Source_Chennai</th>            <td>    4.2413</td> <td>    0.012</td> <td>  350.530</td> <td> 0.000</td> <td>    4.218</td> <td>    4.265</td>\n",
       "</tr>\n",
       "<tr>\n",
       "  <th>Source_Delhi</th>              <td>    4.3163</td> <td>    0.010</td> <td>  411.619</td> <td> 0.000</td> <td>    4.296</td> <td>    4.337</td>\n",
       "</tr>\n",
       "<tr>\n",
       "  <th>Source_Kolkata</th>            <td>    8.6094</td> <td>    0.020</td> <td>  424.118</td> <td> 0.000</td> <td>    8.570</td> <td>    8.649</td>\n",
       "</tr>\n",
       "<tr>\n",
       "  <th>Source_Mumbai</th>             <td>    4.0751</td> <td>    0.011</td> <td>  371.305</td> <td> 0.000</td> <td>    4.054</td> <td>    4.097</td>\n",
       "</tr>\n",
       "<tr>\n",
       "  <th>Destination_Cochin</th>        <td>    4.3163</td> <td>    0.010</td> <td>  411.619</td> <td> 0.000</td> <td>    4.296</td> <td>    4.337</td>\n",
       "</tr>\n",
       "<tr>\n",
       "  <th>Destination_Delhi</th>         <td>    8.4820</td> <td>    0.021</td> <td>  400.730</td> <td> 0.000</td> <td>    8.440</td> <td>    8.523</td>\n",
       "</tr>\n",
       "<tr>\n",
       "  <th>Destination_Hyderabad</th>     <td>    4.0751</td> <td>    0.011</td> <td>  371.305</td> <td> 0.000</td> <td>    4.054</td> <td>    4.097</td>\n",
       "</tr>\n",
       "<tr>\n",
       "  <th>Destination_Kolkata</th>       <td>    4.2413</td> <td>    0.012</td> <td>  350.530</td> <td> 0.000</td> <td>    4.218</td> <td>    4.265</td>\n",
       "</tr>\n",
       "<tr>\n",
       "  <th>Destination_New Delhi</th>     <td>    8.6112</td> <td>    0.020</td> <td>  421.740</td> <td> 0.000</td> <td>    8.571</td> <td>    8.651</td>\n",
       "</tr>\n",
       "<tr>\n",
       "  <th>Month_04</th>                  <td>   -0.2322</td> <td>    0.012</td> <td>  -18.759</td> <td> 0.000</td> <td>   -0.256</td> <td>   -0.208</td>\n",
       "</tr>\n",
       "<tr>\n",
       "  <th>Month_05</th>                  <td>   -0.1102</td> <td>    0.009</td> <td>  -11.949</td> <td> 0.000</td> <td>   -0.128</td> <td>   -0.092</td>\n",
       "</tr>\n",
       "<tr>\n",
       "  <th>Month_06</th>                  <td>   -0.1298</td> <td>    0.009</td> <td>  -14.540</td> <td> 0.000</td> <td>   -0.147</td> <td>   -0.112</td>\n",
       "</tr>\n",
       "<tr>\n",
       "  <th>Day_Monday</th>                <td>   -0.0758</td> <td>    0.012</td> <td>   -6.096</td> <td> 0.000</td> <td>   -0.100</td> <td>   -0.051</td>\n",
       "</tr>\n",
       "<tr>\n",
       "  <th>Day_Saturday</th>              <td>   -0.0358</td> <td>    0.013</td> <td>   -2.835</td> <td> 0.005</td> <td>   -0.061</td> <td>   -0.011</td>\n",
       "</tr>\n",
       "<tr>\n",
       "  <th>Day_Sunday</th>                <td>   -0.0005</td> <td>    0.013</td> <td>   -0.036</td> <td> 0.972</td> <td>   -0.026</td> <td>    0.025</td>\n",
       "</tr>\n",
       "<tr>\n",
       "  <th>Day_Thursday</th>              <td>   -0.1114</td> <td>    0.013</td> <td>   -8.823</td> <td> 0.000</td> <td>   -0.136</td> <td>   -0.087</td>\n",
       "</tr>\n",
       "<tr>\n",
       "  <th>Day_Tuesday</th>               <td>   -0.0480</td> <td>    0.014</td> <td>   -3.403</td> <td> 0.001</td> <td>   -0.076</td> <td>   -0.020</td>\n",
       "</tr>\n",
       "<tr>\n",
       "  <th>Day_Wednesday</th>             <td>   -0.0683</td> <td>    0.012</td> <td>   -5.630</td> <td> 0.000</td> <td>   -0.092</td> <td>   -0.045</td>\n",
       "</tr>\n",
       "<tr>\n",
       "  <th>Info_no_meal</th>              <td>   -0.3232</td> <td>    0.009</td> <td>  -35.613</td> <td> 0.000</td> <td>   -0.341</td> <td>   -0.305</td>\n",
       "</tr>\n",
       "<tr>\n",
       "  <th>Info_others</th>               <td>   -0.0957</td> <td>    0.020</td> <td>   -4.824</td> <td> 0.000</td> <td>   -0.135</td> <td>   -0.057</td>\n",
       "</tr>\n",
       "</table>\n",
       "<table class=\"simpletable\">\n",
       "<tr>\n",
       "  <th>Omnibus:</th>       <td>391.830</td> <th>  Durbin-Watson:     </th> <td>   1.975</td> \n",
       "</tr>\n",
       "<tr>\n",
       "  <th>Prob(Omnibus):</th> <td> 0.000</td>  <th>  Jarque-Bera (JB):  </th> <td>1060.961</td> \n",
       "</tr>\n",
       "<tr>\n",
       "  <th>Skew:</th>          <td> 0.288</td>  <th>  Prob(JB):          </th> <td>4.12e-231</td>\n",
       "</tr>\n",
       "<tr>\n",
       "  <th>Kurtosis:</th>      <td> 4.792</td>  <th>  Cond. No.          </th> <td>1.16e+16</td> \n",
       "</tr>\n",
       "</table><br/><br/>Notes:<br/>[1] Standard Errors assume that the covariance matrix of the errors is correctly specified.<br/>[2] The smallest eigenvalue is 1.2e-28. This might indicate that there are<br/>strong multicollinearity problems or that the design matrix is singular."
      ],
      "text/plain": [
       "<class 'statsmodels.iolib.summary.Summary'>\n",
       "\"\"\"\n",
       "                            OLS Regression Results                            \n",
       "==============================================================================\n",
       "Dep. Variable:                  Price   R-squared:                       0.778\n",
       "Model:                            OLS   Adj. R-squared:                  0.777\n",
       "Method:                 Least Squares   F-statistic:                     962.5\n",
       "Date:                Mon, 25 Oct 2021   Prob (F-statistic):               0.00\n",
       "Time:                        15:43:03   Log-Likelihood:                 175.03\n",
       "No. Observations:                7184   AIC:                            -296.1\n",
       "Df Residuals:                    7157   BIC:                            -110.3\n",
       "Df Model:                          26                                         \n",
       "Covariance Type:            nonrobust                                         \n",
       "=============================================================================================\n",
       "                                coef    std err          t      P>|t|      [0.025      0.975]\n",
       "---------------------------------------------------------------------------------------------\n",
       "Duration                      0.1044      0.018      5.721      0.000       0.069       0.140\n",
       "Total_Stops                   0.2829      0.008     36.592      0.000       0.268       0.298\n",
       "Airline_Air India             0.2509      0.018     14.116      0.000       0.216       0.286\n",
       "Airline_GoAir                 0.0077      0.025      0.304      0.761      -0.042       0.058\n",
       "Airline_IndiGo                0.0673      0.017      3.980      0.000       0.034       0.100\n",
       "Airline_Jet Airways           0.6954      0.017     39.975      0.000       0.661       0.729\n",
       "Airline_Multiple carriers     0.4526      0.018     24.505      0.000       0.416       0.489\n",
       "Airline_Other                 0.4621      0.086      5.402      0.000       0.294       0.630\n",
       "Airline_SpiceJet             -0.0510      0.020     -2.533      0.011      -0.090      -0.012\n",
       "Airline_Vistara               0.3562      0.020     17.527      0.000       0.316       0.396\n",
       "Source_Chennai                4.2413      0.012    350.530      0.000       4.218       4.265\n",
       "Source_Delhi                  4.3163      0.010    411.619      0.000       4.296       4.337\n",
       "Source_Kolkata                8.6094      0.020    424.118      0.000       8.570       8.649\n",
       "Source_Mumbai                 4.0751      0.011    371.305      0.000       4.054       4.097\n",
       "Destination_Cochin            4.3163      0.010    411.619      0.000       4.296       4.337\n",
       "Destination_Delhi             8.4820      0.021    400.730      0.000       8.440       8.523\n",
       "Destination_Hyderabad         4.0751      0.011    371.305      0.000       4.054       4.097\n",
       "Destination_Kolkata           4.2413      0.012    350.530      0.000       4.218       4.265\n",
       "Destination_New Delhi         8.6112      0.020    421.740      0.000       8.571       8.651\n",
       "Month_04                     -0.2322      0.012    -18.759      0.000      -0.256      -0.208\n",
       "Month_05                     -0.1102      0.009    -11.949      0.000      -0.128      -0.092\n",
       "Month_06                     -0.1298      0.009    -14.540      0.000      -0.147      -0.112\n",
       "Day_Monday                   -0.0758      0.012     -6.096      0.000      -0.100      -0.051\n",
       "Day_Saturday                 -0.0358      0.013     -2.835      0.005      -0.061      -0.011\n",
       "Day_Sunday                   -0.0005      0.013     -0.036      0.972      -0.026       0.025\n",
       "Day_Thursday                 -0.1114      0.013     -8.823      0.000      -0.136      -0.087\n",
       "Day_Tuesday                  -0.0480      0.014     -3.403      0.001      -0.076      -0.020\n",
       "Day_Wednesday                -0.0683      0.012     -5.630      0.000      -0.092      -0.045\n",
       "Info_no_meal                 -0.3232      0.009    -35.613      0.000      -0.341      -0.305\n",
       "Info_others                  -0.0957      0.020     -4.824      0.000      -0.135      -0.057\n",
       "==============================================================================\n",
       "Omnibus:                      391.830   Durbin-Watson:                   1.975\n",
       "Prob(Omnibus):                  0.000   Jarque-Bera (JB):             1060.961\n",
       "Skew:                           0.288   Prob(JB):                    4.12e-231\n",
       "Kurtosis:                       4.792   Cond. No.                     1.16e+16\n",
       "==============================================================================\n",
       "\n",
       "Notes:\n",
       "[1] Standard Errors assume that the covariance matrix of the errors is correctly specified.\n",
       "[2] The smallest eigenvalue is 1.2e-28. This might indicate that there are\n",
       "strong multicollinearity problems or that the design matrix is singular.\n",
       "\"\"\""
      ]
     },
     "execution_count": 64,
     "metadata": {},
     "output_type": "execute_result"
    }
   ],
   "source": [
    "model = sma.OLS(y_train,X_train).fit()\n",
    "model.summary()"
   ]
  },
  {
   "cell_type": "markdown",
   "id": "47d4f853",
   "metadata": {},
   "source": [
    "<a id=\"assumptions\"> </a>\n",
    "# `Assumptions`"
   ]
  },
  {
   "cell_type": "markdown",
   "id": "11d141b6",
   "metadata": {},
   "source": [
    "### **1. Checking Linearity**"
   ]
  },
  {
   "cell_type": "code",
   "execution_count": 65,
   "id": "6fdd5386",
   "metadata": {
    "scrolled": false
   },
   "outputs": [
    {
     "data": {
      "text/plain": [
       "<AxesSubplot:>"
      ]
     },
     "execution_count": 65,
     "metadata": {},
     "output_type": "execute_result"
    },
    {
     "data": {
      "image/png": "[encoded data removed]",
      "text/plain": [
       "<Figure size 432x288 with 1 Axes>"
      ]
     },
     "metadata": {
      "needs_background": "light"
     },
     "output_type": "display_data"
    }
   ],
   "source": [
    "fitted =model.fittedvalues # predicted values\n",
    "resid = model.resid        # actual - predicted\n",
    "\n",
    "sns.residplot(fitted,resid,lowess =True, line_kws={'color': 'red', 'lw': 2, 'alpha': 0.8}, )"
   ]
  },
  {
   "cell_type": "markdown",
   "id": "a15666fc",
   "metadata": {},
   "source": [
    "**Checking Linearity Using Rainbow Test**"
   ]
  },
  {
   "cell_type": "code",
   "execution_count": 66,
   "id": "642577d4",
   "metadata": {},
   "outputs": [
    {
     "data": {
      "text/plain": [
       "array([1.1, 0. ])"
      ]
     },
     "execution_count": 66,
     "metadata": {},
     "output_type": "execute_result"
    }
   ],
   "source": [
    "# model linearity:: Rainbow Test\n",
    "# Ho: Data is Linear\n",
    "# H1: Data is not Linear\n",
    "\n",
    "np.round(sma.stats.diagnostic.linear_rainbow(model),2)\n",
    "\n",
    "#We can infer that since pvalue>0.05, we failed to reject H0 meaning Model follows Linearity"
   ]
  },
  {
   "cell_type": "markdown",
   "id": "4ab9a24f",
   "metadata": {},
   "source": [
    "**Checking Linearity using ProbPlot**"
   ]
  },
  {
   "cell_type": "code",
   "execution_count": 67,
   "id": "ac3c14aa",
   "metadata": {},
   "outputs": [
    {
     "data": {
      "image/png": "[encoded data removed]",
      "text/plain": [
       "<Figure size 432x288 with 1 Axes>"
      ]
     },
     "metadata": {
      "needs_background": "light"
     },
     "output_type": "display_data"
    }
   ],
   "source": [
    "probplot(model.resid,plot=plt)\n",
    "plt.show()\n",
    "\n",
    "#Heavy-tailed residuals"
   ]
  },
  {
   "cell_type": "markdown",
   "id": "2f2ca4c4",
   "metadata": {},
   "source": [
    "**Conclusion: We can infer that Model follows Linearity**"
   ]
  },
  {
   "cell_type": "markdown",
   "id": "c6c6fd32",
   "metadata": {},
   "source": [
    "### **2. Normality Tests**"
   ]
  },
  {
   "cell_type": "code",
   "execution_count": 68,
   "id": "65a1ca0e",
   "metadata": {
    "scrolled": true
   },
   "outputs": [
    {
     "name": "stdout",
     "output_type": "stream",
     "text": [
      "Test Statistics: 0.9853945970535278\n",
      "P-Value: 1.3892033133936457e-26\n"
     ]
    }
   ],
   "source": [
    "# model Normality:: Shapiro Test\n",
    "# Ho: Data is Normal\n",
    "# H1: Data is not Normal\n",
    "\n",
    "teststats, pvalue = stats.shapiro(model.resid)\n",
    "\n",
    "print('Test Statistics:', teststats)\n",
    "print('P-Value:', pvalue)\n",
    "\n",
    "#If dataset > 5000, we must use or infer test-statistic as an indicator for checking normality\n",
    "#Inference: Since our data > 5000 hence using teststats which is > 0.05, hence our data is normal."
   ]
  },
  {
   "cell_type": "markdown",
   "id": "49501a40",
   "metadata": {},
   "source": [
    "### 3. Multi-Collinearity"
   ]
  },
  {
   "cell_type": "code",
   "execution_count": 69,
   "id": "fbf259f2",
   "metadata": {},
   "outputs": [
    {
     "data": {
      "image/png": "[encoded data removed]",
      "text/plain": [
       "<Figure size 864x576 with 2 Axes>"
      ]
     },
     "metadata": {
      "needs_background": "light"
     },
     "output_type": "display_data"
    }
   ],
   "source": [
    "plt.figure(figsize = [12, 8])\n",
    "sns.heatmap(X.corr()[np.abs(X.corr())>0.6], annot = True, cmap = \"YlGnBu\")\n",
    "plt.grid()"
   ]
  },
  {
   "cell_type": "code",
   "execution_count": 70,
   "id": "73ffb7b8",
   "metadata": {},
   "outputs": [],
   "source": [
    "vif_data = X\n",
    "\n",
    "num_cols = vif_data.select_dtypes(include=np.number) # Predictor Variables..\n",
    "\n",
    "mylist = [] # Store all the vif values\n",
    "\n",
    "for i in range(vif_data.shape[1]):\n",
    "    mylist.append(variance_inflation_factor(num_cols.values, i))"
   ]
  },
  {
   "cell_type": "code",
   "execution_count": 71,
   "id": "af88a58f",
   "metadata": {
    "scrolled": true
   },
   "outputs": [],
   "source": [
    "vif=pd.DataFrame({\"Labels\": num_cols.columns, \"VIF\": mylist})"
   ]
  },
  {
   "cell_type": "code",
   "execution_count": 72,
   "id": "9f337c0f",
   "metadata": {},
   "outputs": [
    {
     "data": {
      "text/html": [
       "<div>\n",
       "<style scoped>\n",
       "    .dataframe tbody tr th:only-of-type {\n",
       "        vertical-align: middle;\n",
       "    }\n",
       "\n",
       "    .dataframe tbody tr th {\n",
       "        vertical-align: top;\n",
       "    }\n",
       "\n",
       "    .dataframe thead th {\n",
       "        text-align: right;\n",
       "    }\n",
       "</style>\n",
       "<table border=\"1\" class=\"dataframe\">\n",
       "  <thead>\n",
       "    <tr style=\"text-align: right;\">\n",
       "      <th></th>\n",
       "      <th>Labels</th>\n",
       "      <th>VIF</th>\n",
       "    </tr>\n",
       "  </thead>\n",
       "  <tbody>\n",
       "    <tr>\n",
       "      <th>17</th>\n",
       "      <td>Destination_Kolkata</td>\n",
       "      <td>inf</td>\n",
       "    </tr>\n",
       "    <tr>\n",
       "      <th>16</th>\n",
       "      <td>Destination_Hyderabad</td>\n",
       "      <td>inf</td>\n",
       "    </tr>\n",
       "    <tr>\n",
       "      <th>14</th>\n",
       "      <td>Destination_Cochin</td>\n",
       "      <td>inf</td>\n",
       "    </tr>\n",
       "    <tr>\n",
       "      <th>13</th>\n",
       "      <td>Source_Mumbai</td>\n",
       "      <td>inf</td>\n",
       "    </tr>\n",
       "    <tr>\n",
       "      <th>10</th>\n",
       "      <td>Source_Chennai</td>\n",
       "      <td>inf</td>\n",
       "    </tr>\n",
       "    <tr>\n",
       "      <th>11</th>\n",
       "      <td>Source_Delhi</td>\n",
       "      <td>inf</td>\n",
       "    </tr>\n",
       "    <tr>\n",
       "      <th>12</th>\n",
       "      <td>Source_Kolkata</td>\n",
       "      <td>15.091671</td>\n",
       "    </tr>\n",
       "    <tr>\n",
       "      <th>5</th>\n",
       "      <td>Airline_Jet Airways</td>\n",
       "      <td>9.087046</td>\n",
       "    </tr>\n",
       "    <tr>\n",
       "      <th>15</th>\n",
       "      <td>Destination_Delhi</td>\n",
       "      <td>7.191987</td>\n",
       "    </tr>\n",
       "    <tr>\n",
       "      <th>4</th>\n",
       "      <td>Airline_IndiGo</td>\n",
       "      <td>6.038650</td>\n",
       "    </tr>\n",
       "    <tr>\n",
       "      <th>2</th>\n",
       "      <td>Airline_Air India</td>\n",
       "      <td>5.526057</td>\n",
       "    </tr>\n",
       "    <tr>\n",
       "      <th>6</th>\n",
       "      <td>Airline_Multiple carriers</td>\n",
       "      <td>4.519678</td>\n",
       "    </tr>\n",
       "    <tr>\n",
       "      <th>18</th>\n",
       "      <td>Destination_New Delhi</td>\n",
       "      <td>4.383468</td>\n",
       "    </tr>\n",
       "    <tr>\n",
       "      <th>8</th>\n",
       "      <td>Airline_SpiceJet</td>\n",
       "      <td>3.892550</td>\n",
       "    </tr>\n",
       "    <tr>\n",
       "      <th>1</th>\n",
       "      <td>Total_Stops</td>\n",
       "      <td>3.198134</td>\n",
       "    </tr>\n",
       "    <tr>\n",
       "      <th>27</th>\n",
       "      <td>Day_Wednesday</td>\n",
       "      <td>2.968441</td>\n",
       "    </tr>\n",
       "    <tr>\n",
       "      <th>25</th>\n",
       "      <td>Day_Thursday</td>\n",
       "      <td>2.847450</td>\n",
       "    </tr>\n",
       "    <tr>\n",
       "      <th>22</th>\n",
       "      <td>Day_Monday</td>\n",
       "      <td>2.837711</td>\n",
       "    </tr>\n",
       "    <tr>\n",
       "      <th>23</th>\n",
       "      <td>Day_Saturday</td>\n",
       "      <td>2.695025</td>\n",
       "    </tr>\n",
       "    <tr>\n",
       "      <th>0</th>\n",
       "      <td>Duration</td>\n",
       "      <td>2.499346</td>\n",
       "    </tr>\n",
       "    <tr>\n",
       "      <th>24</th>\n",
       "      <td>Day_Sunday</td>\n",
       "      <td>2.478964</td>\n",
       "    </tr>\n",
       "    <tr>\n",
       "      <th>9</th>\n",
       "      <td>Airline_Vistara</td>\n",
       "      <td>2.447903</td>\n",
       "    </tr>\n",
       "    <tr>\n",
       "      <th>20</th>\n",
       "      <td>Month_05</td>\n",
       "      <td>2.404417</td>\n",
       "    </tr>\n",
       "    <tr>\n",
       "      <th>21</th>\n",
       "      <td>Month_06</td>\n",
       "      <td>2.217182</td>\n",
       "    </tr>\n",
       "    <tr>\n",
       "      <th>26</th>\n",
       "      <td>Day_Tuesday</td>\n",
       "      <td>1.921670</td>\n",
       "    </tr>\n",
       "    <tr>\n",
       "      <th>19</th>\n",
       "      <td>Month_04</td>\n",
       "      <td>1.846011</td>\n",
       "    </tr>\n",
       "    <tr>\n",
       "      <th>3</th>\n",
       "      <td>Airline_GoAir</td>\n",
       "      <td>1.594982</td>\n",
       "    </tr>\n",
       "    <tr>\n",
       "      <th>28</th>\n",
       "      <td>Info_no_meal</td>\n",
       "      <td>1.592158</td>\n",
       "    </tr>\n",
       "    <tr>\n",
       "      <th>29</th>\n",
       "      <td>Info_others</td>\n",
       "      <td>1.560164</td>\n",
       "    </tr>\n",
       "    <tr>\n",
       "      <th>7</th>\n",
       "      <td>Airline_Other</td>\n",
       "      <td>1.065379</td>\n",
       "    </tr>\n",
       "  </tbody>\n",
       "</table>\n",
       "</div>"
      ],
      "text/plain": [
       "                       Labels        VIF\n",
       "17        Destination_Kolkata        inf\n",
       "16      Destination_Hyderabad        inf\n",
       "14         Destination_Cochin        inf\n",
       "13              Source_Mumbai        inf\n",
       "10             Source_Chennai        inf\n",
       "11               Source_Delhi        inf\n",
       "12             Source_Kolkata  15.091671\n",
       "5         Airline_Jet Airways   9.087046\n",
       "15          Destination_Delhi   7.191987\n",
       "4              Airline_IndiGo   6.038650\n",
       "2           Airline_Air India   5.526057\n",
       "6   Airline_Multiple carriers   4.519678\n",
       "18      Destination_New Delhi   4.383468\n",
       "8            Airline_SpiceJet   3.892550\n",
       "1                 Total_Stops   3.198134\n",
       "27              Day_Wednesday   2.968441\n",
       "25               Day_Thursday   2.847450\n",
       "22                 Day_Monday   2.837711\n",
       "23               Day_Saturday   2.695025\n",
       "0                    Duration   2.499346\n",
       "24                 Day_Sunday   2.478964\n",
       "9             Airline_Vistara   2.447903\n",
       "20                   Month_05   2.404417\n",
       "21                   Month_06   2.217182\n",
       "26                Day_Tuesday   1.921670\n",
       "19                   Month_04   1.846011\n",
       "3               Airline_GoAir   1.594982\n",
       "28               Info_no_meal   1.592158\n",
       "29                Info_others   1.560164\n",
       "7               Airline_Other   1.065379"
      ]
     },
     "execution_count": 72,
     "metadata": {},
     "output_type": "execute_result"
    }
   ],
   "source": [
    "vif.sort_values(by='VIF', ascending=False)"
   ]
  },
  {
   "cell_type": "code",
   "execution_count": 73,
   "id": "f3a7af74",
   "metadata": {},
   "outputs": [],
   "source": [
    "#Inference: VIF>10 and inf suggest high correlation in independent variable."
   ]
  },
  {
   "cell_type": "markdown",
   "id": "10c7019f",
   "metadata": {},
   "source": [
    "### Heteroskedasticity"
   ]
  },
  {
   "cell_type": "code",
   "execution_count": 74,
   "id": "707f10b2",
   "metadata": {},
   "outputs": [
    {
     "data": {
      "text/html": [
       "<div>\n",
       "<style scoped>\n",
       "    .dataframe tbody tr th:only-of-type {\n",
       "        vertical-align: middle;\n",
       "    }\n",
       "\n",
       "    .dataframe tbody tr th {\n",
       "        vertical-align: top;\n",
       "    }\n",
       "\n",
       "    .dataframe thead th {\n",
       "        text-align: right;\n",
       "    }\n",
       "</style>\n",
       "<table border=\"1\" class=\"dataframe\">\n",
       "  <thead>\n",
       "    <tr style=\"text-align: right;\">\n",
       "      <th></th>\n",
       "      <th>value</th>\n",
       "    </tr>\n",
       "  </thead>\n",
       "  <tbody>\n",
       "    <tr>\n",
       "      <th>F-Test Stats</th>\n",
       "      <td>6.038983e+01</td>\n",
       "    </tr>\n",
       "    <tr>\n",
       "      <th>Pr(F-Test)</th>\n",
       "      <td>6.116137e-284</td>\n",
       "    </tr>\n",
       "  </tbody>\n",
       "</table>\n",
       "</div>"
      ],
      "text/plain": [
       "                      value\n",
       "F-Test Stats   6.038983e+01\n",
       "Pr(F-Test)    6.116137e-284"
      ]
     },
     "execution_count": 74,
     "metadata": {},
     "output_type": "execute_result"
    }
   ],
   "source": [
    "# Breusch Pagan Test\n",
    "#H0 : Error Variances are all equal\n",
    "#H1 : Error Variances are not equal\n",
    "\n",
    "localframe = pd.DataFrame(ssa.het_breuschpagan(model.resid, model.model.exog), \n",
    "                          columns = [\"value\"],\n",
    "            index =[\"Test Stats\", \"PValue\", \"F-Test Stats\", \"Pr(F-Test)\"])\n",
    "\n",
    "localframe[2:]\n",
    "# Conclusion: Reject the Ho meaning that there is uneven variance in the model"
   ]
  },
  {
   "cell_type": "markdown",
   "id": "0f17a6d8",
   "metadata": {},
   "source": [
    "### Auto-Correlation"
   ]
  },
  {
   "cell_type": "code",
   "execution_count": 75,
   "id": "292207f5",
   "metadata": {},
   "outputs": [
    {
     "data": {
      "text/plain": [
       "1.9749448027936771"
      ]
     },
     "execution_count": 75,
     "metadata": {},
     "output_type": "execute_result"
    }
   ],
   "source": [
    "#H0:  The sequence was produced in a random manner\n",
    "#H1:  The sequence was not produced in a random manner\n",
    "\n",
    "AC = durbin_watson(model.resid)\n",
    "AC"
   ]
  },
  {
   "cell_type": "markdown",
   "id": "a5fabecf",
   "metadata": {},
   "source": [
    "# Train Test Accuracy and RMSE"
   ]
  },
  {
   "cell_type": "code",
   "execution_count": 76,
   "id": "490e1006",
   "metadata": {},
   "outputs": [
    {
     "name": "stdout",
     "output_type": "stream",
     "text": [
      "r2_train_ols 0.7776166306570156\n",
      "rmse_train_ols 0.2361467535992118\n"
     ]
    }
   ],
   "source": [
    "#Prediction Train\n",
    "y_pred_train_ols=model.predict(X_train)\n",
    "\n",
    "# R-Squared Train\n",
    "r2_train_ols = r2_score(y_train,y_pred_train_ols)\n",
    "print('r2_train_ols',r2_train_ols)\n",
    "\n",
    "#Root mean squared error(RMSE) Train\n",
    "rmse_train_ols = np.sqrt(mean_squared_error(y_train,y_pred_train_ols))\n",
    "print('rmse_train_ols',rmse_train_ols)"
   ]
  },
  {
   "cell_type": "markdown",
   "id": "5ce58405",
   "metadata": {},
   "source": [
    "# Test Accuracy and RMSE"
   ]
  },
  {
   "cell_type": "code",
   "execution_count": 77,
   "id": "98e06514",
   "metadata": {},
   "outputs": [
    {
     "name": "stdout",
     "output_type": "stream",
     "text": [
      "r2_test_ols 0.7660551956975629\n",
      "rmse_test_ols 0.24239685542658843\n"
     ]
    }
   ],
   "source": [
    "#Prediction\n",
    "y_pred_ols=model.predict(X_test)\n",
    "\n",
    "# R-Squared\n",
    "r2_test_ols = r2_score(y_test,y_pred_ols)\n",
    "print('r2_test_ols',r2_test_ols)\n",
    "\n",
    "#Root mean squared error(RMSE)\n",
    "rmse_test_ols = np.sqrt(mean_squared_error(y_test,y_pred_ols))\n",
    "print('rmse_test_ols',rmse_test_ols)"
   ]
  },
  {
   "cell_type": "markdown",
   "id": "be2dba6a",
   "metadata": {},
   "source": [
    "# Default Decision Tree Regressor "
   ]
  },
  {
   "cell_type": "code",
   "execution_count": 78,
   "id": "2c18a8b0",
   "metadata": {},
   "outputs": [],
   "source": [
    "from sklearn.metrics import accuracy_score"
   ]
  },
  {
   "cell_type": "code",
   "execution_count": 79,
   "id": "a615c1f5",
   "metadata": {},
   "outputs": [],
   "source": [
    "#Initializing the regressor \n",
    "dtr = DecisionTreeRegressor()"
   ]
  },
  {
   "cell_type": "code",
   "execution_count": 80,
   "id": "0d1c9722",
   "metadata": {},
   "outputs": [],
   "source": [
    "dtr_model = dtr.fit(X_train, y_train)"
   ]
  },
  {
   "cell_type": "markdown",
   "id": "67c9ae67",
   "metadata": {},
   "source": [
    "# Train Accuracy and RMSE - - DT Model"
   ]
  },
  {
   "cell_type": "code",
   "execution_count": 81,
   "id": "dfc99b2b",
   "metadata": {},
   "outputs": [
    {
     "name": "stdout",
     "output_type": "stream",
     "text": [
      "r2_train_dt 0.96182975532835\n",
      "rmse_train_dt 0.09783478578955533\n"
     ]
    }
   ],
   "source": [
    "#Prediction Train\n",
    "y_pred_train_dt=dtr_model.predict(X_train)\n",
    "\n",
    "# R-Squared Train\n",
    "r2_train_dt = r2_score(y_train,y_pred_train_dt)\n",
    "print('r2_train_dt',r2_train_dt)\n",
    "\n",
    "#Root mean squared error(RMSE) Train\n",
    "rmse_train_dt = np.sqrt(mean_squared_error(y_train,y_pred_train_dt))\n",
    "print('rmse_train_dt',rmse_train_dt)"
   ]
  },
  {
   "cell_type": "markdown",
   "id": "68fee849",
   "metadata": {},
   "source": [
    "# Test Accuracy and RMSE - - DT Model"
   ]
  },
  {
   "cell_type": "code",
   "execution_count": 82,
   "id": "8836cb86",
   "metadata": {},
   "outputs": [
    {
     "name": "stdout",
     "output_type": "stream",
     "text": [
      "r2_test_dt 0.7816607042316218\n",
      "rmse_test_dt 0.23417268304643582\n"
     ]
    }
   ],
   "source": [
    "#Prediction\n",
    "y_pred_dt=dtr_model.predict(X_test)\n",
    "\n",
    "# R-Squared\n",
    "r2_test_dt = r2_score(y_test,y_pred_dt)\n",
    "print('r2_test_dt',r2_test_dt)\n",
    "\n",
    "#Root mean squared error(RMSE)\n",
    "rmse_test_dt = np.sqrt(mean_squared_error(y_test,y_pred_dt))\n",
    "print('rmse_test_dt',rmse_test_dt)"
   ]
  },
  {
   "cell_type": "code",
   "execution_count": 83,
   "id": "43b2a632",
   "metadata": {},
   "outputs": [],
   "source": [
    "# train accuracy > test accuracy ,implies model is overfit , \n",
    "# using random forest model to build less complex model to reduce overfiting ."
   ]
  },
  {
   "cell_type": "code",
   "execution_count": 84,
   "id": "ec132bf4",
   "metadata": {},
   "outputs": [
    {
     "name": "stdout",
     "output_type": "stream",
     "text": [
      "10093     4423.0\n",
      "5791      7191.0\n",
      "4382     10262.0\n",
      "4564     12009.0\n",
      "2825      4256.0\n",
      "Name: Price, dtype: float64 : \n",
      "[ 4442.19  8330.   10262.    7893.    6366.62]\n"
     ]
    }
   ],
   "source": [
    "print(f\"{np.exp(y_test.head())} : \\n{np.round(np.exp(y_pred_dt[:5]),2)}\")"
   ]
  },
  {
   "cell_type": "markdown",
   "id": "32b65c46",
   "metadata": {},
   "source": [
    "-----"
   ]
  },
  {
   "cell_type": "markdown",
   "id": "c9391546",
   "metadata": {},
   "source": [
    "# Default Random Forest Regressor"
   ]
  },
  {
   "cell_type": "code",
   "execution_count": 85,
   "id": "f07ba1b1",
   "metadata": {},
   "outputs": [],
   "source": [
    "#Initialization and Fitting\n",
    "rfr=RandomForestRegressor()\n",
    "rfr_model = rfr.fit(X_train, y_train)"
   ]
  },
  {
   "cell_type": "markdown",
   "id": "36dc7515",
   "metadata": {},
   "source": [
    "# Train Accuracy and RMSE - - RF Model"
   ]
  },
  {
   "cell_type": "code",
   "execution_count": 86,
   "id": "252a6d15",
   "metadata": {},
   "outputs": [
    {
     "name": "stdout",
     "output_type": "stream",
     "text": [
      "r2_train_rfr 0.9519578187230002\n",
      "rmse_train_rfr 0.10975951652538163\n"
     ]
    }
   ],
   "source": [
    "#Prediction Train\n",
    "y_pred_train_rfr=rfr_model.predict(X_train)\n",
    "\n",
    "# R-Squared Train\n",
    "r2_train_rfr = r2_score(y_train,y_pred_train_rfr)\n",
    "print('r2_train_rfr',r2_train_rfr)\n",
    "\n",
    "#Root mean squared error(RMSE) Train\n",
    "rmse_train_rfr = np.sqrt(mean_squared_error(y_train,y_pred_train_rfr))\n",
    "print('rmse_train_rfr',rmse_train_rfr)"
   ]
  },
  {
   "cell_type": "markdown",
   "id": "e7b1c949",
   "metadata": {},
   "source": [
    "# Test Accuracy and RMSE - - RF Model"
   ]
  },
  {
   "cell_type": "code",
   "execution_count": 87,
   "id": "653b9a20",
   "metadata": {},
   "outputs": [
    {
     "name": "stdout",
     "output_type": "stream",
     "text": [
      "r2_test_rfr 0.8504720832879885\n",
      "rmse_test_rfr 0.19379002583161156\n"
     ]
    }
   ],
   "source": [
    "#Prediction\n",
    "y_pred_rfr=rfr_model.predict(X_test)\n",
    "\n",
    "# R-Squared\n",
    "r2_test_rfr = r2_score(y_test,y_pred_rfr)\n",
    "print('r2_test_rfr',r2_test_rfr)\n",
    "\n",
    "#Root mean squared error(RMSE)\n",
    "rmse_test_rfr = np.sqrt(mean_squared_error(y_test,y_pred_rfr))\n",
    "print('rmse_test_rfr',rmse_test_rfr)"
   ]
  },
  {
   "cell_type": "code",
   "execution_count": 88,
   "id": "d1f45cde",
   "metadata": {},
   "outputs": [],
   "source": [
    "# random forest model has reduced the overfit but\n",
    "# random forest model is aslo overfit so now we are using regularization to reduce overfiting ."
   ]
  },
  {
   "cell_type": "code",
   "execution_count": 89,
   "id": "3c7e0a96",
   "metadata": {},
   "outputs": [],
   "source": [
    "# Cross_Val_Train"
   ]
  },
  {
   "cell_type": "code",
   "execution_count": 90,
   "id": "2eab20b0",
   "metadata": {},
   "outputs": [
    {
     "name": "stdout",
     "output_type": "stream",
     "text": [
      "[0.835737   0.85488057 0.83596458 0.82140032 0.86976534 0.84453935\n",
      " 0.84526363 0.84830633 0.86196642 0.85949254]\n",
      "Random Forest Cross Validation Train Score  0.847731608527271\n"
     ]
    }
   ],
   "source": [
    "rfr_model_cv_r2 = cross_val_score(rfr_model, X_train, y_train, scoring='r2', cv=10)\n",
    "print(rfr_model_cv_r2)\n",
    "scores=rfr_model_cv_r2.mean()\n",
    "print('Random Forest Cross Validation Train Score ',scores)"
   ]
  },
  {
   "cell_type": "code",
   "execution_count": 91,
   "id": "a391a077",
   "metadata": {},
   "outputs": [],
   "source": [
    "# Cross_Val_Test"
   ]
  },
  {
   "cell_type": "markdown",
   "id": "15eb2929",
   "metadata": {},
   "source": [
    "**Cross-Validation Results**"
   ]
  },
  {
   "cell_type": "code",
   "execution_count": 92,
   "id": "b0d0fe12",
   "metadata": {},
   "outputs": [
    {
     "name": "stdout",
     "output_type": "stream",
     "text": [
      "[0.8252167  0.81466963 0.85231303 0.83568157 0.84336939 0.83123515\n",
      " 0.81296447 0.81335317 0.88230641 0.85475628]\n",
      "Random Forest Cross Validation Test Score  0.8365865801599405\n"
     ]
    }
   ],
   "source": [
    "rfr_model_cv_r2 = cross_val_score(rfr_model, X_test, y_test, scoring='r2', cv=10)  #0.8546\n",
    "print(rfr_model_cv_r2)\n",
    "scores=rfr_model_cv_r2.mean()\n",
    "print('Random Forest Cross Validation Test Score ',scores)"
   ]
  },
  {
   "cell_type": "markdown",
   "id": "da72a6b2",
   "metadata": {},
   "source": [
    "**The average test score is 0.83 and train is 0.84 .**"
   ]
  },
  {
   "cell_type": "code",
   "execution_count": null,
   "id": "3b9631ea",
   "metadata": {},
   "outputs": [],
   "source": []
  },
  {
   "cell_type": "markdown",
   "id": "7300d5e3",
   "metadata": {},
   "source": [
    "---"
   ]
  },
  {
   "cell_type": "markdown",
   "id": "d5f5f865",
   "metadata": {},
   "source": [
    "# Using regularization parameters to recreate the random forest regressor model."
   ]
  },
  {
   "cell_type": "code",
   "execution_count": 93,
   "id": "de7ea223",
   "metadata": {},
   "outputs": [],
   "source": [
    "tuned_params={'bootstrap': [True, False],\n",
    " 'max_depth': [30, 40, 50, 60, None],\n",
    " 'max_features': ['auto', 'sqrt'],\n",
    " 'min_samples_leaf': [1, 2, 4],\n",
    " 'min_samples_split': [2, 5, 10],\n",
    " 'n_estimators': [200,400]}"
   ]
  },
  {
   "cell_type": "code",
   "execution_count": 94,
   "id": "055c042c",
   "metadata": {},
   "outputs": [],
   "source": [
    "rfr_grid = GridSearchCV(estimator=rfr, param_grid=tuned_params, cv=5)"
   ]
  },
  {
   "cell_type": "markdown",
   "id": "c78d3658",
   "metadata": {},
   "source": [
    "----"
   ]
  },
  {
   "cell_type": "code",
   "execution_count": 504,
   "id": "7ff26ffd",
   "metadata": {},
   "outputs": [
    {
     "data": {
      "text/plain": [
       "GridSearchCV(cv=5, estimator=RandomForestRegressor(),\n",
       "             param_grid={'bootstrap': [True, False],\n",
       "                         'max_depth': [30, 40, 50, 60, None],\n",
       "                         'max_features': ['auto', 'sqrt'],\n",
       "                         'min_samples_leaf': [1, 2, 4],\n",
       "                         'min_samples_split': [2, 5, 10],\n",
       "                         'n_estimators': [200, 400]})"
      ]
     },
     "execution_count": 504,
     "metadata": {},
     "output_type": "execute_result"
    }
   ],
   "source": [
    "rfr_grid.fit(X_train, y_train)"
   ]
  },
  {
   "cell_type": "code",
   "execution_count": 506,
   "id": "d32d754d",
   "metadata": {},
   "outputs": [
    {
     "data": {
      "text/plain": [
       "{'bootstrap': True,\n",
       " 'max_depth': 50,\n",
       " 'max_features': 'auto',\n",
       " 'min_samples_leaf': 1,\n",
       " 'min_samples_split': 10,\n",
       " 'n_estimators': 400}"
      ]
     },
     "execution_count": 506,
     "metadata": {},
     "output_type": "execute_result"
    }
   ],
   "source": [
    "rfr_grid.best_params_"
   ]
  },
  {
   "cell_type": "code",
   "execution_count": null,
   "id": "ecc816c7",
   "metadata": {},
   "outputs": [],
   "source": [
    "# Building Model Using Regularization"
   ]
  },
  {
   "cell_type": "code",
   "execution_count": 95,
   "id": "586afed9",
   "metadata": {},
   "outputs": [],
   "source": [
    "#Initialization and Fitting using best parameters\n",
    "rf=RandomForestRegressor(bootstrap= True,\n",
    " max_depth= 50,\n",
    " max_features= 'auto',\n",
    " min_samples_leaf= 1,\n",
    " min_samples_split= 10,\n",
    " n_estimators= 400,random_state=0)\n",
    "rfr_grid_model = rf.fit(X_train, y_train)"
   ]
  },
  {
   "cell_type": "markdown",
   "id": "fbe2ec0f",
   "metadata": {},
   "source": [
    "# Train Accuracy and RMSE - - RF_Grid Model"
   ]
  },
  {
   "cell_type": "code",
   "execution_count": 96,
   "id": "d7127466",
   "metadata": {},
   "outputs": [
    {
     "name": "stdout",
     "output_type": "stream",
     "text": [
      "r2_train_rfr_grid 0.9270028165754752\n",
      "rmse_train_rfr_grid 0.13529566393976572\n"
     ]
    }
   ],
   "source": [
    "#Prediction Train\n",
    "y_pred_train_rfr_grid=rfr_grid_model.predict(X_train)\n",
    "\n",
    "# R-Squared Train\n",
    "r2_train_rfr_grid = r2_score(y_train,y_pred_train_rfr_grid)\n",
    "print('r2_train_rfr_grid',r2_train_rfr_grid)\n",
    "\n",
    "#Root mean squared error(RMSE) Train\n",
    "rmse_train_rfr_grid = np.sqrt(mean_squared_error(y_train,y_pred_train_rfr_grid))\n",
    "print('rmse_train_rfr_grid',rmse_train_rfr_grid)"
   ]
  },
  {
   "cell_type": "markdown",
   "id": "e41696a7",
   "metadata": {},
   "source": [
    "# Test Accuracy and RMSE - - RF_Grid Model"
   ]
  },
  {
   "cell_type": "code",
   "execution_count": 97,
   "id": "05e86eb8",
   "metadata": {},
   "outputs": [
    {
     "name": "stdout",
     "output_type": "stream",
     "text": [
      "r2_test_rfr_grid 0.8692925659011074\n",
      "rmse_test_rfr_grid 0.1811842422024172\n"
     ]
    }
   ],
   "source": [
    "#Prediction\n",
    "y_pred_rfr_grid=rfr_grid_model.predict(X_test)\n",
    "\n",
    "# R-Squared\n",
    "r2_test_rfr_grid = r2_score(y_test,y_pred_rfr_grid)\n",
    "print('r2_test_rfr_grid',r2_test_rfr_grid)\n",
    "\n",
    "#Root mean squared error(RMSE)\n",
    "rmse_test_rfr_grid = np.sqrt(mean_squared_error(y_test,y_pred_rfr_grid))\n",
    "print('rmse_test_rfr_grid',rmse_test_rfr_grid)"
   ]
  },
  {
   "cell_type": "code",
   "execution_count": 98,
   "id": "2cf085a1",
   "metadata": {},
   "outputs": [
    {
     "name": "stdout",
     "output_type": "stream",
     "text": [
      "[0.86001797 0.8734459  0.86198995 0.85241223 0.88715406 0.87641719\n",
      " 0.87238752 0.85930358 0.88173679 0.87646905]\n",
      "Random Forest Cross Validation Train Score  0.8701334262654559\n"
     ]
    }
   ],
   "source": [
    "rfr_grid_model_cv_r2 = cross_val_score(rfr_grid_model, X_train, y_train, scoring='r2', cv=10)\n",
    "print(rfr_grid_model_cv_r2)\n",
    "scores=rfr_grid_model_cv_r2.mean()\n",
    "print('Random Forest Cross Validation Train Score ',scores)"
   ]
  },
  {
   "cell_type": "code",
   "execution_count": 99,
   "id": "89491a1b",
   "metadata": {},
   "outputs": [],
   "source": [
    "# Cross_Val_Test"
   ]
  },
  {
   "cell_type": "markdown",
   "id": "a2a5c4e5",
   "metadata": {},
   "source": [
    "**Cross-Validation Results**"
   ]
  },
  {
   "cell_type": "code",
   "execution_count": 100,
   "id": "74924952",
   "metadata": {},
   "outputs": [
    {
     "name": "stdout",
     "output_type": "stream",
     "text": [
      "[0.83476023 0.82705364 0.86907573 0.84202183 0.85854649 0.83797138\n",
      " 0.81564284 0.8283554  0.88118479 0.86796841]\n",
      "Random Forest Cross Validation Test Score  0.8462580754379928\n"
     ]
    }
   ],
   "source": [
    "rfr_grid_model_cv_r2 = cross_val_score(rfr_grid_model, X_test, y_test, scoring='r2', cv=10)  #0.8546\n",
    "print(rfr_grid_model_cv_r2)\n",
    "scores=rfr_grid_model_cv_r2.mean()\n",
    "print('Random Forest Cross Validation Test Score ',scores)"
   ]
  },
  {
   "cell_type": "code",
   "execution_count": null,
   "id": "94c4b099",
   "metadata": {},
   "outputs": [],
   "source": []
  },
  {
   "cell_type": "markdown",
   "id": "a556551e",
   "metadata": {},
   "source": [
    "----"
   ]
  },
  {
   "cell_type": "markdown",
   "id": "7d2218eb",
   "metadata": {},
   "source": [
    "# Gradient Boosting Regressor"
   ]
  },
  {
   "cell_type": "code",
   "execution_count": 102,
   "id": "2a6e9b7c",
   "metadata": {},
   "outputs": [],
   "source": [
    "from sklearn.ensemble import GradientBoostingRegressor  "
   ]
  },
  {
   "cell_type": "code",
   "execution_count": 107,
   "id": "d82932a2",
   "metadata": {},
   "outputs": [],
   "source": [
    "gbr = GradientBoostingRegressor(n_estimators=400,   #88.225\n",
    "                                max_depth=5,\n",
    "                                min_samples_split= 10,\n",
    "                                max_features= 'auto',\n",
    "                                random_state=0,learning_rate=0.1)"
   ]
  },
  {
   "cell_type": "code",
   "execution_count": 108,
   "id": "66058091",
   "metadata": {},
   "outputs": [],
   "source": [
    "gbr_model = gbr.fit(X_train, y_train)"
   ]
  },
  {
   "cell_type": "markdown",
   "id": "c19bd322",
   "metadata": {},
   "source": [
    "# Train Accuracy and RMSE - - GB Model"
   ]
  },
  {
   "cell_type": "code",
   "execution_count": 109,
   "id": "f2cc834c",
   "metadata": {},
   "outputs": [
    {
     "name": "stdout",
     "output_type": "stream",
     "text": [
      "r2_train_gbr_grid 0.9199699804437342\n",
      "rmse_train_gbr_grid 0.14166327838626355\n"
     ]
    }
   ],
   "source": [
    "#Prediction Train\n",
    "y_pred_train_gbr_grid=gbr_model.predict(X_train)\n",
    "\n",
    "# R-Squared Train\n",
    "r2_train_gbr_grid = r2_score(y_train,y_pred_train_gbr_grid)\n",
    "print('r2_train_gbr_grid',r2_train_gbr_grid)\n",
    "\n",
    "#Root mean squared error(RMSE) Train\n",
    "rmse_train_gbr_grid = np.sqrt(mean_squared_error(y_train,y_pred_train_gbr_grid))\n",
    "print('rmse_train_gbr_grid',rmse_train_gbr_grid)"
   ]
  },
  {
   "cell_type": "markdown",
   "id": "1c05d966",
   "metadata": {},
   "source": [
    "# Test Accuracy and RMSE - - GB Model"
   ]
  },
  {
   "cell_type": "code",
   "execution_count": 110,
   "id": "11e3d969",
   "metadata": {},
   "outputs": [
    {
     "name": "stdout",
     "output_type": "stream",
     "text": [
      "r2_test_gbr_grid 0.8728564224188974\n",
      "rmse_test_gbr_grid 0.17869709526446106\n"
     ]
    }
   ],
   "source": [
    "#Prediction\n",
    "y_pred_gbr_grid=gbr_model.predict(X_test)\n",
    "\n",
    "# R-Squared\n",
    "r2_test_gbr_grid = r2_score(y_test,y_pred_gbr_grid)\n",
    "print('r2_test_gbr_grid',r2_test_gbr_grid)\n",
    "\n",
    "#Root mean squared error(RMSE)\n",
    "rmse_test_gbr_grid = np.sqrt(mean_squared_error(y_test,y_pred_gbr_grid))\n",
    "print('rmse_test_gbr_grid',rmse_test_gbr_grid)"
   ]
  },
  {
   "cell_type": "code",
   "execution_count": 111,
   "id": "3c7e0a96",
   "metadata": {},
   "outputs": [],
   "source": [
    "# Cross_Val_Train"
   ]
  },
  {
   "cell_type": "code",
   "execution_count": 112,
   "id": "2eab20b0",
   "metadata": {},
   "outputs": [
    {
     "name": "stdout",
     "output_type": "stream",
     "text": [
      "[0.86697386 0.88116715 0.86505496 0.86659854 0.89540447 0.88263176\n",
      " 0.87156719 0.86888277 0.88719509 0.88427298]\n",
      "0.8769748777143016\n"
     ]
    }
   ],
   "source": [
    "gbr_model_cv_r2 = cross_val_score(gbr_model, X_train, y_train, scoring='r2', cv=10)\n",
    "print(gbr_model_cv_r2)\n",
    "scores=gbr_model_cv_r2.mean()\n",
    "print(scores)"
   ]
  },
  {
   "cell_type": "code",
   "execution_count": 113,
   "id": "a391a077",
   "metadata": {},
   "outputs": [],
   "source": [
    "# Cross_Val_Test"
   ]
  },
  {
   "cell_type": "markdown",
   "id": "15eb2929",
   "metadata": {},
   "source": [
    "**Cross-Validation Results**"
   ]
  },
  {
   "cell_type": "code",
   "execution_count": 114,
   "id": "b0d0fe12",
   "metadata": {},
   "outputs": [
    {
     "name": "stdout",
     "output_type": "stream",
     "text": [
      "[0.82588251 0.81717407 0.8492427  0.83652504 0.85919869 0.85076216\n",
      " 0.83153214 0.83594301 0.88310253 0.87402753]\n",
      "0.8463390374980448\n"
     ]
    }
   ],
   "source": [
    "gbr_model_cv_r2 = cross_val_score(gbr_model, X_test, y_test, scoring='r2', cv=10)  #0.8546\n",
    "print(gbr_model_cv_r2)\n",
    "scores=gbr_model_cv_r2.mean()\n",
    "print(scores)"
   ]
  },
  {
   "cell_type": "markdown",
   "id": "da72a6b2",
   "metadata": {},
   "source": [
    "**The average test score is 0.86 and train is 0.87 .**"
   ]
  },
  {
   "cell_type": "code",
   "execution_count": null,
   "id": "def56dab",
   "metadata": {},
   "outputs": [],
   "source": []
  },
  {
   "cell_type": "markdown",
   "id": "3ad9f425",
   "metadata": {},
   "source": [
    "# Auto ML "
   ]
  },
  {
   "cell_type": "code",
   "execution_count": 115,
   "id": "c3ee8a9e",
   "metadata": {},
   "outputs": [],
   "source": [
    "from flaml import AutoML"
   ]
  },
  {
   "cell_type": "code",
   "execution_count": 116,
   "id": "9bf2947d",
   "metadata": {
    "scrolled": true
   },
   "outputs": [
    {
     "name": "stderr",
     "output_type": "stream",
     "text": [
      "[flaml.automl: 10-25 16:13:14] {1432} INFO - Evaluation method: holdout\n",
      "[flaml.automl: 10-25 16:13:14] {1478} INFO - Minimizing error metric: rmse\n",
      "[flaml.automl: 10-25 16:13:14] {1515} INFO - List of ML learners in AutoML Run: ['lgbm', 'rf', 'catboost', 'xgboost', 'extra_tree']\n",
      "[flaml.automl: 10-25 16:13:14] {1748} INFO - iteration 0, current learner lgbm\n",
      "[flaml.automl: 10-25 16:13:14] {1865} INFO - Estimated sufficient time budget=529s. Estimated necessary time budget=1s.\n",
      "[flaml.automl: 10-25 16:13:14] {1938} INFO -  at 0.2s,\testimator lgbm's best error=0.3835,\tbest estimator lgbm's best error=0.3835\n",
      "[flaml.automl: 10-25 16:13:14] {1748} INFO - iteration 1, current learner lgbm\n",
      "[flaml.automl: 10-25 16:13:14] {1938} INFO -  at 0.3s,\testimator lgbm's best error=0.3835,\tbest estimator lgbm's best error=0.3835\n",
      "[flaml.automl: 10-25 16:13:14] {1748} INFO - iteration 2, current learner lgbm\n",
      "[flaml.automl: 10-25 16:13:14] {1938} INFO -  at 0.3s,\testimator lgbm's best error=0.2962,\tbest estimator lgbm's best error=0.2962\n",
      "[flaml.automl: 10-25 16:13:14] {1748} INFO - iteration 3, current learner xgboost\n",
      "[flaml.automl: 10-25 16:13:15] {1938} INFO -  at 0.7s,\testimator xgboost's best error=5.5816,\tbest estimator lgbm's best error=0.2962\n",
      "[flaml.automl: 10-25 16:13:15] {1748} INFO - iteration 4, current learner extra_tree\n",
      "[flaml.automl: 10-25 16:13:15] {1938} INFO -  at 0.8s,\testimator extra_tree's best error=0.2854,\tbest estimator extra_tree's best error=0.2854\n",
      "[flaml.automl: 10-25 16:13:15] {1748} INFO - iteration 5, current learner lgbm\n",
      "[flaml.automl: 10-25 16:13:15] {1938} INFO -  at 0.9s,\testimator lgbm's best error=0.2256,\tbest estimator lgbm's best error=0.2256\n",
      "[flaml.automl: 10-25 16:13:15] {1748} INFO - iteration 6, current learner lgbm\n",
      "[flaml.automl: 10-25 16:13:15] {1938} INFO -  at 1.0s,\testimator lgbm's best error=0.2256,\tbest estimator lgbm's best error=0.2256\n",
      "[flaml.automl: 10-25 16:13:15] {1748} INFO - iteration 7, current learner lgbm\n",
      "[flaml.automl: 10-25 16:13:15] {1938} INFO -  at 1.1s,\testimator lgbm's best error=0.2205,\tbest estimator lgbm's best error=0.2205\n",
      "[flaml.automl: 10-25 16:13:15] {1748} INFO - iteration 8, current learner lgbm\n",
      "[flaml.automl: 10-25 16:13:15] {1938} INFO -  at 1.2s,\testimator lgbm's best error=0.2205,\tbest estimator lgbm's best error=0.2205\n",
      "[flaml.automl: 10-25 16:13:15] {1748} INFO - iteration 9, current learner lgbm\n",
      "[flaml.automl: 10-25 16:13:15] {1938} INFO -  at 1.2s,\testimator lgbm's best error=0.2205,\tbest estimator lgbm's best error=0.2205\n",
      "[flaml.automl: 10-25 16:13:15] {1748} INFO - iteration 10, current learner xgboost\n",
      "[flaml.automl: 10-25 16:13:15] {1938} INFO -  at 1.3s,\testimator xgboost's best error=5.5816,\tbest estimator lgbm's best error=0.2205\n",
      "[flaml.automl: 10-25 16:13:15] {1748} INFO - iteration 11, current learner extra_tree\n",
      "[flaml.automl: 10-25 16:13:15] {1938} INFO -  at 1.4s,\testimator extra_tree's best error=0.2395,\tbest estimator lgbm's best error=0.2205\n",
      "[flaml.automl: 10-25 16:13:15] {1748} INFO - iteration 12, current learner extra_tree\n",
      "[flaml.automl: 10-25 16:13:15] {1938} INFO -  at 1.4s,\testimator extra_tree's best error=0.2395,\tbest estimator lgbm's best error=0.2205\n",
      "[flaml.automl: 10-25 16:13:15] {1748} INFO - iteration 13, current learner rf\n",
      "[flaml.automl: 10-25 16:13:15] {1938} INFO -  at 1.5s,\testimator rf's best error=0.2764,\tbest estimator lgbm's best error=0.2205\n",
      "[flaml.automl: 10-25 16:13:15] {1748} INFO - iteration 14, current learner rf\n",
      "[flaml.automl: 10-25 16:13:15] {1938} INFO -  at 1.6s,\testimator rf's best error=0.2397,\tbest estimator lgbm's best error=0.2205\n",
      "[flaml.automl: 10-25 16:13:15] {1748} INFO - iteration 15, current learner xgboost\n",
      "[flaml.automl: 10-25 16:13:16] {1938} INFO -  at 1.6s,\testimator xgboost's best error=2.5752,\tbest estimator lgbm's best error=0.2205\n",
      "[flaml.automl: 10-25 16:13:16] {1748} INFO - iteration 16, current learner rf\n",
      "[flaml.automl: 10-25 16:13:16] {1938} INFO -  at 1.7s,\testimator rf's best error=0.2397,\tbest estimator lgbm's best error=0.2205\n",
      "[flaml.automl: 10-25 16:13:16] {1748} INFO - iteration 17, current learner extra_tree\n",
      "[flaml.automl: 10-25 16:13:16] {1938} INFO -  at 1.8s,\testimator extra_tree's best error=0.2143,\tbest estimator extra_tree's best error=0.2143\n",
      "[flaml.automl: 10-25 16:13:16] {1748} INFO - iteration 18, current learner lgbm\n",
      "[flaml.automl: 10-25 16:13:16] {1938} INFO -  at 1.9s,\testimator lgbm's best error=0.2139,\tbest estimator lgbm's best error=0.2139\n",
      "[flaml.automl: 10-25 16:13:16] {1748} INFO - iteration 19, current learner xgboost\n",
      "[flaml.automl: 10-25 16:13:16] {1938} INFO -  at 2.0s,\testimator xgboost's best error=0.2485,\tbest estimator lgbm's best error=0.2139\n",
      "[flaml.automl: 10-25 16:13:16] {1748} INFO - iteration 20, current learner xgboost\n",
      "[flaml.automl: 10-25 16:13:16] {1938} INFO -  at 2.0s,\testimator xgboost's best error=0.2485,\tbest estimator lgbm's best error=0.2139\n",
      "[flaml.automl: 10-25 16:13:16] {1748} INFO - iteration 21, current learner xgboost\n",
      "[flaml.automl: 10-25 16:13:16] {1938} INFO -  at 2.1s,\testimator xgboost's best error=0.2485,\tbest estimator lgbm's best error=0.2139\n",
      "[flaml.automl: 10-25 16:13:16] {1748} INFO - iteration 22, current learner lgbm\n",
      "[flaml.automl: 10-25 16:13:16] {1938} INFO -  at 2.1s,\testimator lgbm's best error=0.2139,\tbest estimator lgbm's best error=0.2139\n",
      "[flaml.automl: 10-25 16:13:16] {1748} INFO - iteration 23, current learner rf\n",
      "[flaml.automl: 10-25 16:13:16] {1938} INFO -  at 2.3s,\testimator rf's best error=0.2155,\tbest estimator lgbm's best error=0.2139\n",
      "[flaml.automl: 10-25 16:13:16] {1748} INFO - iteration 24, current learner extra_tree\n",
      "[flaml.automl: 10-25 16:13:16] {1938} INFO -  at 2.4s,\testimator extra_tree's best error=0.1955,\tbest estimator extra_tree's best error=0.1955\n",
      "[flaml.automl: 10-25 16:13:16] {1748} INFO - iteration 25, current learner extra_tree\n",
      "[flaml.automl: 10-25 16:13:16] {1938} INFO -  at 2.5s,\testimator extra_tree's best error=0.1955,\tbest estimator extra_tree's best error=0.1955\n",
      "[flaml.automl: 10-25 16:13:16] {1748} INFO - iteration 26, current learner xgboost\n",
      "[flaml.automl: 10-25 16:13:16] {1938} INFO -  at 2.5s,\testimator xgboost's best error=0.2318,\tbest estimator extra_tree's best error=0.1955\n",
      "[flaml.automl: 10-25 16:13:16] {1748} INFO - iteration 27, current learner extra_tree\n",
      "[flaml.automl: 10-25 16:13:17] {1938} INFO -  at 2.7s,\testimator extra_tree's best error=0.1955,\tbest estimator extra_tree's best error=0.1955\n",
      "[flaml.automl: 10-25 16:13:17] {1748} INFO - iteration 28, current learner extra_tree\n",
      "[flaml.automl: 10-25 16:13:17] {1938} INFO -  at 2.8s,\testimator extra_tree's best error=0.1955,\tbest estimator extra_tree's best error=0.1955\n",
      "[flaml.automl: 10-25 16:13:17] {1748} INFO - iteration 29, current learner extra_tree\n",
      "[flaml.automl: 10-25 16:13:17] {1938} INFO -  at 2.9s,\testimator extra_tree's best error=0.1922,\tbest estimator extra_tree's best error=0.1922\n",
      "[flaml.automl: 10-25 16:13:17] {1748} INFO - iteration 30, current learner rf\n",
      "[flaml.automl: 10-25 16:13:17] {1938} INFO -  at 3.0s,\testimator rf's best error=0.2011,\tbest estimator extra_tree's best error=0.1922\n",
      "[flaml.automl: 10-25 16:13:17] {1748} INFO - iteration 31, current learner lgbm\n",
      "[flaml.automl: 10-25 16:13:17] {1938} INFO -  at 3.2s,\testimator lgbm's best error=0.1848,\tbest estimator lgbm's best error=0.1848\n",
      "[flaml.automl: 10-25 16:13:17] {1748} INFO - iteration 32, current learner lgbm\n",
      "[flaml.automl: 10-25 16:13:17] {1938} INFO -  at 3.4s,\testimator lgbm's best error=0.1848,\tbest estimator lgbm's best error=0.1848\n",
      "[flaml.automl: 10-25 16:13:17] {1748} INFO - iteration 33, current learner xgboost\n",
      "[flaml.automl: 10-25 16:13:17] {1938} INFO -  at 3.4s,\testimator xgboost's best error=0.2212,\tbest estimator lgbm's best error=0.1848\n",
      "[flaml.automl: 10-25 16:13:17] {1748} INFO - iteration 34, current learner lgbm\n",
      "[flaml.automl: 10-25 16:13:17] {1938} INFO -  at 3.6s,\testimator lgbm's best error=0.1848,\tbest estimator lgbm's best error=0.1848\n",
      "[flaml.automl: 10-25 16:13:17] {1748} INFO - iteration 35, current learner rf\n",
      "[flaml.automl: 10-25 16:13:18] {1938} INFO -  at 3.7s,\testimator rf's best error=0.2011,\tbest estimator lgbm's best error=0.1848\n",
      "[flaml.automl: 10-25 16:13:18] {1748} INFO - iteration 36, current learner extra_tree\n"
     ]
    },
    {
     "name": "stderr",
     "output_type": "stream",
     "text": [
      "[flaml.automl: 10-25 16:13:18] {1938} INFO -  at 3.8s,\testimator extra_tree's best error=0.1922,\tbest estimator lgbm's best error=0.1848\n",
      "[flaml.automl: 10-25 16:13:18] {1748} INFO - iteration 37, current learner rf\n",
      "[flaml.automl: 10-25 16:13:18] {1938} INFO -  at 3.9s,\testimator rf's best error=0.1875,\tbest estimator lgbm's best error=0.1848\n",
      "[flaml.automl: 10-25 16:13:18] {1748} INFO - iteration 38, current learner rf\n",
      "[flaml.automl: 10-25 16:13:18] {1938} INFO -  at 4.0s,\testimator rf's best error=0.1875,\tbest estimator lgbm's best error=0.1848\n",
      "[flaml.automl: 10-25 16:13:18] {1748} INFO - iteration 39, current learner rf\n",
      "[flaml.automl: 10-25 16:13:18] {1938} INFO -  at 4.2s,\testimator rf's best error=0.1875,\tbest estimator lgbm's best error=0.1848\n",
      "[flaml.automl: 10-25 16:13:18] {1748} INFO - iteration 40, current learner rf\n",
      "[flaml.automl: 10-25 16:13:18] {1938} INFO -  at 4.2s,\testimator rf's best error=0.1875,\tbest estimator lgbm's best error=0.1848\n",
      "[flaml.automl: 10-25 16:13:18] {1748} INFO - iteration 41, current learner xgboost\n",
      "[flaml.automl: 10-25 16:13:18] {1938} INFO -  at 4.3s,\testimator xgboost's best error=0.2212,\tbest estimator lgbm's best error=0.1848\n",
      "[flaml.automl: 10-25 16:13:18] {1748} INFO - iteration 42, current learner lgbm\n",
      "[flaml.automl: 10-25 16:13:18] {1938} INFO -  at 4.4s,\testimator lgbm's best error=0.1848,\tbest estimator lgbm's best error=0.1848\n",
      "[flaml.automl: 10-25 16:13:18] {1748} INFO - iteration 43, current learner rf\n",
      "[flaml.automl: 10-25 16:13:18] {1938} INFO -  at 4.5s,\testimator rf's best error=0.1875,\tbest estimator lgbm's best error=0.1848\n",
      "[flaml.automl: 10-25 16:13:18] {1748} INFO - iteration 44, current learner extra_tree\n",
      "[flaml.automl: 10-25 16:13:19] {1938} INFO -  at 4.7s,\testimator extra_tree's best error=0.1922,\tbest estimator lgbm's best error=0.1848\n",
      "[flaml.automl: 10-25 16:13:19] {1748} INFO - iteration 45, current learner xgboost\n",
      "[flaml.automl: 10-25 16:13:19] {1938} INFO -  at 4.7s,\testimator xgboost's best error=0.2013,\tbest estimator lgbm's best error=0.1848\n",
      "[flaml.automl: 10-25 16:13:19] {1748} INFO - iteration 46, current learner rf\n",
      "[flaml.automl: 10-25 16:13:19] {1938} INFO -  at 4.9s,\testimator rf's best error=0.1875,\tbest estimator lgbm's best error=0.1848\n",
      "[flaml.automl: 10-25 16:13:19] {1748} INFO - iteration 47, current learner xgboost\n",
      "[flaml.automl: 10-25 16:13:19] {1938} INFO -  at 5.0s,\testimator xgboost's best error=0.2013,\tbest estimator lgbm's best error=0.1848\n",
      "[flaml.automl: 10-25 16:13:19] {1748} INFO - iteration 48, current learner lgbm\n",
      "[flaml.automl: 10-25 16:13:19] {1938} INFO -  at 5.2s,\testimator lgbm's best error=0.1828,\tbest estimator lgbm's best error=0.1828\n",
      "[flaml.automl: 10-25 16:13:19] {1748} INFO - iteration 49, current learner rf\n",
      "[flaml.automl: 10-25 16:13:19] {1938} INFO -  at 5.2s,\testimator rf's best error=0.1875,\tbest estimator lgbm's best error=0.1828\n",
      "[flaml.automl: 10-25 16:13:19] {1748} INFO - iteration 50, current learner xgboost\n",
      "[flaml.automl: 10-25 16:13:19] {1938} INFO -  at 5.3s,\testimator xgboost's best error=0.2013,\tbest estimator lgbm's best error=0.1828\n",
      "[flaml.automl: 10-25 16:13:19] {1748} INFO - iteration 51, current learner rf\n",
      "[flaml.automl: 10-25 16:13:19] {1938} INFO -  at 5.5s,\testimator rf's best error=0.1875,\tbest estimator lgbm's best error=0.1828\n",
      "[flaml.automl: 10-25 16:13:19] {1748} INFO - iteration 52, current learner lgbm\n",
      "[flaml.automl: 10-25 16:13:20] {1938} INFO -  at 5.9s,\testimator lgbm's best error=0.1828,\tbest estimator lgbm's best error=0.1828\n",
      "[flaml.automl: 10-25 16:13:20] {1748} INFO - iteration 53, current learner lgbm\n",
      "[flaml.automl: 10-25 16:13:20] {1938} INFO -  at 6.3s,\testimator lgbm's best error=0.1828,\tbest estimator lgbm's best error=0.1828\n",
      "[flaml.automl: 10-25 16:13:20] {1748} INFO - iteration 54, current learner lgbm\n",
      "[flaml.automl: 10-25 16:13:21] {1938} INFO -  at 7.0s,\testimator lgbm's best error=0.1817,\tbest estimator lgbm's best error=0.1817\n",
      "[flaml.automl: 10-25 16:13:21] {1748} INFO - iteration 55, current learner xgboost\n",
      "[flaml.automl: 10-25 16:13:21] {1938} INFO -  at 7.4s,\testimator xgboost's best error=0.1957,\tbest estimator lgbm's best error=0.1817\n",
      "[flaml.automl: 10-25 16:13:21] {1748} INFO - iteration 56, current learner catboost\n",
      "[flaml.automl: 10-25 16:13:23] {1938} INFO -  at 9.1s,\testimator catboost's best error=0.1800,\tbest estimator catboost's best error=0.1800\n",
      "[flaml.automl: 10-25 16:13:23] {1748} INFO - iteration 57, current learner rf\n",
      "[flaml.automl: 10-25 16:13:23] {1938} INFO -  at 9.1s,\testimator rf's best error=0.1875,\tbest estimator catboost's best error=0.1800\n",
      "[flaml.automl: 10-25 16:13:23] {1748} INFO - iteration 58, current learner rf\n",
      "[flaml.automl: 10-25 16:13:23] {1938} INFO -  at 9.3s,\testimator rf's best error=0.1875,\tbest estimator catboost's best error=0.1800\n",
      "[flaml.automl: 10-25 16:13:23] {1748} INFO - iteration 59, current learner catboost\n",
      "[flaml.automl: 10-25 16:13:25] {1938} INFO -  at 10.9s,\testimator catboost's best error=0.1800,\tbest estimator catboost's best error=0.1800\n",
      "[flaml.automl: 10-25 16:13:25] {1748} INFO - iteration 60, current learner lgbm\n",
      "[flaml.automl: 10-25 16:13:25] {1938} INFO -  at 11.2s,\testimator lgbm's best error=0.1817,\tbest estimator catboost's best error=0.1800\n",
      "[flaml.automl: 10-25 16:13:25] {1748} INFO - iteration 61, current learner catboost\n",
      "[flaml.automl: 10-25 16:13:26] {1938} INFO -  at 11.8s,\testimator catboost's best error=0.1800,\tbest estimator catboost's best error=0.1800\n",
      "[flaml.automl: 10-25 16:13:26] {1748} INFO - iteration 62, current learner rf\n",
      "[flaml.automl: 10-25 16:13:26] {1938} INFO -  at 11.9s,\testimator rf's best error=0.1875,\tbest estimator catboost's best error=0.1800\n",
      "[flaml.automl: 10-25 16:13:26] {1748} INFO - iteration 63, current learner catboost\n",
      "[flaml.automl: 10-25 16:13:27] {1938} INFO -  at 13.3s,\testimator catboost's best error=0.1800,\tbest estimator catboost's best error=0.1800\n",
      "[flaml.automl: 10-25 16:13:27] {1748} INFO - iteration 64, current learner xgboost\n",
      "[flaml.automl: 10-25 16:13:27] {1938} INFO -  at 13.4s,\testimator xgboost's best error=0.1957,\tbest estimator catboost's best error=0.1800\n",
      "[flaml.automl: 10-25 16:13:27] {1748} INFO - iteration 65, current learner lgbm\n",
      "[flaml.automl: 10-25 16:13:27] {1938} INFO -  at 13.6s,\testimator lgbm's best error=0.1813,\tbest estimator catboost's best error=0.1800\n",
      "[flaml.automl: 10-25 16:13:27] {1748} INFO - iteration 66, current learner rf\n",
      "[flaml.automl: 10-25 16:13:28] {1938} INFO -  at 13.7s,\testimator rf's best error=0.1875,\tbest estimator catboost's best error=0.1800\n",
      "[flaml.automl: 10-25 16:13:28] {1748} INFO - iteration 67, current learner catboost\n",
      "[flaml.automl: 10-25 16:13:28] {1938} INFO -  at 14.5s,\testimator catboost's best error=0.1800,\tbest estimator catboost's best error=0.1800\n",
      "[flaml.automl: 10-25 16:13:28] {1748} INFO - iteration 68, current learner rf\n",
      "[flaml.automl: 10-25 16:13:29] {1938} INFO -  at 14.6s,\testimator rf's best error=0.1875,\tbest estimator catboost's best error=0.1800\n",
      "[flaml.automl: 10-25 16:13:29] {1748} INFO - iteration 69, current learner lgbm\n",
      "[flaml.automl: 10-25 16:13:29] {1938} INFO -  at 15.0s,\testimator lgbm's best error=0.1813,\tbest estimator catboost's best error=0.1800\n",
      "[flaml.automl: 10-25 16:13:29] {1748} INFO - iteration 70, current learner catboost\n",
      "[flaml.automl: 10-25 16:13:30] {1938} INFO -  at 16.1s,\testimator catboost's best error=0.1800,\tbest estimator catboost's best error=0.1800\n",
      "[flaml.automl: 10-25 16:13:30] {1748} INFO - iteration 71, current learner catboost\n",
      "[flaml.automl: 10-25 16:13:31] {1938} INFO -  at 16.7s,\testimator catboost's best error=0.1800,\tbest estimator catboost's best error=0.1800\n",
      "[flaml.automl: 10-25 16:13:31] {1748} INFO - iteration 72, current learner rf\n",
      "[flaml.automl: 10-25 16:13:31] {1938} INFO -  at 16.8s,\testimator rf's best error=0.1875,\tbest estimator catboost's best error=0.1800\n",
      "[flaml.automl: 10-25 16:13:31] {1748} INFO - iteration 73, current learner extra_tree\n",
      "[flaml.automl: 10-25 16:13:31] {1938} INFO -  at 17.0s,\testimator extra_tree's best error=0.1922,\tbest estimator catboost's best error=0.1800\n",
      "[flaml.automl: 10-25 16:13:31] {1748} INFO - iteration 74, current learner catboost\n",
      "[flaml.automl: 10-25 16:13:32] {1938} INFO -  at 18.0s,\testimator catboost's best error=0.1800,\tbest estimator catboost's best error=0.1800\n"
     ]
    },
    {
     "name": "stderr",
     "output_type": "stream",
     "text": [
      "[flaml.automl: 10-25 16:13:32] {1748} INFO - iteration 75, current learner extra_tree\n",
      "[flaml.automl: 10-25 16:13:32] {1938} INFO -  at 18.1s,\testimator extra_tree's best error=0.1922,\tbest estimator catboost's best error=0.1800\n",
      "[flaml.automl: 10-25 16:13:32] {1748} INFO - iteration 76, current learner lgbm\n",
      "[flaml.automl: 10-25 16:13:32] {1938} INFO -  at 18.2s,\testimator lgbm's best error=0.1751,\tbest estimator lgbm's best error=0.1751\n",
      "[flaml.automl: 10-25 16:13:32] {1748} INFO - iteration 77, current learner lgbm\n",
      "[flaml.automl: 10-25 16:13:32] {1938} INFO -  at 18.4s,\testimator lgbm's best error=0.1751,\tbest estimator lgbm's best error=0.1751\n",
      "[flaml.automl: 10-25 16:13:32] {1748} INFO - iteration 78, current learner rf\n",
      "[flaml.automl: 10-25 16:13:32] {1938} INFO -  at 18.6s,\testimator rf's best error=0.1875,\tbest estimator lgbm's best error=0.1751\n",
      "[flaml.automl: 10-25 16:13:32] {1748} INFO - iteration 79, current learner lgbm\n",
      "[flaml.automl: 10-25 16:13:33] {1938} INFO -  at 18.7s,\testimator lgbm's best error=0.1751,\tbest estimator lgbm's best error=0.1751\n",
      "[flaml.automl: 10-25 16:13:33] {1748} INFO - iteration 80, current learner lgbm\n",
      "[flaml.automl: 10-25 16:13:33] {1938} INFO -  at 18.9s,\testimator lgbm's best error=0.1751,\tbest estimator lgbm's best error=0.1751\n",
      "[flaml.automl: 10-25 16:13:33] {1748} INFO - iteration 81, current learner xgboost\n",
      "[flaml.automl: 10-25 16:13:33] {1938} INFO -  at 19.0s,\testimator xgboost's best error=0.1957,\tbest estimator lgbm's best error=0.1751\n",
      "[flaml.automl: 10-25 16:13:33] {1748} INFO - iteration 82, current learner lgbm\n",
      "[flaml.automl: 10-25 16:13:33] {1938} INFO -  at 19.3s,\testimator lgbm's best error=0.1751,\tbest estimator lgbm's best error=0.1751\n",
      "[flaml.automl: 10-25 16:13:33] {1748} INFO - iteration 83, current learner rf\n",
      "[flaml.automl: 10-25 16:13:33] {1938} INFO -  at 19.4s,\testimator rf's best error=0.1875,\tbest estimator lgbm's best error=0.1751\n",
      "[flaml.automl: 10-25 16:13:33] {1748} INFO - iteration 84, current learner rf\n",
      "[flaml.automl: 10-25 16:13:33] {1938} INFO -  at 19.4s,\testimator rf's best error=0.1875,\tbest estimator lgbm's best error=0.1751\n",
      "[flaml.automl: 10-25 16:13:33] {1748} INFO - iteration 85, current learner xgboost\n",
      "[flaml.automl: 10-25 16:13:33] {1938} INFO -  at 19.5s,\testimator xgboost's best error=0.1957,\tbest estimator lgbm's best error=0.1751\n",
      "[flaml.automl: 10-25 16:13:33] {1748} INFO - iteration 86, current learner lgbm\n",
      "[flaml.automl: 10-25 16:13:34] {1938} INFO -  at 19.6s,\testimator lgbm's best error=0.1751,\tbest estimator lgbm's best error=0.1751\n",
      "[flaml.automl: 10-25 16:13:34] {1748} INFO - iteration 87, current learner rf\n",
      "[flaml.automl: 10-25 16:13:34] {1938} INFO -  at 19.8s,\testimator rf's best error=0.1875,\tbest estimator lgbm's best error=0.1751\n",
      "[flaml.automl: 10-25 16:13:34] {1748} INFO - iteration 88, current learner lgbm\n",
      "[flaml.automl: 10-25 16:13:34] {1938} INFO -  at 20.0s,\testimator lgbm's best error=0.1751,\tbest estimator lgbm's best error=0.1751\n",
      "[flaml.automl: 10-25 16:13:34] {1748} INFO - iteration 89, current learner lgbm\n",
      "[flaml.automl: 10-25 16:13:34] {1938} INFO -  at 20.2s,\testimator lgbm's best error=0.1751,\tbest estimator lgbm's best error=0.1751\n",
      "[flaml.automl: 10-25 16:13:34] {1748} INFO - iteration 90, current learner xgboost\n",
      "[flaml.automl: 10-25 16:13:34] {1938} INFO -  at 20.3s,\testimator xgboost's best error=0.1920,\tbest estimator lgbm's best error=0.1751\n",
      "[flaml.automl: 10-25 16:13:34] {1748} INFO - iteration 91, current learner lgbm\n",
      "[flaml.automl: 10-25 16:13:34] {1938} INFO -  at 20.4s,\testimator lgbm's best error=0.1751,\tbest estimator lgbm's best error=0.1751\n",
      "[flaml.automl: 10-25 16:13:34] {1748} INFO - iteration 92, current learner extra_tree\n",
      "[flaml.automl: 10-25 16:13:35] {1938} INFO -  at 20.7s,\testimator extra_tree's best error=0.1922,\tbest estimator lgbm's best error=0.1751\n",
      "[flaml.automl: 10-25 16:13:35] {1748} INFO - iteration 93, current learner catboost\n",
      "[flaml.automl: 10-25 16:13:35] {1938} INFO -  at 21.5s,\testimator catboost's best error=0.1800,\tbest estimator lgbm's best error=0.1751\n",
      "[flaml.automl: 10-25 16:13:35] {1748} INFO - iteration 94, current learner rf\n",
      "[flaml.automl: 10-25 16:13:35] {1938} INFO -  at 21.6s,\testimator rf's best error=0.1875,\tbest estimator lgbm's best error=0.1751\n",
      "[flaml.automl: 10-25 16:13:35] {1748} INFO - iteration 95, current learner lgbm\n",
      "[flaml.automl: 10-25 16:13:36] {1938} INFO -  at 21.9s,\testimator lgbm's best error=0.1751,\tbest estimator lgbm's best error=0.1751\n",
      "[flaml.automl: 10-25 16:13:36] {1748} INFO - iteration 96, current learner extra_tree\n",
      "[flaml.automl: 10-25 16:13:36] {1938} INFO -  at 22.1s,\testimator extra_tree's best error=0.1922,\tbest estimator lgbm's best error=0.1751\n",
      "[flaml.automl: 10-25 16:13:36] {1748} INFO - iteration 97, current learner rf\n",
      "[flaml.automl: 10-25 16:13:36] {1938} INFO -  at 22.2s,\testimator rf's best error=0.1875,\tbest estimator lgbm's best error=0.1751\n",
      "[flaml.automl: 10-25 16:13:36] {1748} INFO - iteration 98, current learner rf\n",
      "[flaml.automl: 10-25 16:13:36] {1938} INFO -  at 22.3s,\testimator rf's best error=0.1875,\tbest estimator lgbm's best error=0.1751\n",
      "[flaml.automl: 10-25 16:13:36] {1748} INFO - iteration 99, current learner lgbm\n",
      "[flaml.automl: 10-25 16:13:36] {1938} INFO -  at 22.4s,\testimator lgbm's best error=0.1751,\tbest estimator lgbm's best error=0.1751\n",
      "[flaml.automl: 10-25 16:13:36] {1748} INFO - iteration 100, current learner lgbm\n",
      "[flaml.automl: 10-25 16:13:36] {1938} INFO -  at 22.6s,\testimator lgbm's best error=0.1743,\tbest estimator lgbm's best error=0.1743\n",
      "[flaml.automl: 10-25 16:13:36] {1748} INFO - iteration 101, current learner xgboost\n",
      "[flaml.automl: 10-25 16:13:37] {1938} INFO -  at 22.7s,\testimator xgboost's best error=0.1920,\tbest estimator lgbm's best error=0.1743\n",
      "[flaml.automl: 10-25 16:13:37] {1748} INFO - iteration 102, current learner rf\n",
      "[flaml.automl: 10-25 16:13:37] {1938} INFO -  at 22.8s,\testimator rf's best error=0.1875,\tbest estimator lgbm's best error=0.1743\n",
      "[flaml.automl: 10-25 16:13:37] {1748} INFO - iteration 103, current learner lgbm\n",
      "[flaml.automl: 10-25 16:13:37] {1938} INFO -  at 22.9s,\testimator lgbm's best error=0.1743,\tbest estimator lgbm's best error=0.1743\n",
      "[flaml.automl: 10-25 16:13:37] {1748} INFO - iteration 104, current learner rf\n",
      "[flaml.automl: 10-25 16:13:37] {1938} INFO -  at 23.1s,\testimator rf's best error=0.1875,\tbest estimator lgbm's best error=0.1743\n",
      "[flaml.automl: 10-25 16:13:37] {1748} INFO - iteration 105, current learner lgbm\n",
      "[flaml.automl: 10-25 16:13:37] {1938} INFO -  at 23.2s,\testimator lgbm's best error=0.1743,\tbest estimator lgbm's best error=0.1743\n",
      "[flaml.automl: 10-25 16:13:37] {1748} INFO - iteration 106, current learner rf\n",
      "[flaml.automl: 10-25 16:13:37] {1938} INFO -  at 23.4s,\testimator rf's best error=0.1875,\tbest estimator lgbm's best error=0.1743\n",
      "[flaml.automl: 10-25 16:13:37] {1748} INFO - iteration 107, current learner xgboost\n",
      "[flaml.automl: 10-25 16:13:38] {1938} INFO -  at 23.7s,\testimator xgboost's best error=0.1795,\tbest estimator lgbm's best error=0.1743\n",
      "[flaml.automl: 10-25 16:13:38] {1748} INFO - iteration 108, current learner xgboost\n",
      "[flaml.automl: 10-25 16:13:38] {1938} INFO -  at 23.8s,\testimator xgboost's best error=0.1795,\tbest estimator lgbm's best error=0.1743\n",
      "[flaml.automl: 10-25 16:13:38] {1748} INFO - iteration 109, current learner xgboost\n",
      "[flaml.automl: 10-25 16:13:39] {1938} INFO -  at 24.8s,\testimator xgboost's best error=0.1795,\tbest estimator lgbm's best error=0.1743\n",
      "[flaml.automl: 10-25 16:13:39] {1748} INFO - iteration 110, current learner xgboost\n",
      "[flaml.automl: 10-25 16:13:39] {1938} INFO -  at 25.1s,\testimator xgboost's best error=0.1795,\tbest estimator lgbm's best error=0.1743\n",
      "[flaml.automl: 10-25 16:13:39] {1748} INFO - iteration 111, current learner lgbm\n",
      "[flaml.automl: 10-25 16:13:39] {1938} INFO -  at 25.5s,\testimator lgbm's best error=0.1743,\tbest estimator lgbm's best error=0.1743\n",
      "[flaml.automl: 10-25 16:13:39] {1748} INFO - iteration 112, current learner xgboost\n",
      "[flaml.automl: 10-25 16:13:40] {1938} INFO -  at 25.9s,\testimator xgboost's best error=0.1795,\tbest estimator lgbm's best error=0.1743\n",
      "[flaml.automl: 10-25 16:13:40] {1748} INFO - iteration 113, current learner xgboost\n"
     ]
    },
    {
     "name": "stderr",
     "output_type": "stream",
     "text": [
      "[flaml.automl: 10-25 16:13:40] {1938} INFO -  at 26.1s,\testimator xgboost's best error=0.1795,\tbest estimator lgbm's best error=0.1743\n",
      "[flaml.automl: 10-25 16:13:40] {1748} INFO - iteration 114, current learner extra_tree\n",
      "[flaml.automl: 10-25 16:13:40] {1938} INFO -  at 26.4s,\testimator extra_tree's best error=0.1922,\tbest estimator lgbm's best error=0.1743\n",
      "[flaml.automl: 10-25 16:13:40] {1748} INFO - iteration 115, current learner lgbm\n",
      "[flaml.automl: 10-25 16:13:40] {1938} INFO -  at 26.5s,\testimator lgbm's best error=0.1743,\tbest estimator lgbm's best error=0.1743\n",
      "[flaml.automl: 10-25 16:13:40] {1748} INFO - iteration 116, current learner lgbm\n",
      "[flaml.automl: 10-25 16:13:41] {1938} INFO -  at 26.7s,\testimator lgbm's best error=0.1743,\tbest estimator lgbm's best error=0.1743\n",
      "[flaml.automl: 10-25 16:13:41] {1748} INFO - iteration 117, current learner xgboost\n",
      "[flaml.automl: 10-25 16:13:41] {1938} INFO -  at 27.2s,\testimator xgboost's best error=0.1795,\tbest estimator lgbm's best error=0.1743\n",
      "[flaml.automl: 10-25 16:13:41] {1748} INFO - iteration 118, current learner xgboost\n",
      "[flaml.automl: 10-25 16:13:41] {1938} INFO -  at 27.3s,\testimator xgboost's best error=0.1795,\tbest estimator lgbm's best error=0.1743\n",
      "[flaml.automl: 10-25 16:13:41] {1748} INFO - iteration 119, current learner lgbm\n",
      "[flaml.automl: 10-25 16:13:41] {1938} INFO -  at 27.4s,\testimator lgbm's best error=0.1743,\tbest estimator lgbm's best error=0.1743\n",
      "[flaml.automl: 10-25 16:13:41] {1748} INFO - iteration 120, current learner xgboost\n",
      "[flaml.automl: 10-25 16:13:42] {1938} INFO -  at 28.5s,\testimator xgboost's best error=0.1795,\tbest estimator lgbm's best error=0.1743\n",
      "[flaml.automl: 10-25 16:13:42] {1748} INFO - iteration 121, current learner xgboost\n",
      "[flaml.automl: 10-25 16:13:43] {1938} INFO -  at 28.7s,\testimator xgboost's best error=0.1795,\tbest estimator lgbm's best error=0.1743\n",
      "[flaml.automl: 10-25 16:13:43] {1748} INFO - iteration 122, current learner xgboost\n",
      "[flaml.automl: 10-25 16:13:43] {1938} INFO -  at 29.2s,\testimator xgboost's best error=0.1795,\tbest estimator lgbm's best error=0.1743\n",
      "[flaml.automl: 10-25 16:13:43] {1748} INFO - iteration 123, current learner catboost\n",
      "[flaml.automl: 10-25 16:13:45] {1938} INFO -  at 31.1s,\testimator catboost's best error=0.1800,\tbest estimator lgbm's best error=0.1743\n",
      "[flaml.automl: 10-25 16:13:45] {1748} INFO - iteration 124, current learner lgbm\n",
      "[flaml.automl: 10-25 16:13:45] {1938} INFO -  at 31.4s,\testimator lgbm's best error=0.1743,\tbest estimator lgbm's best error=0.1743\n",
      "[flaml.automl: 10-25 16:13:45] {1748} INFO - iteration 125, current learner lgbm\n",
      "[flaml.automl: 10-25 16:13:45] {1938} INFO -  at 31.5s,\testimator lgbm's best error=0.1743,\tbest estimator lgbm's best error=0.1743\n",
      "[flaml.automl: 10-25 16:13:45] {1748} INFO - iteration 126, current learner lgbm\n",
      "[flaml.automl: 10-25 16:13:46] {1938} INFO -  at 31.6s,\testimator lgbm's best error=0.1743,\tbest estimator lgbm's best error=0.1743\n",
      "[flaml.automl: 10-25 16:13:46] {1748} INFO - iteration 127, current learner lgbm\n",
      "[flaml.automl: 10-25 16:13:46] {1938} INFO -  at 32.1s,\testimator lgbm's best error=0.1743,\tbest estimator lgbm's best error=0.1743\n",
      "[flaml.automl: 10-25 16:13:46] {1748} INFO - iteration 128, current learner lgbm\n",
      "[flaml.automl: 10-25 16:13:46] {1938} INFO -  at 32.4s,\testimator lgbm's best error=0.1743,\tbest estimator lgbm's best error=0.1743\n",
      "[flaml.automl: 10-25 16:13:46] {1748} INFO - iteration 129, current learner xgboost\n",
      "[flaml.automl: 10-25 16:13:46] {1938} INFO -  at 32.5s,\testimator xgboost's best error=0.1795,\tbest estimator lgbm's best error=0.1743\n",
      "[flaml.automl: 10-25 16:13:46] {1748} INFO - iteration 130, current learner rf\n",
      "[flaml.automl: 10-25 16:13:46] {1938} INFO -  at 32.6s,\testimator rf's best error=0.1875,\tbest estimator lgbm's best error=0.1743\n",
      "[flaml.automl: 10-25 16:13:46] {1748} INFO - iteration 131, current learner rf\n",
      "[flaml.automl: 10-25 16:13:47] {1938} INFO -  at 32.7s,\testimator rf's best error=0.1875,\tbest estimator lgbm's best error=0.1743\n",
      "[flaml.automl: 10-25 16:13:47] {1748} INFO - iteration 132, current learner xgboost\n",
      "[flaml.automl: 10-25 16:13:48] {1938} INFO -  at 33.8s,\testimator xgboost's best error=0.1795,\tbest estimator lgbm's best error=0.1743\n",
      "[flaml.automl: 10-25 16:13:48] {1748} INFO - iteration 133, current learner lgbm\n",
      "[flaml.automl: 10-25 16:13:48] {1938} INFO -  at 34.0s,\testimator lgbm's best error=0.1743,\tbest estimator lgbm's best error=0.1743\n",
      "[flaml.automl: 10-25 16:13:48] {1748} INFO - iteration 134, current learner lgbm\n",
      "[flaml.automl: 10-25 16:13:48] {1938} INFO -  at 34.1s,\testimator lgbm's best error=0.1743,\tbest estimator lgbm's best error=0.1743\n",
      "[flaml.automl: 10-25 16:13:48] {1748} INFO - iteration 135, current learner rf\n",
      "[flaml.automl: 10-25 16:13:48] {1938} INFO -  at 34.2s,\testimator rf's best error=0.1875,\tbest estimator lgbm's best error=0.1743\n",
      "[flaml.automl: 10-25 16:13:48] {1748} INFO - iteration 136, current learner extra_tree\n",
      "[flaml.automl: 10-25 16:13:48] {1938} INFO -  at 34.3s,\testimator extra_tree's best error=0.1922,\tbest estimator lgbm's best error=0.1743\n",
      "[flaml.automl: 10-25 16:13:48] {1748} INFO - iteration 137, current learner rf\n",
      "[flaml.automl: 10-25 16:13:48] {1938} INFO -  at 34.4s,\testimator rf's best error=0.1875,\tbest estimator lgbm's best error=0.1743\n",
      "[flaml.automl: 10-25 16:13:48] {1748} INFO - iteration 138, current learner lgbm\n",
      "[flaml.automl: 10-25 16:13:49] {1938} INFO -  at 34.8s,\testimator lgbm's best error=0.1743,\tbest estimator lgbm's best error=0.1743\n",
      "[flaml.automl: 10-25 16:13:49] {1748} INFO - iteration 139, current learner xgboost\n",
      "[flaml.automl: 10-25 16:13:49] {1938} INFO -  at 35.3s,\testimator xgboost's best error=0.1795,\tbest estimator lgbm's best error=0.1743\n",
      "[flaml.automl: 10-25 16:13:49] {1748} INFO - iteration 140, current learner lgbm\n",
      "[flaml.automl: 10-25 16:13:49] {1938} INFO -  at 35.4s,\testimator lgbm's best error=0.1743,\tbest estimator lgbm's best error=0.1743\n",
      "[flaml.automl: 10-25 16:13:49] {1748} INFO - iteration 141, current learner xgboost\n",
      "[flaml.automl: 10-25 16:13:49] {1938} INFO -  at 35.6s,\testimator xgboost's best error=0.1795,\tbest estimator lgbm's best error=0.1743\n",
      "[flaml.automl: 10-25 16:13:49] {1748} INFO - iteration 142, current learner lgbm\n",
      "[flaml.automl: 10-25 16:13:50] {1938} INFO -  at 36.2s,\testimator lgbm's best error=0.1743,\tbest estimator lgbm's best error=0.1743\n",
      "[flaml.automl: 10-25 16:13:50] {1748} INFO - iteration 143, current learner xgboost\n",
      "[flaml.automl: 10-25 16:13:51] {1938} INFO -  at 36.6s,\testimator xgboost's best error=0.1795,\tbest estimator lgbm's best error=0.1743\n",
      "[flaml.automl: 10-25 16:13:51] {1748} INFO - iteration 144, current learner xgboost\n",
      "[flaml.automl: 10-25 16:13:51] {1938} INFO -  at 36.9s,\testimator xgboost's best error=0.1795,\tbest estimator lgbm's best error=0.1743\n",
      "[flaml.automl: 10-25 16:13:51] {1748} INFO - iteration 145, current learner rf\n",
      "[flaml.automl: 10-25 16:13:51] {1938} INFO -  at 37.0s,\testimator rf's best error=0.1875,\tbest estimator lgbm's best error=0.1743\n",
      "[flaml.automl: 10-25 16:13:51] {1748} INFO - iteration 146, current learner lgbm\n",
      "[flaml.automl: 10-25 16:13:51] {1938} INFO -  at 37.1s,\testimator lgbm's best error=0.1743,\tbest estimator lgbm's best error=0.1743\n",
      "[flaml.automl: 10-25 16:13:51] {1748} INFO - iteration 147, current learner lgbm\n",
      "[flaml.automl: 10-25 16:13:52] {1938} INFO -  at 37.9s,\testimator lgbm's best error=0.1743,\tbest estimator lgbm's best error=0.1743\n",
      "[flaml.automl: 10-25 16:13:52] {1748} INFO - iteration 148, current learner lgbm\n",
      "[flaml.automl: 10-25 16:13:52] {1938} INFO -  at 38.4s,\testimator lgbm's best error=0.1743,\tbest estimator lgbm's best error=0.1743\n",
      "[flaml.automl: 10-25 16:13:52] {1748} INFO - iteration 149, current learner lgbm\n",
      "[flaml.automl: 10-25 16:13:52] {1938} INFO -  at 38.5s,\testimator lgbm's best error=0.1743,\tbest estimator lgbm's best error=0.1743\n",
      "[flaml.automl: 10-25 16:13:52] {1748} INFO - iteration 150, current learner lgbm\n",
      "[flaml.automl: 10-25 16:13:53] {1938} INFO -  at 38.9s,\testimator lgbm's best error=0.1743,\tbest estimator lgbm's best error=0.1743\n",
      "[flaml.automl: 10-25 16:13:53] {1748} INFO - iteration 151, current learner lgbm\n",
      "[flaml.automl: 10-25 16:13:53] {1938} INFO -  at 39.0s,\testimator lgbm's best error=0.1743,\tbest estimator lgbm's best error=0.1743\n"
     ]
    },
    {
     "name": "stderr",
     "output_type": "stream",
     "text": [
      "[flaml.automl: 10-25 16:13:53] {1748} INFO - iteration 152, current learner xgboost\n",
      "[flaml.automl: 10-25 16:13:54] {1938} INFO -  at 40.5s,\testimator xgboost's best error=0.1795,\tbest estimator lgbm's best error=0.1743\n",
      "[flaml.automl: 10-25 16:13:54] {1748} INFO - iteration 153, current learner catboost\n",
      "[flaml.automl: 10-25 16:13:56] {1938} INFO -  at 41.9s,\testimator catboost's best error=0.1800,\tbest estimator lgbm's best error=0.1743\n",
      "[flaml.automl: 10-25 16:13:56] {1748} INFO - iteration 154, current learner lgbm\n",
      "[flaml.automl: 10-25 16:13:56] {1938} INFO -  at 42.1s,\testimator lgbm's best error=0.1743,\tbest estimator lgbm's best error=0.1743\n",
      "[flaml.automl: 10-25 16:13:56] {1748} INFO - iteration 155, current learner lgbm\n",
      "[flaml.automl: 10-25 16:13:56] {1938} INFO -  at 42.3s,\testimator lgbm's best error=0.1743,\tbest estimator lgbm's best error=0.1743\n",
      "[flaml.automl: 10-25 16:13:56] {1748} INFO - iteration 156, current learner extra_tree\n",
      "[flaml.automl: 10-25 16:13:56] {1938} INFO -  at 42.6s,\testimator extra_tree's best error=0.1922,\tbest estimator lgbm's best error=0.1743\n",
      "[flaml.automl: 10-25 16:13:56] {1748} INFO - iteration 157, current learner catboost\n",
      "[flaml.automl: 10-25 16:13:57] {1938} INFO -  at 43.6s,\testimator catboost's best error=0.1800,\tbest estimator lgbm's best error=0.1743\n",
      "[flaml.automl: 10-25 16:13:57] {1748} INFO - iteration 158, current learner lgbm\n",
      "[flaml.automl: 10-25 16:13:58] {1938} INFO -  at 43.8s,\testimator lgbm's best error=0.1735,\tbest estimator lgbm's best error=0.1735\n",
      "[flaml.automl: 10-25 16:13:58] {1748} INFO - iteration 159, current learner lgbm\n",
      "[flaml.automl: 10-25 16:13:58] {1938} INFO -  at 44.1s,\testimator lgbm's best error=0.1735,\tbest estimator lgbm's best error=0.1735\n",
      "[flaml.automl: 10-25 16:13:58] {1748} INFO - iteration 160, current learner xgboost\n",
      "[flaml.automl: 10-25 16:13:58] {1938} INFO -  at 44.1s,\testimator xgboost's best error=0.1795,\tbest estimator lgbm's best error=0.1735\n",
      "[flaml.automl: 10-25 16:13:58] {1748} INFO - iteration 161, current learner lgbm\n",
      "[flaml.automl: 10-25 16:13:58] {1938} INFO -  at 44.3s,\testimator lgbm's best error=0.1735,\tbest estimator lgbm's best error=0.1735\n",
      "[flaml.automl: 10-25 16:13:58] {1748} INFO - iteration 162, current learner catboost\n",
      "[flaml.automl: 10-25 16:13:59] {1938} INFO -  at 45.2s,\testimator catboost's best error=0.1800,\tbest estimator lgbm's best error=0.1735\n",
      "[flaml.automl: 10-25 16:13:59] {1748} INFO - iteration 163, current learner extra_tree\n",
      "[flaml.automl: 10-25 16:13:59] {1938} INFO -  at 45.4s,\testimator extra_tree's best error=0.1922,\tbest estimator lgbm's best error=0.1735\n",
      "[flaml.automl: 10-25 16:13:59] {1748} INFO - iteration 164, current learner xgboost\n",
      "[flaml.automl: 10-25 16:14:00] {1938} INFO -  at 45.8s,\testimator xgboost's best error=0.1795,\tbest estimator lgbm's best error=0.1735\n",
      "[flaml.automl: 10-25 16:14:00] {1748} INFO - iteration 165, current learner lgbm\n",
      "[flaml.automl: 10-25 16:14:00] {1938} INFO -  at 46.1s,\testimator lgbm's best error=0.1735,\tbest estimator lgbm's best error=0.1735\n",
      "[flaml.automl: 10-25 16:14:00] {1748} INFO - iteration 166, current learner rf\n",
      "[flaml.automl: 10-25 16:14:00] {1938} INFO -  at 46.2s,\testimator rf's best error=0.1875,\tbest estimator lgbm's best error=0.1735\n",
      "[flaml.automl: 10-25 16:14:00] {1748} INFO - iteration 167, current learner catboost\n",
      "[flaml.automl: 10-25 16:14:01] {1938} INFO -  at 46.8s,\testimator catboost's best error=0.1800,\tbest estimator lgbm's best error=0.1735\n",
      "[flaml.automl: 10-25 16:14:01] {1748} INFO - iteration 168, current learner xgboost\n",
      "[flaml.automl: 10-25 16:14:01] {1938} INFO -  at 47.2s,\testimator xgboost's best error=0.1795,\tbest estimator lgbm's best error=0.1735\n",
      "[flaml.automl: 10-25 16:14:01] {1748} INFO - iteration 169, current learner lgbm\n",
      "[flaml.automl: 10-25 16:14:02] {1938} INFO -  at 47.8s,\testimator lgbm's best error=0.1735,\tbest estimator lgbm's best error=0.1735\n",
      "[flaml.automl: 10-25 16:14:02] {1748} INFO - iteration 170, current learner lgbm\n",
      "[flaml.automl: 10-25 16:14:02] {1938} INFO -  at 47.9s,\testimator lgbm's best error=0.1735,\tbest estimator lgbm's best error=0.1735\n",
      "[flaml.automl: 10-25 16:14:02] {1748} INFO - iteration 171, current learner lgbm\n",
      "[flaml.automl: 10-25 16:14:02] {1938} INFO -  at 48.2s,\testimator lgbm's best error=0.1735,\tbest estimator lgbm's best error=0.1735\n",
      "[flaml.automl: 10-25 16:14:02] {1748} INFO - iteration 172, current learner rf\n",
      "[flaml.automl: 10-25 16:14:02] {1938} INFO -  at 48.3s,\testimator rf's best error=0.1875,\tbest estimator lgbm's best error=0.1735\n",
      "[flaml.automl: 10-25 16:14:02] {1748} INFO - iteration 173, current learner catboost\n",
      "[flaml.automl: 10-25 16:14:02] {1938} INFO -  at 48.6s,\testimator catboost's best error=0.1800,\tbest estimator lgbm's best error=0.1735\n",
      "[flaml.automl: 10-25 16:14:02] {1748} INFO - iteration 174, current learner rf\n",
      "[flaml.automl: 10-25 16:14:03] {1938} INFO -  at 48.7s,\testimator rf's best error=0.1875,\tbest estimator lgbm's best error=0.1735\n",
      "[flaml.automl: 10-25 16:14:03] {1748} INFO - iteration 175, current learner lgbm\n",
      "[flaml.automl: 10-25 16:14:03] {1938} INFO -  at 48.9s,\testimator lgbm's best error=0.1735,\tbest estimator lgbm's best error=0.1735\n",
      "[flaml.automl: 10-25 16:14:03] {1748} INFO - iteration 176, current learner extra_tree\n",
      "[flaml.automl: 10-25 16:14:03] {1938} INFO -  at 49.0s,\testimator extra_tree's best error=0.1922,\tbest estimator lgbm's best error=0.1735\n",
      "[flaml.automl: 10-25 16:14:03] {1748} INFO - iteration 177, current learner rf\n",
      "[flaml.automl: 10-25 16:14:03] {1938} INFO -  at 49.2s,\testimator rf's best error=0.1875,\tbest estimator lgbm's best error=0.1735\n",
      "[flaml.automl: 10-25 16:14:03] {1748} INFO - iteration 178, current learner rf\n",
      "[flaml.automl: 10-25 16:14:03] {1938} INFO -  at 49.2s,\testimator rf's best error=0.1875,\tbest estimator lgbm's best error=0.1735\n",
      "[flaml.automl: 10-25 16:14:03] {1748} INFO - iteration 179, current learner rf\n",
      "[flaml.automl: 10-25 16:14:03] {1938} INFO -  at 49.4s,\testimator rf's best error=0.1875,\tbest estimator lgbm's best error=0.1735\n",
      "[flaml.automl: 10-25 16:14:03] {1748} INFO - iteration 180, current learner xgboost\n",
      "[flaml.automl: 10-25 16:14:04] {1938} INFO -  at 49.8s,\testimator xgboost's best error=0.1795,\tbest estimator lgbm's best error=0.1735\n",
      "[flaml.automl: 10-25 16:14:04] {1748} INFO - iteration 181, current learner rf\n",
      "[flaml.automl: 10-25 16:14:04] {1938} INFO -  at 49.9s,\testimator rf's best error=0.1875,\tbest estimator lgbm's best error=0.1735\n",
      "[flaml.automl: 10-25 16:14:04] {2043} INFO - selected model: LGBMRegressor(colsample_bytree=0.7066088427759237,\n",
      "              learning_rate=0.20780097225754346, max_bin=512,\n",
      "              min_child_samples=5, n_estimators=59, num_leaves=41,\n",
      "              objective='regression', reg_alpha=0.10286753865636787,\n",
      "              reg_lambda=0.022272023862714513, verbose=-1)\n",
      "[flaml.automl: 10-25 16:14:04] {2104} INFO - retrain lgbm for 0.2s\n",
      "[flaml.automl: 10-25 16:14:04] {2110} INFO - retrained model: LGBMRegressor(colsample_bytree=0.7066088427759237,\n",
      "              learning_rate=0.20780097225754346, max_bin=512,\n",
      "              min_child_samples=5, n_estimators=59, num_leaves=41,\n",
      "              objective='regression', reg_alpha=0.10286753865636787,\n",
      "              reg_lambda=0.022272023862714513, verbose=-1)\n",
      "[flaml.automl: 10-25 16:14:04] {1539} INFO - fit succeeded\n",
      "[flaml.automl: 10-25 16:14:04] {1540} INFO - Time taken to find the best model: 43.83885431289673\n",
      "[flaml.automl: 10-25 16:14:04] {1551} WARNING - Time taken to find the best model is 88% of the provided time budget and not all estimators' hyperparameter search converged. Consider increasing the time budget.\n"
     ]
    }
   ],
   "source": [
    "automl=AutoML()\n",
    "automl_settings={\"time_budget\":50,\"metric\":\"rmse\",\"task\":\"regression\"}\n",
    "automl.fit(X_train,y_train, **automl_settings)"
   ]
  },
  {
   "cell_type": "code",
   "execution_count": 117,
   "id": "d082be82",
   "metadata": {
    "scrolled": true
   },
   "outputs": [
    {
     "name": "stdout",
     "output_type": "stream",
     "text": [
      "<flaml.model.LGBMEstimator object at 0x0000021380709E50>\n"
     ]
    }
   ],
   "source": [
    "print(automl.model)"
   ]
  },
  {
   "cell_type": "markdown",
   "id": "1ea2dc5b",
   "metadata": {},
   "source": [
    "# Train Accuracy and RMSE - - LGBMEstimator"
   ]
  },
  {
   "cell_type": "code",
   "execution_count": 118,
   "id": "9446278a",
   "metadata": {},
   "outputs": [
    {
     "name": "stdout",
     "output_type": "stream",
     "text": [
      "r2_train_automl 0.9090651984950666\n",
      "rmse_train_automl 0.15100658568971345\n"
     ]
    }
   ],
   "source": [
    "#Prediction Train\n",
    "y_pred_train_automl=automl.model.predict(X_train)\n",
    "\n",
    "# R-Squared Train\n",
    "r2_train_automl = r2_score(y_train,y_pred_train_automl)\n",
    "print('r2_train_automl',r2_train_automl)\n",
    "\n",
    "#Root mean squared error(RMSE) Train\n",
    "rmse_train_automl = np.sqrt(mean_squared_error(y_train,y_pred_train_automl))\n",
    "print('rmse_train_automl',rmse_train_automl)"
   ]
  },
  {
   "cell_type": "markdown",
   "id": "72b28ac8",
   "metadata": {},
   "source": [
    "# Test Accuracy and RMSE - - LGBMEstimator"
   ]
  },
  {
   "cell_type": "code",
   "execution_count": 119,
   "id": "ac59731d",
   "metadata": {
    "scrolled": true
   },
   "outputs": [
    {
     "name": "stdout",
     "output_type": "stream",
     "text": [
      "r2_test_automl 0.8756790654615285\n",
      "rmse_test_automl 0.17670238542665564\n"
     ]
    }
   ],
   "source": [
    "#Prediction\n",
    "y_pred_automl=automl.model.predict(X_test)\n",
    "\n",
    "# R-Squared\n",
    "r2_test_automl = r2_score(y_test,y_pred_automl)\n",
    "print('r2_test_automl',r2_test_automl)\n",
    "\n",
    "#Root mean squared error(RMSE)\n",
    "rmse_test_automl = np.sqrt(mean_squared_error(y_test,y_pred_automl))\n",
    "print('rmse_test_automl',rmse_test_automl)"
   ]
  },
  {
   "cell_type": "code",
   "execution_count": null,
   "id": "efea663e",
   "metadata": {},
   "outputs": [],
   "source": []
  },
  {
   "cell_type": "markdown",
   "id": "4e78e4f1",
   "metadata": {},
   "source": [
    "# cross val score"
   ]
  },
  {
   "cell_type": "code",
   "execution_count": 120,
   "id": "2eab20b0",
   "metadata": {},
   "outputs": [
    {
     "name": "stdout",
     "output_type": "stream",
     "text": [
      "[0.86496618 0.88330285 0.86859511 0.86230747 0.89812246 0.88912138\n",
      " 0.8743875  0.86916752 0.89584706 0.88079947]\n",
      "0.878661699315826\n"
     ]
    }
   ],
   "source": [
    "automl_cv_r2 = cross_val_score(automl.model, X_train, y_train, scoring='r2', cv=10)\n",
    "print(automl_cv_r2)\n",
    "scores=automl_cv_r2.mean()\n",
    "print(scores)"
   ]
  },
  {
   "cell_type": "markdown",
   "id": "15eb2929",
   "metadata": {},
   "source": [
    "**Cross-Validation Results**"
   ]
  },
  {
   "cell_type": "code",
   "execution_count": 121,
   "id": "b0d0fe12",
   "metadata": {},
   "outputs": [
    {
     "name": "stdout",
     "output_type": "stream",
     "text": [
      "[0.83558838 0.82713173 0.87111219 0.85691277 0.86499386 0.85170893\n",
      " 0.83599433 0.82151193 0.8797869  0.86505922]\n",
      "0.8509800235748587\n"
     ]
    }
   ],
   "source": [
    "automl_cv_r2 = cross_val_score(automl.model, X_test, y_test, scoring='r2', cv=10)\n",
    "print(automl_cv_r2)\n",
    "scores=automl_cv_r2.mean()\n",
    "print(scores)"
   ]
  },
  {
   "cell_type": "code",
   "execution_count": 122,
   "id": "caee02fd",
   "metadata": {},
   "outputs": [],
   "source": [
    "# our model is still overfit slightly so we will use xgboost , it will regularize the model to reduce overfitting.\n",
    "# In fact, XGBoost is also known as a ‘regularized boosting‘ technique."
   ]
  },
  {
   "cell_type": "markdown",
   "id": "ae560ea2",
   "metadata": {},
   "source": [
    "# XGBoost"
   ]
  },
  {
   "cell_type": "code",
   "execution_count": 123,
   "id": "9e157aa8",
   "metadata": {},
   "outputs": [],
   "source": [
    "from xgboost import XGBRegressor"
   ]
  },
  {
   "cell_type": "code",
   "execution_count": 124,
   "id": "9693da3a",
   "metadata": {},
   "outputs": [],
   "source": [
    "# xgb = XGBRegressor()  #9255 , 8213\n",
    "xgb = XGBRegressor(n_estimators=400, max_depth=5, eta=0.1, subsample=0.7, colsample_bytree=0.8,random_state=0)\n",
    "xgb_model=xgb.fit(X_train,y_train)"
   ]
  },
  {
   "cell_type": "markdown",
   "id": "ee9d1077",
   "metadata": {},
   "source": [
    "# Train Accuracy and RMSE - - XGBRegressor"
   ]
  },
  {
   "cell_type": "code",
   "execution_count": 125,
   "id": "9556ddcb",
   "metadata": {},
   "outputs": [
    {
     "name": "stdout",
     "output_type": "stream",
     "text": [
      "r2_train_xgb 0.9169777841494297\n",
      "rmse_train_xgb 0.14428726016574026\n"
     ]
    }
   ],
   "source": [
    "#Prediction Train\n",
    "y_pred_train_xgb=xgb_model.predict(X_train)\n",
    "\n",
    "# R-Squared Train\n",
    "r2_train_xgb = r2_score(y_train,y_pred_train_xgb)\n",
    "print('r2_train_xgb',r2_train_xgb)\n",
    "\n",
    "#Root mean squared error(RMSE) Train\n",
    "rmse_train_xgb = np.sqrt(mean_squared_error(y_train,y_pred_train_xgb))\n",
    "print('rmse_train_xgb',rmse_train_xgb)"
   ]
  },
  {
   "cell_type": "markdown",
   "id": "00dd0522",
   "metadata": {},
   "source": [
    "# Test Accuracy and RMSE - - XGBRegressor"
   ]
  },
  {
   "cell_type": "code",
   "execution_count": 126,
   "id": "c54472b1",
   "metadata": {
    "scrolled": true
   },
   "outputs": [
    {
     "name": "stdout",
     "output_type": "stream",
     "text": [
      "r2_test_xgb 0.8717421838889108\n",
      "rmse_test_xgb 0.17947840431562398\n"
     ]
    }
   ],
   "source": [
    "#Prediction\n",
    "y_pred_xgb=xgb_model.predict(X_test)\n",
    "\n",
    "# R-Squared\n",
    "r2_test_xgb = r2_score(y_test,y_pred_xgb)\n",
    "print('r2_test_xgb',r2_test_xgb)\n",
    "\n",
    "#Root mean squared error(RMSE)\n",
    "rmse_test_xgb = np.sqrt(mean_squared_error(y_test,y_pred_xgb))\n",
    "print('rmse_test_xgb',rmse_test_xgb)"
   ]
  },
  {
   "cell_type": "code",
   "execution_count": null,
   "id": "885c1a4f",
   "metadata": {},
   "outputs": [],
   "source": []
  },
  {
   "cell_type": "markdown",
   "id": "1bfbc9ec",
   "metadata": {},
   "source": [
    "# cross val score"
   ]
  },
  {
   "cell_type": "code",
   "execution_count": 127,
   "id": "2eab20b0",
   "metadata": {},
   "outputs": [
    {
     "name": "stdout",
     "output_type": "stream",
     "text": [
      "[0.86735702 0.8784466  0.86198731 0.86586172 0.89812224 0.88005362\n",
      " 0.8715713  0.86782704 0.88155551 0.8804903 ]\n",
      "0.8753272665276537\n"
     ]
    }
   ],
   "source": [
    "xgb_cv_r2 = cross_val_score(xgb_model, X_train, y_train, scoring='r2', cv=10)\n",
    "print(xgb_cv_r2)\n",
    "scores=xgb_cv_r2.mean()\n",
    "print(scores)"
   ]
  },
  {
   "cell_type": "markdown",
   "id": "15eb2929",
   "metadata": {},
   "source": [
    "**Cross-Validation Results**"
   ]
  },
  {
   "cell_type": "code",
   "execution_count": 128,
   "id": "b0d0fe12",
   "metadata": {},
   "outputs": [
    {
     "name": "stdout",
     "output_type": "stream",
     "text": [
      "[0.82950722 0.8254347  0.85491707 0.83947837 0.87301387 0.85270367\n",
      " 0.84559734 0.83371238 0.89718031 0.8763515 ]\n",
      "0.8527896423474364\n"
     ]
    }
   ],
   "source": [
    "xgb_cv_r2 = cross_val_score(xgb_model, X_test, y_test, scoring='r2', cv=10)\n",
    "print(xgb_cv_r2)\n",
    "scores=xgb_cv_r2.mean()\n",
    "print(scores)"
   ]
  },
  {
   "cell_type": "markdown",
   "id": "ab1cddc0",
   "metadata": {},
   "source": [
    "---"
   ]
  },
  {
   "cell_type": "markdown",
   "id": "0dea4d87",
   "metadata": {},
   "source": [
    "# Train and Test Scores DataFrame"
   ]
  },
  {
   "cell_type": "code",
   "execution_count": 129,
   "id": "e6bd4a64",
   "metadata": {},
   "outputs": [],
   "source": [
    "train_dict = {'Model':['OLS','Decision Tree Regressor','Random Forest Regressor','Random Forest Regressor Best Params','Gradient Boosting Regressor','LGBM Regressor','XgbRegressor'],'R2 Score train':[r2_train_ols,r2_train_dt,r2_train_rfr,r2_train_rfr_grid,r2_train_gbr_grid,r2_train_automl,r2_train_xgb],'RMSE train':[rmse_train_ols,rmse_train_dt,rmse_train_rfr,rmse_train_rfr_grid,rmse_train_gbr_grid,rmse_train_automl,rmse_train_xgb]}"
   ]
  },
  {
   "cell_type": "code",
   "execution_count": 138,
   "id": "9d3f884c",
   "metadata": {},
   "outputs": [
    {
     "data": {
      "text/html": [
       "<div>\n",
       "<style scoped>\n",
       "    .dataframe tbody tr th:only-of-type {\n",
       "        vertical-align: middle;\n",
       "    }\n",
       "\n",
       "    .dataframe tbody tr th {\n",
       "        vertical-align: top;\n",
       "    }\n",
       "\n",
       "    .dataframe thead th {\n",
       "        text-align: right;\n",
       "    }\n",
       "</style>\n",
       "<table border=\"1\" class=\"dataframe\">\n",
       "  <thead>\n",
       "    <tr style=\"text-align: right;\">\n",
       "      <th></th>\n",
       "      <th>Model</th>\n",
       "      <th>R2 Score train</th>\n",
       "      <th>RMSE train</th>\n",
       "    </tr>\n",
       "  </thead>\n",
       "  <tbody>\n",
       "    <tr>\n",
       "      <th>0</th>\n",
       "      <td>OLS</td>\n",
       "      <td>0.777617</td>\n",
       "      <td>0.236147</td>\n",
       "    </tr>\n",
       "    <tr>\n",
       "      <th>1</th>\n",
       "      <td>Decision Tree Regressor</td>\n",
       "      <td>0.961830</td>\n",
       "      <td>0.097835</td>\n",
       "    </tr>\n",
       "    <tr>\n",
       "      <th>2</th>\n",
       "      <td>Random Forest Regressor</td>\n",
       "      <td>0.951958</td>\n",
       "      <td>0.109760</td>\n",
       "    </tr>\n",
       "    <tr>\n",
       "      <th>3</th>\n",
       "      <td>Random Forest Regressor Best Params</td>\n",
       "      <td>0.927003</td>\n",
       "      <td>0.135296</td>\n",
       "    </tr>\n",
       "    <tr>\n",
       "      <th>4</th>\n",
       "      <td>Gradient Boosting Regressor</td>\n",
       "      <td>0.919970</td>\n",
       "      <td>0.141663</td>\n",
       "    </tr>\n",
       "    <tr>\n",
       "      <th>5</th>\n",
       "      <td>LGBM Regressor</td>\n",
       "      <td>0.909065</td>\n",
       "      <td>0.151007</td>\n",
       "    </tr>\n",
       "    <tr>\n",
       "      <th>6</th>\n",
       "      <td>XgbRegressor</td>\n",
       "      <td>0.916978</td>\n",
       "      <td>0.144287</td>\n",
       "    </tr>\n",
       "  </tbody>\n",
       "</table>\n",
       "</div>"
      ],
      "text/plain": [
       "                                 Model  R2 Score train  RMSE train\n",
       "0                                  OLS        0.777617    0.236147\n",
       "1              Decision Tree Regressor        0.961830    0.097835\n",
       "2              Random Forest Regressor        0.951958    0.109760\n",
       "3  Random Forest Regressor Best Params        0.927003    0.135296\n",
       "4          Gradient Boosting Regressor        0.919970    0.141663\n",
       "5                       LGBM Regressor        0.909065    0.151007\n",
       "6                         XgbRegressor        0.916978    0.144287"
      ]
     },
     "execution_count": 138,
     "metadata": {},
     "output_type": "execute_result"
    }
   ],
   "source": [
    "train_r2_df = pd.DataFrame((train_dict))\n",
    "train_r2_df"
   ]
  },
  {
   "cell_type": "code",
   "execution_count": 139,
   "id": "1e611488",
   "metadata": {},
   "outputs": [],
   "source": [
    "test_dict = {'Model':['OLS','Decision Tree Regressor','Random Forest Regressor','Random Forest Regressor Best Params','Gradient Boosting Regressor','LGBM Regressor','XgbRegressor'],'R2 Score test':[r2_test_ols,r2_test_dt,r2_test_rfr,r2_test_rfr_grid,r2_test_gbr_grid,r2_test_automl,r2_test_xgb],'RMSE test':[rmse_test_ols,rmse_test_dt,rmse_test_rfr,rmse_test_rfr_grid,rmse_test_gbr_grid,rmse_test_automl,rmse_test_xgb]}"
   ]
  },
  {
   "cell_type": "code",
   "execution_count": 140,
   "id": "4616b3d2",
   "metadata": {},
   "outputs": [
    {
     "data": {
      "text/html": [
       "<div>\n",
       "<style scoped>\n",
       "    .dataframe tbody tr th:only-of-type {\n",
       "        vertical-align: middle;\n",
       "    }\n",
       "\n",
       "    .dataframe tbody tr th {\n",
       "        vertical-align: top;\n",
       "    }\n",
       "\n",
       "    .dataframe thead th {\n",
       "        text-align: right;\n",
       "    }\n",
       "</style>\n",
       "<table border=\"1\" class=\"dataframe\">\n",
       "  <thead>\n",
       "    <tr style=\"text-align: right;\">\n",
       "      <th></th>\n",
       "      <th>Model</th>\n",
       "      <th>R2 Score test</th>\n",
       "      <th>RMSE test</th>\n",
       "    </tr>\n",
       "  </thead>\n",
       "  <tbody>\n",
       "    <tr>\n",
       "      <th>0</th>\n",
       "      <td>OLS</td>\n",
       "      <td>0.766055</td>\n",
       "      <td>0.242397</td>\n",
       "    </tr>\n",
       "    <tr>\n",
       "      <th>1</th>\n",
       "      <td>Decision Tree Regressor</td>\n",
       "      <td>0.781661</td>\n",
       "      <td>0.234173</td>\n",
       "    </tr>\n",
       "    <tr>\n",
       "      <th>2</th>\n",
       "      <td>Random Forest Regressor</td>\n",
       "      <td>0.850472</td>\n",
       "      <td>0.193790</td>\n",
       "    </tr>\n",
       "    <tr>\n",
       "      <th>3</th>\n",
       "      <td>Random Forest Regressor Best Params</td>\n",
       "      <td>0.869293</td>\n",
       "      <td>0.181184</td>\n",
       "    </tr>\n",
       "    <tr>\n",
       "      <th>4</th>\n",
       "      <td>Gradient Boosting Regressor</td>\n",
       "      <td>0.872856</td>\n",
       "      <td>0.178697</td>\n",
       "    </tr>\n",
       "    <tr>\n",
       "      <th>5</th>\n",
       "      <td>LGBM Regressor</td>\n",
       "      <td>0.875679</td>\n",
       "      <td>0.176702</td>\n",
       "    </tr>\n",
       "    <tr>\n",
       "      <th>6</th>\n",
       "      <td>XgbRegressor</td>\n",
       "      <td>0.871742</td>\n",
       "      <td>0.179478</td>\n",
       "    </tr>\n",
       "  </tbody>\n",
       "</table>\n",
       "</div>"
      ],
      "text/plain": [
       "                                 Model  R2 Score test  RMSE test\n",
       "0                                  OLS       0.766055   0.242397\n",
       "1              Decision Tree Regressor       0.781661   0.234173\n",
       "2              Random Forest Regressor       0.850472   0.193790\n",
       "3  Random Forest Regressor Best Params       0.869293   0.181184\n",
       "4          Gradient Boosting Regressor       0.872856   0.178697\n",
       "5                       LGBM Regressor       0.875679   0.176702\n",
       "6                         XgbRegressor       0.871742   0.179478"
      ]
     },
     "execution_count": 140,
     "metadata": {},
     "output_type": "execute_result"
    }
   ],
   "source": [
    "test_r2_df = pd.DataFrame((test_dict))\n",
    "test_r2_df"
   ]
  },
  {
   "cell_type": "code",
   "execution_count": 141,
   "id": "42e15625",
   "metadata": {},
   "outputs": [
    {
     "data": {
      "text/html": [
       "<div>\n",
       "<style scoped>\n",
       "    .dataframe tbody tr th:only-of-type {\n",
       "        vertical-align: middle;\n",
       "    }\n",
       "\n",
       "    .dataframe tbody tr th {\n",
       "        vertical-align: top;\n",
       "    }\n",
       "\n",
       "    .dataframe thead th {\n",
       "        text-align: right;\n",
       "    }\n",
       "</style>\n",
       "<table border=\"1\" class=\"dataframe\">\n",
       "  <thead>\n",
       "    <tr style=\"text-align: right;\">\n",
       "      <th></th>\n",
       "      <th>R2 Score train</th>\n",
       "      <th>RMSE train</th>\n",
       "      <th>R2 Score test</th>\n",
       "      <th>RMSE test</th>\n",
       "    </tr>\n",
       "    <tr>\n",
       "      <th>Model</th>\n",
       "      <th></th>\n",
       "      <th></th>\n",
       "      <th></th>\n",
       "      <th></th>\n",
       "    </tr>\n",
       "  </thead>\n",
       "  <tbody>\n",
       "    <tr>\n",
       "      <th>OLS</th>\n",
       "      <td>0.777617</td>\n",
       "      <td>0.236147</td>\n",
       "      <td>0.766055</td>\n",
       "      <td>0.242397</td>\n",
       "    </tr>\n",
       "    <tr>\n",
       "      <th>Decision Tree Regressor</th>\n",
       "      <td>0.961830</td>\n",
       "      <td>0.097835</td>\n",
       "      <td>0.781661</td>\n",
       "      <td>0.234173</td>\n",
       "    </tr>\n",
       "    <tr>\n",
       "      <th>Random Forest Regressor</th>\n",
       "      <td>0.951958</td>\n",
       "      <td>0.109760</td>\n",
       "      <td>0.850472</td>\n",
       "      <td>0.193790</td>\n",
       "    </tr>\n",
       "    <tr>\n",
       "      <th>Random Forest Regressor Best Params</th>\n",
       "      <td>0.927003</td>\n",
       "      <td>0.135296</td>\n",
       "      <td>0.869293</td>\n",
       "      <td>0.181184</td>\n",
       "    </tr>\n",
       "    <tr>\n",
       "      <th>Gradient Boosting Regressor</th>\n",
       "      <td>0.919970</td>\n",
       "      <td>0.141663</td>\n",
       "      <td>0.872856</td>\n",
       "      <td>0.178697</td>\n",
       "    </tr>\n",
       "    <tr>\n",
       "      <th>LGBM Regressor</th>\n",
       "      <td>0.909065</td>\n",
       "      <td>0.151007</td>\n",
       "      <td>0.875679</td>\n",
       "      <td>0.176702</td>\n",
       "    </tr>\n",
       "    <tr>\n",
       "      <th>XgbRegressor</th>\n",
       "      <td>0.916978</td>\n",
       "      <td>0.144287</td>\n",
       "      <td>0.871742</td>\n",
       "      <td>0.179478</td>\n",
       "    </tr>\n",
       "  </tbody>\n",
       "</table>\n",
       "</div>"
      ],
      "text/plain": [
       "                                     R2 Score train  RMSE train  \\\n",
       "Model                                                             \n",
       "OLS                                        0.777617    0.236147   \n",
       "Decision Tree Regressor                    0.961830    0.097835   \n",
       "Random Forest Regressor                    0.951958    0.109760   \n",
       "Random Forest Regressor Best Params        0.927003    0.135296   \n",
       "Gradient Boosting Regressor                0.919970    0.141663   \n",
       "LGBM Regressor                             0.909065    0.151007   \n",
       "XgbRegressor                               0.916978    0.144287   \n",
       "\n",
       "                                     R2 Score test  RMSE test  \n",
       "Model                                                          \n",
       "OLS                                       0.766055   0.242397  \n",
       "Decision Tree Regressor                   0.781661   0.234173  \n",
       "Random Forest Regressor                   0.850472   0.193790  \n",
       "Random Forest Regressor Best Params       0.869293   0.181184  \n",
       "Gradient Boosting Regressor               0.872856   0.178697  \n",
       "LGBM Regressor                            0.875679   0.176702  \n",
       "XgbRegressor                              0.871742   0.179478  "
      ]
     },
     "execution_count": 141,
     "metadata": {},
     "output_type": "execute_result"
    }
   ],
   "source": [
    "scoring=pd.merge(train_r2_df,test_r2_df ,how='outer')\n",
    "scoring.set_index('Model')"
   ]
  },
  {
   "cell_type": "code",
   "execution_count": 142,
   "id": "1622fa3a",
   "metadata": {},
   "outputs": [],
   "source": [
    "# Best features from best model "
   ]
  },
  {
   "cell_type": "code",
   "execution_count": 143,
   "id": "5d5fc569",
   "metadata": {},
   "outputs": [],
   "source": [
    "important_features = pd.DataFrame({'Features': X_train.columns, \n",
    "                                   'Importance': gbr_model.feature_importances_}).sort_values('Importance', ascending = False)"
   ]
  },
  {
   "cell_type": "code",
   "execution_count": 144,
   "id": "560f6813",
   "metadata": {},
   "outputs": [
    {
     "data": {
      "text/plain": [
       "Text(0, 0.5, 'Features')"
      ]
     },
     "execution_count": 144,
     "metadata": {},
     "output_type": "execute_result"
    },
    {
     "data": {
      "image/png": "[encoded data removed]",
      "text/plain": [
       "<Figure size 1080x576 with 1 Axes>"
      ]
     },
     "metadata": {
      "needs_background": "light"
     },
     "output_type": "display_data"
    }
   ],
   "source": [
    "plt.rcParams['figure.figsize'] = [15,8]\n",
    "# create a barplot to visualize the features based on their importance\n",
    "sns.barplot(x = 'Importance', y = 'Features', data = important_features)\n",
    "plt.title('Feature Importance', fontsize = 15)\n",
    "plt.xlabel('Importance', fontsize = 15)\n",
    "plt.ylabel('Features', fontsize = 15)"
   ]
  },
  {
   "cell_type": "markdown",
   "id": "c16271ec",
   "metadata": {},
   "source": [
    "## `Time For Prediction `"
   ]
  },
  {
   "cell_type": "code",
   "execution_count": 145,
   "id": "ac0f0dce",
   "metadata": {
    "scrolled": true
   },
   "outputs": [
    {
     "data": {
      "text/html": [
       "<div>\n",
       "<style scoped>\n",
       "    .dataframe tbody tr th:only-of-type {\n",
       "        vertical-align: middle;\n",
       "    }\n",
       "\n",
       "    .dataframe tbody tr th {\n",
       "        vertical-align: top;\n",
       "    }\n",
       "\n",
       "    .dataframe thead th {\n",
       "        text-align: right;\n",
       "    }\n",
       "</style>\n",
       "<table border=\"1\" class=\"dataframe\">\n",
       "  <thead>\n",
       "    <tr style=\"text-align: right;\">\n",
       "      <th></th>\n",
       "      <th>Airline</th>\n",
       "      <th>Source</th>\n",
       "      <th>Destination</th>\n",
       "      <th>Duration</th>\n",
       "      <th>Total_Stops</th>\n",
       "      <th>Month</th>\n",
       "      <th>Day</th>\n",
       "      <th>Info</th>\n",
       "    </tr>\n",
       "  </thead>\n",
       "  <tbody>\n",
       "    <tr>\n",
       "      <th>0</th>\n",
       "      <td>Jet Airways</td>\n",
       "      <td>Delhi</td>\n",
       "      <td>Cochin</td>\n",
       "      <td>10.916667</td>\n",
       "      <td>1</td>\n",
       "      <td>06</td>\n",
       "      <td>Thursday</td>\n",
       "      <td>no_info</td>\n",
       "    </tr>\n",
       "    <tr>\n",
       "      <th>1</th>\n",
       "      <td>IndiGo</td>\n",
       "      <td>Kolkata</td>\n",
       "      <td>Banglore</td>\n",
       "      <td>4.000000</td>\n",
       "      <td>1</td>\n",
       "      <td>05</td>\n",
       "      <td>Sunday</td>\n",
       "      <td>no_info</td>\n",
       "    </tr>\n",
       "    <tr>\n",
       "      <th>2</th>\n",
       "      <td>Jet Airways</td>\n",
       "      <td>Delhi</td>\n",
       "      <td>Cochin</td>\n",
       "      <td>23.750000</td>\n",
       "      <td>1</td>\n",
       "      <td>05</td>\n",
       "      <td>Tuesday</td>\n",
       "      <td>no_meal</td>\n",
       "    </tr>\n",
       "    <tr>\n",
       "      <th>3</th>\n",
       "      <td>Multiple carriers</td>\n",
       "      <td>Delhi</td>\n",
       "      <td>Cochin</td>\n",
       "      <td>13.000000</td>\n",
       "      <td>1</td>\n",
       "      <td>05</td>\n",
       "      <td>Tuesday</td>\n",
       "      <td>no_info</td>\n",
       "    </tr>\n",
       "    <tr>\n",
       "      <th>4</th>\n",
       "      <td>Air Asia</td>\n",
       "      <td>Banglore</td>\n",
       "      <td>Delhi</td>\n",
       "      <td>2.833333</td>\n",
       "      <td>0</td>\n",
       "      <td>06</td>\n",
       "      <td>Monday</td>\n",
       "      <td>no_info</td>\n",
       "    </tr>\n",
       "  </tbody>\n",
       "</table>\n",
       "</div>"
      ],
      "text/plain": [
       "             Airline    Source Destination   Duration  Total_Stops Month  \\\n",
       "0        Jet Airways     Delhi      Cochin  10.916667            1    06   \n",
       "1             IndiGo   Kolkata    Banglore   4.000000            1    05   \n",
       "2        Jet Airways     Delhi      Cochin  23.750000            1    05   \n",
       "3  Multiple carriers     Delhi      Cochin  13.000000            1    05   \n",
       "4           Air Asia  Banglore       Delhi   2.833333            0    06   \n",
       "\n",
       "        Day     Info  \n",
       "0  Thursday  no_info  \n",
       "1    Sunday  no_info  \n",
       "2   Tuesday  no_meal  \n",
       "3   Tuesday  no_info  \n",
       "4    Monday  no_info  "
      ]
     },
     "execution_count": 145,
     "metadata": {},
     "output_type": "execute_result"
    }
   ],
   "source": [
    "test.head()"
   ]
  },
  {
   "cell_type": "code",
   "execution_count": 130,
   "id": "50e6be6d",
   "metadata": {},
   "outputs": [],
   "source": [
    "cat_test=test.select_dtypes(exclude='number')"
   ]
  },
  {
   "cell_type": "code",
   "execution_count": 131,
   "id": "410e15aa",
   "metadata": {},
   "outputs": [
    {
     "data": {
      "text/plain": [
       "Index(['Airline', 'Source', 'Destination', 'Month', 'Day', 'Info'], dtype='object')"
      ]
     },
     "execution_count": 131,
     "metadata": {},
     "output_type": "execute_result"
    }
   ],
   "source": [
    "cat_test.columns"
   ]
  },
  {
   "cell_type": "code",
   "execution_count": 132,
   "id": "0cf8467f",
   "metadata": {},
   "outputs": [],
   "source": [
    "num_test=df_wto.select_dtypes(include='number')"
   ]
  },
  {
   "cell_type": "code",
   "execution_count": 133,
   "id": "9de4f310",
   "metadata": {},
   "outputs": [
    {
     "data": {
      "text/plain": [
       "Index(['Duration', 'Total_Stops', 'Price'], dtype='object')"
      ]
     },
     "execution_count": 133,
     "metadata": {},
     "output_type": "execute_result"
    }
   ],
   "source": [
    "num_test.columns"
   ]
  },
  {
   "cell_type": "code",
   "execution_count": 134,
   "id": "29432a03",
   "metadata": {},
   "outputs": [
    {
     "data": {
      "text/html": [
       "<div>\n",
       "<style scoped>\n",
       "    .dataframe tbody tr th:only-of-type {\n",
       "        vertical-align: middle;\n",
       "    }\n",
       "\n",
       "    .dataframe tbody tr th {\n",
       "        vertical-align: top;\n",
       "    }\n",
       "\n",
       "    .dataframe thead th {\n",
       "        text-align: right;\n",
       "    }\n",
       "</style>\n",
       "<table border=\"1\" class=\"dataframe\">\n",
       "  <thead>\n",
       "    <tr style=\"text-align: right;\">\n",
       "      <th></th>\n",
       "      <th>Duration</th>\n",
       "      <th>Total_Stops</th>\n",
       "      <th>Airline_Air India</th>\n",
       "      <th>Airline_GoAir</th>\n",
       "      <th>Airline_IndiGo</th>\n",
       "      <th>Airline_Jet Airways</th>\n",
       "      <th>Airline_Multiple carriers</th>\n",
       "      <th>Airline_Other</th>\n",
       "      <th>Airline_SpiceJet</th>\n",
       "      <th>Airline_Vistara</th>\n",
       "      <th>Source_Chennai</th>\n",
       "      <th>Source_Delhi</th>\n",
       "      <th>Source_Kolkata</th>\n",
       "      <th>Source_Mumbai</th>\n",
       "      <th>Destination_Cochin</th>\n",
       "      <th>Destination_Delhi</th>\n",
       "      <th>Destination_Hyderabad</th>\n",
       "      <th>Destination_Kolkata</th>\n",
       "      <th>Destination_New Delhi</th>\n",
       "      <th>Month_04</th>\n",
       "      <th>Month_05</th>\n",
       "      <th>Month_06</th>\n",
       "      <th>Day_Monday</th>\n",
       "      <th>Day_Saturday</th>\n",
       "      <th>Day_Sunday</th>\n",
       "      <th>Day_Thursday</th>\n",
       "      <th>Day_Tuesday</th>\n",
       "      <th>Day_Wednesday</th>\n",
       "      <th>Info_no_meal</th>\n",
       "      <th>Info_others</th>\n",
       "    </tr>\n",
       "  </thead>\n",
       "  <tbody>\n",
       "    <tr>\n",
       "      <th>0</th>\n",
       "      <td>10.916667</td>\n",
       "      <td>1</td>\n",
       "      <td>0</td>\n",
       "      <td>0</td>\n",
       "      <td>0</td>\n",
       "      <td>1</td>\n",
       "      <td>0</td>\n",
       "      <td>0</td>\n",
       "      <td>0</td>\n",
       "      <td>0</td>\n",
       "      <td>0</td>\n",
       "      <td>1</td>\n",
       "      <td>0</td>\n",
       "      <td>0</td>\n",
       "      <td>1</td>\n",
       "      <td>0</td>\n",
       "      <td>0</td>\n",
       "      <td>0</td>\n",
       "      <td>0</td>\n",
       "      <td>0</td>\n",
       "      <td>0</td>\n",
       "      <td>1</td>\n",
       "      <td>0</td>\n",
       "      <td>0</td>\n",
       "      <td>0</td>\n",
       "      <td>1</td>\n",
       "      <td>0</td>\n",
       "      <td>0</td>\n",
       "      <td>0</td>\n",
       "      <td>0</td>\n",
       "    </tr>\n",
       "    <tr>\n",
       "      <th>1</th>\n",
       "      <td>4.000000</td>\n",
       "      <td>1</td>\n",
       "      <td>0</td>\n",
       "      <td>0</td>\n",
       "      <td>1</td>\n",
       "      <td>0</td>\n",
       "      <td>0</td>\n",
       "      <td>0</td>\n",
       "      <td>0</td>\n",
       "      <td>0</td>\n",
       "      <td>0</td>\n",
       "      <td>0</td>\n",
       "      <td>1</td>\n",
       "      <td>0</td>\n",
       "      <td>0</td>\n",
       "      <td>0</td>\n",
       "      <td>0</td>\n",
       "      <td>0</td>\n",
       "      <td>0</td>\n",
       "      <td>0</td>\n",
       "      <td>1</td>\n",
       "      <td>0</td>\n",
       "      <td>0</td>\n",
       "      <td>0</td>\n",
       "      <td>1</td>\n",
       "      <td>0</td>\n",
       "      <td>0</td>\n",
       "      <td>0</td>\n",
       "      <td>0</td>\n",
       "      <td>0</td>\n",
       "    </tr>\n",
       "    <tr>\n",
       "      <th>2</th>\n",
       "      <td>23.750000</td>\n",
       "      <td>1</td>\n",
       "      <td>0</td>\n",
       "      <td>0</td>\n",
       "      <td>0</td>\n",
       "      <td>1</td>\n",
       "      <td>0</td>\n",
       "      <td>0</td>\n",
       "      <td>0</td>\n",
       "      <td>0</td>\n",
       "      <td>0</td>\n",
       "      <td>1</td>\n",
       "      <td>0</td>\n",
       "      <td>0</td>\n",
       "      <td>1</td>\n",
       "      <td>0</td>\n",
       "      <td>0</td>\n",
       "      <td>0</td>\n",
       "      <td>0</td>\n",
       "      <td>0</td>\n",
       "      <td>1</td>\n",
       "      <td>0</td>\n",
       "      <td>0</td>\n",
       "      <td>0</td>\n",
       "      <td>0</td>\n",
       "      <td>0</td>\n",
       "      <td>1</td>\n",
       "      <td>0</td>\n",
       "      <td>1</td>\n",
       "      <td>0</td>\n",
       "    </tr>\n",
       "    <tr>\n",
       "      <th>3</th>\n",
       "      <td>13.000000</td>\n",
       "      <td>1</td>\n",
       "      <td>0</td>\n",
       "      <td>0</td>\n",
       "      <td>0</td>\n",
       "      <td>0</td>\n",
       "      <td>1</td>\n",
       "      <td>0</td>\n",
       "      <td>0</td>\n",
       "      <td>0</td>\n",
       "      <td>0</td>\n",
       "      <td>1</td>\n",
       "      <td>0</td>\n",
       "      <td>0</td>\n",
       "      <td>1</td>\n",
       "      <td>0</td>\n",
       "      <td>0</td>\n",
       "      <td>0</td>\n",
       "      <td>0</td>\n",
       "      <td>0</td>\n",
       "      <td>1</td>\n",
       "      <td>0</td>\n",
       "      <td>0</td>\n",
       "      <td>0</td>\n",
       "      <td>0</td>\n",
       "      <td>0</td>\n",
       "      <td>1</td>\n",
       "      <td>0</td>\n",
       "      <td>0</td>\n",
       "      <td>0</td>\n",
       "    </tr>\n",
       "    <tr>\n",
       "      <th>4</th>\n",
       "      <td>2.833333</td>\n",
       "      <td>0</td>\n",
       "      <td>0</td>\n",
       "      <td>0</td>\n",
       "      <td>0</td>\n",
       "      <td>0</td>\n",
       "      <td>0</td>\n",
       "      <td>0</td>\n",
       "      <td>0</td>\n",
       "      <td>0</td>\n",
       "      <td>0</td>\n",
       "      <td>0</td>\n",
       "      <td>0</td>\n",
       "      <td>0</td>\n",
       "      <td>0</td>\n",
       "      <td>1</td>\n",
       "      <td>0</td>\n",
       "      <td>0</td>\n",
       "      <td>0</td>\n",
       "      <td>0</td>\n",
       "      <td>0</td>\n",
       "      <td>1</td>\n",
       "      <td>1</td>\n",
       "      <td>0</td>\n",
       "      <td>0</td>\n",
       "      <td>0</td>\n",
       "      <td>0</td>\n",
       "      <td>0</td>\n",
       "      <td>0</td>\n",
       "      <td>0</td>\n",
       "    </tr>\n",
       "  </tbody>\n",
       "</table>\n",
       "</div>"
      ],
      "text/plain": [
       "    Duration  Total_Stops  Airline_Air India  Airline_GoAir  Airline_IndiGo  \\\n",
       "0  10.916667            1                  0              0               0   \n",
       "1   4.000000            1                  0              0               1   \n",
       "2  23.750000            1                  0              0               0   \n",
       "3  13.000000            1                  0              0               0   \n",
       "4   2.833333            0                  0              0               0   \n",
       "\n",
       "   Airline_Jet Airways  Airline_Multiple carriers  Airline_Other  \\\n",
       "0                    1                          0              0   \n",
       "1                    0                          0              0   \n",
       "2                    1                          0              0   \n",
       "3                    0                          1              0   \n",
       "4                    0                          0              0   \n",
       "\n",
       "   Airline_SpiceJet  Airline_Vistara  Source_Chennai  Source_Delhi  \\\n",
       "0                 0                0               0             1   \n",
       "1                 0                0               0             0   \n",
       "2                 0                0               0             1   \n",
       "3                 0                0               0             1   \n",
       "4                 0                0               0             0   \n",
       "\n",
       "   Source_Kolkata  Source_Mumbai  Destination_Cochin  Destination_Delhi  \\\n",
       "0               0              0                   1                  0   \n",
       "1               1              0                   0                  0   \n",
       "2               0              0                   1                  0   \n",
       "3               0              0                   1                  0   \n",
       "4               0              0                   0                  1   \n",
       "\n",
       "   Destination_Hyderabad  Destination_Kolkata  Destination_New Delhi  \\\n",
       "0                      0                    0                      0   \n",
       "1                      0                    0                      0   \n",
       "2                      0                    0                      0   \n",
       "3                      0                    0                      0   \n",
       "4                      0                    0                      0   \n",
       "\n",
       "   Month_04  Month_05  Month_06  Day_Monday  Day_Saturday  Day_Sunday  \\\n",
       "0         0         0         1           0             0           0   \n",
       "1         0         1         0           0             0           1   \n",
       "2         0         1         0           0             0           0   \n",
       "3         0         1         0           0             0           0   \n",
       "4         0         0         1           1             0           0   \n",
       "\n",
       "   Day_Thursday  Day_Tuesday  Day_Wednesday  Info_no_meal  Info_others  \n",
       "0             1            0              0             0            0  \n",
       "1             0            0              0             0            0  \n",
       "2             0            1              0             1            0  \n",
       "3             0            1              0             0            0  \n",
       "4             0            0              0             0            0  "
      ]
     },
     "execution_count": 134,
     "metadata": {},
     "output_type": "execute_result"
    }
   ],
   "source": [
    "test_en=pd.get_dummies(data=test , columns = cat_test.columns , drop_first=True )\n",
    "test_en.head(5)"
   ]
  },
  {
   "cell_type": "code",
   "execution_count": 135,
   "id": "bf99f126",
   "metadata": {},
   "outputs": [],
   "source": [
    "#Prediction Train\n",
    "predicted_price=automl.model.predict(test_en)"
   ]
  },
  {
   "cell_type": "code",
   "execution_count": 136,
   "id": "215638fd",
   "metadata": {},
   "outputs": [],
   "source": [
    "test_en['Price']=np.exp(predicted_price)"
   ]
  },
  {
   "cell_type": "code",
   "execution_count": 137,
   "id": "aa6abb3c",
   "metadata": {},
   "outputs": [
    {
     "data": {
      "text/plain": [
       "0    14414.760732\n",
       "1     8993.174890\n",
       "2    12970.397344\n",
       "3    10867.123934\n",
       "4     7950.385954\n",
       "Name: Price, dtype: float64"
      ]
     },
     "execution_count": 137,
     "metadata": {},
     "output_type": "execute_result"
    }
   ],
   "source": [
    "test_en['Price'].head()"
   ]
  }
 ],
 "metadata": {
  "kernelspec": {
   "display_name": "Python 3",
   "language": "python",
   "name": "python3"
  },
  "language_info": {
   "codemirror_mode": {
    "name": "ipython",
    "version": 3
   },
   "file_extension": ".py",
   "mimetype": "text/x-python",
   "name": "python",
   "nbconvert_exporter": "python",
   "pygments_lexer": "ipython3",
   "version": "3.8.8"
  }
 },
 "nbformat": 4,
 "nbformat_minor": 5
}
